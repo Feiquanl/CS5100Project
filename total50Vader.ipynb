{
  "nbformat": 4,
  "nbformat_minor": 0,
  "metadata": {
    "colab": {
      "provenance": [],
      "authorship_tag": "ABX9TyPH8XATlpBRYq+/z8kt+MBa",
      "include_colab_link": true
    },
    "kernelspec": {
      "name": "python3",
      "display_name": "Python 3"
    },
    "language_info": {
      "name": "python"
    },
    "widgets": {
      "application/vnd.jupyter.widget-state+json": {
        "20fcfb917fc144299ba285752b658ca6": {
          "model_module": "@jupyter-widgets/controls",
          "model_name": "HBoxModel",
          "model_module_version": "1.5.0",
          "state": {
            "_dom_classes": [],
            "_model_module": "@jupyter-widgets/controls",
            "_model_module_version": "1.5.0",
            "_model_name": "HBoxModel",
            "_view_count": null,
            "_view_module": "@jupyter-widgets/controls",
            "_view_module_version": "1.5.0",
            "_view_name": "HBoxView",
            "box_style": "",
            "children": [
              "IPY_MODEL_ac649b6d861f4af5bde1198d551a1b23",
              "IPY_MODEL_6d79ee8e96034ef7b30fcdf6a50f7f5d",
              "IPY_MODEL_654d1297d95e4bbb922014656755a01f"
            ],
            "layout": "IPY_MODEL_0d45a3b29f1f4ccba20da663ef593430"
          }
        },
        "ac649b6d861f4af5bde1198d551a1b23": {
          "model_module": "@jupyter-widgets/controls",
          "model_name": "HTMLModel",
          "model_module_version": "1.5.0",
          "state": {
            "_dom_classes": [],
            "_model_module": "@jupyter-widgets/controls",
            "_model_module_version": "1.5.0",
            "_model_name": "HTMLModel",
            "_view_count": null,
            "_view_module": "@jupyter-widgets/controls",
            "_view_module_version": "1.5.0",
            "_view_name": "HTMLView",
            "description": "",
            "description_tooltip": null,
            "layout": "IPY_MODEL_992004ad848e4bb78a1bebafd104ee6d",
            "placeholder": "​",
            "style": "IPY_MODEL_79e98c8c87d7415195db193a7bbae104",
            "value": "100%"
          }
        },
        "6d79ee8e96034ef7b30fcdf6a50f7f5d": {
          "model_module": "@jupyter-widgets/controls",
          "model_name": "FloatProgressModel",
          "model_module_version": "1.5.0",
          "state": {
            "_dom_classes": [],
            "_model_module": "@jupyter-widgets/controls",
            "_model_module_version": "1.5.0",
            "_model_name": "FloatProgressModel",
            "_view_count": null,
            "_view_module": "@jupyter-widgets/controls",
            "_view_module_version": "1.5.0",
            "_view_name": "ProgressView",
            "bar_style": "success",
            "description": "",
            "description_tooltip": null,
            "layout": "IPY_MODEL_4787106e37334dee977f69fd148d3f0c",
            "max": 43117,
            "min": 0,
            "orientation": "horizontal",
            "style": "IPY_MODEL_7ffff626bb3d4b8d93a306856d6f7762",
            "value": 43117
          }
        },
        "654d1297d95e4bbb922014656755a01f": {
          "model_module": "@jupyter-widgets/controls",
          "model_name": "HTMLModel",
          "model_module_version": "1.5.0",
          "state": {
            "_dom_classes": [],
            "_model_module": "@jupyter-widgets/controls",
            "_model_module_version": "1.5.0",
            "_model_name": "HTMLModel",
            "_view_count": null,
            "_view_module": "@jupyter-widgets/controls",
            "_view_module_version": "1.5.0",
            "_view_name": "HTMLView",
            "description": "",
            "description_tooltip": null,
            "layout": "IPY_MODEL_885e1320f087477fa9872fdd35074aca",
            "placeholder": "​",
            "style": "IPY_MODEL_e95c9168dfa64e3ca12d8b4d25544e08",
            "value": " 43117/43117 [00:40&lt;00:00, 1601.35it/s]"
          }
        },
        "0d45a3b29f1f4ccba20da663ef593430": {
          "model_module": "@jupyter-widgets/base",
          "model_name": "LayoutModel",
          "model_module_version": "1.2.0",
          "state": {
            "_model_module": "@jupyter-widgets/base",
            "_model_module_version": "1.2.0",
            "_model_name": "LayoutModel",
            "_view_count": null,
            "_view_module": "@jupyter-widgets/base",
            "_view_module_version": "1.2.0",
            "_view_name": "LayoutView",
            "align_content": null,
            "align_items": null,
            "align_self": null,
            "border": null,
            "bottom": null,
            "display": null,
            "flex": null,
            "flex_flow": null,
            "grid_area": null,
            "grid_auto_columns": null,
            "grid_auto_flow": null,
            "grid_auto_rows": null,
            "grid_column": null,
            "grid_gap": null,
            "grid_row": null,
            "grid_template_areas": null,
            "grid_template_columns": null,
            "grid_template_rows": null,
            "height": null,
            "justify_content": null,
            "justify_items": null,
            "left": null,
            "margin": null,
            "max_height": null,
            "max_width": null,
            "min_height": null,
            "min_width": null,
            "object_fit": null,
            "object_position": null,
            "order": null,
            "overflow": null,
            "overflow_x": null,
            "overflow_y": null,
            "padding": null,
            "right": null,
            "top": null,
            "visibility": null,
            "width": null
          }
        },
        "992004ad848e4bb78a1bebafd104ee6d": {
          "model_module": "@jupyter-widgets/base",
          "model_name": "LayoutModel",
          "model_module_version": "1.2.0",
          "state": {
            "_model_module": "@jupyter-widgets/base",
            "_model_module_version": "1.2.0",
            "_model_name": "LayoutModel",
            "_view_count": null,
            "_view_module": "@jupyter-widgets/base",
            "_view_module_version": "1.2.0",
            "_view_name": "LayoutView",
            "align_content": null,
            "align_items": null,
            "align_self": null,
            "border": null,
            "bottom": null,
            "display": null,
            "flex": null,
            "flex_flow": null,
            "grid_area": null,
            "grid_auto_columns": null,
            "grid_auto_flow": null,
            "grid_auto_rows": null,
            "grid_column": null,
            "grid_gap": null,
            "grid_row": null,
            "grid_template_areas": null,
            "grid_template_columns": null,
            "grid_template_rows": null,
            "height": null,
            "justify_content": null,
            "justify_items": null,
            "left": null,
            "margin": null,
            "max_height": null,
            "max_width": null,
            "min_height": null,
            "min_width": null,
            "object_fit": null,
            "object_position": null,
            "order": null,
            "overflow": null,
            "overflow_x": null,
            "overflow_y": null,
            "padding": null,
            "right": null,
            "top": null,
            "visibility": null,
            "width": null
          }
        },
        "79e98c8c87d7415195db193a7bbae104": {
          "model_module": "@jupyter-widgets/controls",
          "model_name": "DescriptionStyleModel",
          "model_module_version": "1.5.0",
          "state": {
            "_model_module": "@jupyter-widgets/controls",
            "_model_module_version": "1.5.0",
            "_model_name": "DescriptionStyleModel",
            "_view_count": null,
            "_view_module": "@jupyter-widgets/base",
            "_view_module_version": "1.2.0",
            "_view_name": "StyleView",
            "description_width": ""
          }
        },
        "4787106e37334dee977f69fd148d3f0c": {
          "model_module": "@jupyter-widgets/base",
          "model_name": "LayoutModel",
          "model_module_version": "1.2.0",
          "state": {
            "_model_module": "@jupyter-widgets/base",
            "_model_module_version": "1.2.0",
            "_model_name": "LayoutModel",
            "_view_count": null,
            "_view_module": "@jupyter-widgets/base",
            "_view_module_version": "1.2.0",
            "_view_name": "LayoutView",
            "align_content": null,
            "align_items": null,
            "align_self": null,
            "border": null,
            "bottom": null,
            "display": null,
            "flex": null,
            "flex_flow": null,
            "grid_area": null,
            "grid_auto_columns": null,
            "grid_auto_flow": null,
            "grid_auto_rows": null,
            "grid_column": null,
            "grid_gap": null,
            "grid_row": null,
            "grid_template_areas": null,
            "grid_template_columns": null,
            "grid_template_rows": null,
            "height": null,
            "justify_content": null,
            "justify_items": null,
            "left": null,
            "margin": null,
            "max_height": null,
            "max_width": null,
            "min_height": null,
            "min_width": null,
            "object_fit": null,
            "object_position": null,
            "order": null,
            "overflow": null,
            "overflow_x": null,
            "overflow_y": null,
            "padding": null,
            "right": null,
            "top": null,
            "visibility": null,
            "width": null
          }
        },
        "7ffff626bb3d4b8d93a306856d6f7762": {
          "model_module": "@jupyter-widgets/controls",
          "model_name": "ProgressStyleModel",
          "model_module_version": "1.5.0",
          "state": {
            "_model_module": "@jupyter-widgets/controls",
            "_model_module_version": "1.5.0",
            "_model_name": "ProgressStyleModel",
            "_view_count": null,
            "_view_module": "@jupyter-widgets/base",
            "_view_module_version": "1.2.0",
            "_view_name": "StyleView",
            "bar_color": null,
            "description_width": ""
          }
        },
        "885e1320f087477fa9872fdd35074aca": {
          "model_module": "@jupyter-widgets/base",
          "model_name": "LayoutModel",
          "model_module_version": "1.2.0",
          "state": {
            "_model_module": "@jupyter-widgets/base",
            "_model_module_version": "1.2.0",
            "_model_name": "LayoutModel",
            "_view_count": null,
            "_view_module": "@jupyter-widgets/base",
            "_view_module_version": "1.2.0",
            "_view_name": "LayoutView",
            "align_content": null,
            "align_items": null,
            "align_self": null,
            "border": null,
            "bottom": null,
            "display": null,
            "flex": null,
            "flex_flow": null,
            "grid_area": null,
            "grid_auto_columns": null,
            "grid_auto_flow": null,
            "grid_auto_rows": null,
            "grid_column": null,
            "grid_gap": null,
            "grid_row": null,
            "grid_template_areas": null,
            "grid_template_columns": null,
            "grid_template_rows": null,
            "height": null,
            "justify_content": null,
            "justify_items": null,
            "left": null,
            "margin": null,
            "max_height": null,
            "max_width": null,
            "min_height": null,
            "min_width": null,
            "object_fit": null,
            "object_position": null,
            "order": null,
            "overflow": null,
            "overflow_x": null,
            "overflow_y": null,
            "padding": null,
            "right": null,
            "top": null,
            "visibility": null,
            "width": null
          }
        },
        "e95c9168dfa64e3ca12d8b4d25544e08": {
          "model_module": "@jupyter-widgets/controls",
          "model_name": "DescriptionStyleModel",
          "model_module_version": "1.5.0",
          "state": {
            "_model_module": "@jupyter-widgets/controls",
            "_model_module_version": "1.5.0",
            "_model_name": "DescriptionStyleModel",
            "_view_count": null,
            "_view_module": "@jupyter-widgets/base",
            "_view_module_version": "1.2.0",
            "_view_name": "StyleView",
            "description_width": ""
          }
        }
      }
    }
  },
  "cells": [
    {
      "cell_type": "markdown",
      "metadata": {
        "id": "view-in-github",
        "colab_type": "text"
      },
      "source": [
        "<a href=\"https://colab.research.google.com/github/Feiquanl/CS5100Project/blob/main/total50Vader.ipynb\" target=\"_parent\"><img src=\"https://colab.research.google.com/assets/colab-badge.svg\" alt=\"Open In Colab\"/></a>"
      ]
    },
    {
      "cell_type": "code",
      "execution_count": 65,
      "metadata": {
        "colab": {
          "base_uri": "https://localhost:8080/"
        },
        "id": "aw8nMIjsetFt",
        "outputId": "e41ed993-6ea9-48c0-a502-40f7cba91271"
      },
      "outputs": [
        {
          "output_type": "stream",
          "name": "stderr",
          "text": [
            "[nltk_data] Downloading package punkt to /root/nltk_data...\n",
            "[nltk_data]   Package punkt is already up-to-date!\n",
            "[nltk_data] Downloading package averaged_perceptron_tagger to\n",
            "[nltk_data]     /root/nltk_data...\n",
            "[nltk_data]   Package averaged_perceptron_tagger is already up-to-\n",
            "[nltk_data]       date!\n",
            "[nltk_data] Downloading package maxent_ne_chunker to\n",
            "[nltk_data]     /root/nltk_data...\n",
            "[nltk_data]   Package maxent_ne_chunker is already up-to-date!\n",
            "[nltk_data] Downloading package words to /root/nltk_data...\n",
            "[nltk_data]   Package words is already up-to-date!\n",
            "[nltk_data] Downloading package vader_lexicon to /root/nltk_data...\n",
            "[nltk_data]   Package vader_lexicon is already up-to-date!\n"
          ]
        },
        {
          "output_type": "execute_result",
          "data": {
            "text/plain": [
              "True"
            ]
          },
          "metadata": {},
          "execution_count": 65
        }
      ],
      "source": [
        "import pandas as pd\n",
        "import numpy as np\n",
        "import matplotlib.pyplot as plt\n",
        "import seaborn as sns\n",
        "from transformers import pipeline\n",
        "\n",
        "plt.style.use('ggplot')\n",
        "\n",
        "import nltk\n",
        "nltk.download('punkt')\n",
        "nltk.download('averaged_perceptron_tagger')\n",
        "nltk.download('maxent_ne_chunker')\n",
        "nltk.download('words')\n",
        "nltk.download('vader_lexicon')"
      ]
    },
    {
      "cell_type": "code",
      "source": [
        "# Read in data\n",
        "df = pd.read_csv(\"Book_1_50.csv\")\n",
        "print(df.shape)\n",
        "#df = df.head(500)\n",
        "columns_to_check=[\"reviewText\",\"summary\"]\n",
        "df = df.dropna(subset=columns_to_check)\n",
        "print(df.shape)"
      ],
      "metadata": {
        "colab": {
          "base_uri": "https://localhost:8080/"
        },
        "id": "QmM1o9-Ge9ts",
        "outputId": "9658dff2-5720-45f0-e032-9c1a9fad81a8"
      },
      "execution_count": 66,
      "outputs": [
        {
          "output_type": "stream",
          "name": "stdout",
          "text": [
            "(43148, 12)\n",
            "(43117, 12)\n"
          ]
        }
      ]
    },
    {
      "cell_type": "code",
      "source": [
        "\n",
        "# Now, count the occurrences of each unique value in the 'overall' column of the filtered DataFrame\n",
        "# and then sort these counts based on the index, which in this case is the review rating value itself.\n",
        "ax = df['overall'].value_counts().sort_index() \\\n",
        "    .plot(kind='bar',  # Plot the counts as a bar chart.\n",
        "          title=f'Count of Reviews by Stars',  # Set the title of the plot, including the ASIN.\n",
        "          figsize=(10, 5))  # Set the size of the plot to 10 inches wide by 5 inches tall.\n",
        "\n",
        "# Set the label for the x-axis of the plot to 'Review Stars'.\n",
        "ax.set_xlabel('Review Stars')\n",
        "\n",
        "# Display the plot.\n",
        "plt.show()"
      ],
      "metadata": {
        "colab": {
          "base_uri": "https://localhost:8080/",
          "height": 500
        },
        "id": "wH7-2JQnfFNP",
        "outputId": "95871bab-9102-4c41-9991-de9276ddc2e3"
      },
      "execution_count": 67,
      "outputs": [
        {
          "output_type": "display_data",
          "data": {
            "text/plain": [
              "<Figure size 1000x500 with 1 Axes>"
            ],
            "image/png": "[encoded data removed]"
          },
          "metadata": {}
        }
      ]
    },
    {
      "cell_type": "code",
      "source": [
        "#Extract one book to an new df and reset the index to start from 0\n",
        "new_df=df.copy()\n",
        "new_df = new_df.reset_index(drop=True)\n",
        "# Reset the index and add the old index as a new column called 'ID'\n",
        "# Add a new column to new_df and  start IDs from 1 instead of 0\n",
        "new_df['Id'] = range(1, len(new_df) + 1)\n",
        "print(new_df.head())\n",
        "#print(new_df.shape)\n",
        "example =new_df['reviewText'][50]\n",
        "print(example)"
      ],
      "metadata": {
        "colab": {
          "base_uri": "https://localhost:8080/"
        },
        "id": "-yZgmVudf2Ni",
        "outputId": "91c70f7f-4199-4b98-b3fe-ede65ae4cf32"
      },
      "execution_count": 68,
      "outputs": [
        {
          "output_type": "stream",
          "name": "stdout",
          "text": [
            "   overall  verified   reviewTime      reviewerID        asin  \\\n",
            "0      4.0      True   04 5, 2018  A3OFV8AGCZBR4Q  0061900621   \n",
            "1      5.0      True  03 20, 2018   AFRZEPUFQ5MMC  0061900621   \n",
            "2      5.0      True   03 7, 2018  A1S1CPDH3FQJGW  0061900621   \n",
            "3      5.0      True   02 6, 2018   AV4H0HWXRJN7C  0061900621   \n",
            "4      5.0      True  01 25, 2018   AGQHMKOP1I3DL  0061900621   \n",
            "\n",
            "                       style      reviewerName  \\\n",
            "0  {'Format:': ' Hardcover'}    Marko Petrovic   \n",
            "1  {'Format:': ' Hardcover'}         Mr. Frank   \n",
            "2  {'Format:': ' Hardcover'}             TMH21   \n",
            "3  {'Format:': ' Hardcover'}              Sara   \n",
            "4  {'Format:': ' Paperback'}  Nancy Blaskewicz   \n",
            "\n",
            "                                          reviewText  \\\n",
            "0  My first born daughter loves this book and enj...   \n",
            "1                                   daughter like it   \n",
            "2  I gave this book to a two and a half year old ...   \n",
            "3  My daughter loves babies and telling her shes ...   \n",
            "4  This is the perfect book to give to a little g...   \n",
            "\n",
            "                                  summary  unixReviewTime vote image  Id  \n",
            "0               Big sissy loves this book      1522886400  NaN   NaN   1  \n",
            "1                              Five Stars      1521504000  NaN   NaN   2  \n",
            "2                           A great gift.      1520380800  NaN   NaN   3  \n",
            "3                         Big sister hit.      1517875200  NaN   NaN   4  \n",
            "4  Good book when a new baby is expected.      1516838400  NaN   NaN   5  \n",
            "Decent read for kids who are about to get a baby\n"
          ]
        }
      ]
    },
    {
      "cell_type": "code",
      "source": [
        "nltk.download('punkt')\n",
        "tokens = nltk.word_tokenize(example)\n",
        "tokens[:10]"
      ],
      "metadata": {
        "colab": {
          "base_uri": "https://localhost:8080/"
        },
        "id": "XZr2DJqcf9Jd",
        "outputId": "decae608-036e-4317-9839-8a8197810270"
      },
      "execution_count": 69,
      "outputs": [
        {
          "output_type": "stream",
          "name": "stderr",
          "text": [
            "[nltk_data] Downloading package punkt to /root/nltk_data...\n",
            "[nltk_data]   Package punkt is already up-to-date!\n"
          ]
        },
        {
          "output_type": "execute_result",
          "data": {
            "text/plain": [
              "['Decent', 'read', 'for', 'kids', 'who', 'are', 'about', 'to', 'get', 'a']"
            ]
          },
          "metadata": {},
          "execution_count": 69
        }
      ]
    },
    {
      "cell_type": "code",
      "source": [
        "nltk.download('averaged_perceptron_tagger')\n",
        "tagged = nltk.pos_tag(tokens)\n",
        "tagged[:10]"
      ],
      "metadata": {
        "colab": {
          "base_uri": "https://localhost:8080/"
        },
        "id": "4Yb4OeYzgAK9",
        "outputId": "79be28df-dbdd-4768-e5ce-84af25b4625d"
      },
      "execution_count": 70,
      "outputs": [
        {
          "output_type": "stream",
          "name": "stderr",
          "text": [
            "[nltk_data] Downloading package averaged_perceptron_tagger to\n",
            "[nltk_data]     /root/nltk_data...\n",
            "[nltk_data]   Package averaged_perceptron_tagger is already up-to-\n",
            "[nltk_data]       date!\n"
          ]
        },
        {
          "output_type": "execute_result",
          "data": {
            "text/plain": [
              "[('Decent', 'NNP'),\n",
              " ('read', 'NN'),\n",
              " ('for', 'IN'),\n",
              " ('kids', 'NNS'),\n",
              " ('who', 'WP'),\n",
              " ('are', 'VBP'),\n",
              " ('about', 'IN'),\n",
              " ('to', 'TO'),\n",
              " ('get', 'VB'),\n",
              " ('a', 'DT')]"
            ]
          },
          "metadata": {},
          "execution_count": 70
        }
      ]
    },
    {
      "cell_type": "code",
      "source": [
        "nltk.download('maxent_ne_chunker')\n",
        "nltk.download('words')\n",
        "entities = nltk.chunk.ne_chunk(tagged)\n",
        "entities.pprint()"
      ],
      "metadata": {
        "colab": {
          "base_uri": "https://localhost:8080/"
        },
        "id": "3yoIFuLOgCUd",
        "outputId": "b7f038f6-e68e-4e76-f295-191ea3971174"
      },
      "execution_count": 71,
      "outputs": [
        {
          "output_type": "stream",
          "name": "stdout",
          "text": [
            "(S\n",
            "  (GPE Decent/NNP)\n",
            "  read/NN\n",
            "  for/IN\n",
            "  kids/NNS\n",
            "  who/WP\n",
            "  are/VBP\n",
            "  about/IN\n",
            "  to/TO\n",
            "  get/VB\n",
            "  a/DT\n",
            "  baby/NN)\n"
          ]
        },
        {
          "output_type": "stream",
          "name": "stderr",
          "text": [
            "[nltk_data] Downloading package maxent_ne_chunker to\n",
            "[nltk_data]     /root/nltk_data...\n",
            "[nltk_data]   Package maxent_ne_chunker is already up-to-date!\n",
            "[nltk_data] Downloading package words to /root/nltk_data...\n",
            "[nltk_data]   Package words is already up-to-date!\n"
          ]
        }
      ]
    },
    {
      "cell_type": "code",
      "source": [
        "nltk.download('vader_lexicon')\n",
        "from nltk.sentiment import SentimentIntensityAnalyzer\n",
        "from tqdm.notebook import tqdm\n",
        "\n",
        "sia = SentimentIntensityAnalyzer()"
      ],
      "metadata": {
        "colab": {
          "base_uri": "https://localhost:8080/"
        },
        "id": "6zH08b4ngFa6",
        "outputId": "79c2d38b-ab17-4368-9424-839ff77fba6b"
      },
      "execution_count": 72,
      "outputs": [
        {
          "output_type": "stream",
          "name": "stderr",
          "text": [
            "[nltk_data] Downloading package vader_lexicon to /root/nltk_data...\n",
            "[nltk_data]   Package vader_lexicon is already up-to-date!\n"
          ]
        }
      ]
    },
    {
      "cell_type": "code",
      "source": [
        "# Run the polarity score on the 50 books\n",
        "res = {}\n",
        "for i, row in tqdm(new_df.iterrows(), total=len(new_df)):\n",
        "    text = row['reviewText']\n",
        "    id = row['Id']\n",
        "    res[id] = sia.polarity_scores(text)\n",
        "for idx, (key, value) in enumerate(res.items()):\n",
        "    if idx < 3:  # Check to print only the first 3 items\n",
        "        print(f\"ID: {key}, Scores: {value}\")"
      ],
      "metadata": {
        "colab": {
          "base_uri": "https://localhost:8080/",
          "height": 101,
          "referenced_widgets": [
            "20fcfb917fc144299ba285752b658ca6",
            "ac649b6d861f4af5bde1198d551a1b23",
            "6d79ee8e96034ef7b30fcdf6a50f7f5d",
            "654d1297d95e4bbb922014656755a01f",
            "0d45a3b29f1f4ccba20da663ef593430",
            "992004ad848e4bb78a1bebafd104ee6d",
            "79e98c8c87d7415195db193a7bbae104",
            "4787106e37334dee977f69fd148d3f0c",
            "7ffff626bb3d4b8d93a306856d6f7762",
            "885e1320f087477fa9872fdd35074aca",
            "e95c9168dfa64e3ca12d8b4d25544e08"
          ]
        },
        "id": "FCBbGtjIgIlZ",
        "outputId": "94f38677-0ac6-45a9-8921-dc372eb5a553"
      },
      "execution_count": 73,
      "outputs": [
        {
          "output_type": "display_data",
          "data": {
            "text/plain": [
              "  0%|          | 0/43117 [00:00<?, ?it/s]"
            ],
            "application/vnd.jupyter.widget-view+json": {
              "version_major": 2,
              "version_minor": 0,
              "model_id": "20fcfb917fc144299ba285752b658ca6"
            }
          },
          "metadata": {}
        },
        {
          "output_type": "stream",
          "name": "stdout",
          "text": [
            "ID: 1, Scores: {'neg': 0.0, 'neu': 0.696, 'pos': 0.304, 'compound': 0.7906}\n",
            "ID: 2, Scores: {'neg': 0.0, 'neu': 0.444, 'pos': 0.556, 'compound': 0.3612}\n",
            "ID: 3, Scores: {'neg': 0.0, 'neu': 0.895, 'pos': 0.105, 'compound': 0.4019}\n"
          ]
        }
      ]
    },
    {
      "cell_type": "code",
      "source": [
        "vaders = pd.DataFrame(res).T\n",
        "vaders = vaders.reset_index().rename(columns={'index': 'Id'})\n",
        "vaders = vaders.merge(new_df, how='left')"
      ],
      "metadata": {
        "id": "Dj68idxagZ5f"
      },
      "execution_count": 74,
      "outputs": []
    },
    {
      "cell_type": "code",
      "source": [
        "# Now we have sentiment score and metadata\n",
        "vaders.head()"
      ],
      "metadata": {
        "colab": {
          "base_uri": "https://localhost:8080/",
          "height": 573
        },
        "id": "SPZp5ul4geuL",
        "outputId": "6acad593-38ac-4673-af2e-3ecacbbd5027"
      },
      "execution_count": 75,
      "outputs": [
        {
          "output_type": "execute_result",
          "data": {
            "text/plain": [
              "   Id    neg    neu    pos  compound  overall  verified   reviewTime  \\\n",
              "0   1  0.000  0.696  0.304    0.7906      4.0      True   04 5, 2018   \n",
              "1   2  0.000  0.444  0.556    0.3612      5.0      True  03 20, 2018   \n",
              "2   3  0.000  0.895  0.105    0.4019      5.0      True   03 7, 2018   \n",
              "3   4  0.000  0.680  0.320    0.9056      5.0      True   02 6, 2018   \n",
              "4   5  0.079  0.683  0.237    0.6597      5.0      True  01 25, 2018   \n",
              "\n",
              "       reviewerID        asin                      style      reviewerName  \\\n",
              "0  A3OFV8AGCZBR4Q  0061900621  {'Format:': ' Hardcover'}    Marko Petrovic   \n",
              "1   AFRZEPUFQ5MMC  0061900621  {'Format:': ' Hardcover'}         Mr. Frank   \n",
              "2  A1S1CPDH3FQJGW  0061900621  {'Format:': ' Hardcover'}             TMH21   \n",
              "3   AV4H0HWXRJN7C  0061900621  {'Format:': ' Hardcover'}              Sara   \n",
              "4   AGQHMKOP1I3DL  0061900621  {'Format:': ' Paperback'}  Nancy Blaskewicz   \n",
              "\n",
              "                                          reviewText  \\\n",
              "0  My first born daughter loves this book and enj...   \n",
              "1                                   daughter like it   \n",
              "2  I gave this book to a two and a half year old ...   \n",
              "3  My daughter loves babies and telling her shes ...   \n",
              "4  This is the perfect book to give to a little g...   \n",
              "\n",
              "                                  summary  unixReviewTime vote image  \n",
              "0               Big sissy loves this book      1522886400  NaN   NaN  \n",
              "1                              Five Stars      1521504000  NaN   NaN  \n",
              "2                           A great gift.      1520380800  NaN   NaN  \n",
              "3                         Big sister hit.      1517875200  NaN   NaN  \n",
              "4  Good book when a new baby is expected.      1516838400  NaN   NaN  "
            ],
            "text/html": [
              "\n",
              "  <div id=\"df-461ee009-a3de-492e-820c-02f2f0be6973\" class=\"colab-df-container\">\n",
              "    <div>\n",
              "<style scoped>\n",
              "    .dataframe tbody tr th:only-of-type {\n",
              "        vertical-align: middle;\n",
              "    }\n",
              "\n",
              "    .dataframe tbody tr th {\n",
              "        vertical-align: top;\n",
              "    }\n",
              "\n",
              "    .dataframe thead th {\n",
              "        text-align: right;\n",
              "    }\n",
              "</style>\n",
              "<table border=\"1\" class=\"dataframe\">\n",
              "  <thead>\n",
              "    <tr style=\"text-align: right;\">\n",
              "      <th></th>\n",
              "      <th>Id</th>\n",
              "      <th>neg</th>\n",
              "      <th>neu</th>\n",
              "      <th>pos</th>\n",
              "      <th>compound</th>\n",
              "      <th>overall</th>\n",
              "      <th>verified</th>\n",
              "      <th>reviewTime</th>\n",
              "      <th>reviewerID</th>\n",
              "      <th>asin</th>\n",
              "      <th>style</th>\n",
              "      <th>reviewerName</th>\n",
              "      <th>reviewText</th>\n",
              "      <th>summary</th>\n",
              "      <th>unixReviewTime</th>\n",
              "      <th>vote</th>\n",
              "      <th>image</th>\n",
              "    </tr>\n",
              "  </thead>\n",
              "  <tbody>\n",
              "    <tr>\n",
              "      <th>0</th>\n",
              "      <td>1</td>\n",
              "      <td>0.000</td>\n",
              "      <td>0.696</td>\n",
              "      <td>0.304</td>\n",
              "      <td>0.7906</td>\n",
              "      <td>4.0</td>\n",
              "      <td>True</td>\n",
              "      <td>04 5, 2018</td>\n",
              "      <td>A3OFV8AGCZBR4Q</td>\n",
              "      <td>0061900621</td>\n",
              "      <td>{'Format:': ' Hardcover'}</td>\n",
              "      <td>Marko Petrovic</td>\n",
              "      <td>My first born daughter loves this book and enj...</td>\n",
              "      <td>Big sissy loves this book</td>\n",
              "      <td>1522886400</td>\n",
              "      <td>NaN</td>\n",
              "      <td>NaN</td>\n",
              "    </tr>\n",
              "    <tr>\n",
              "      <th>1</th>\n",
              "      <td>2</td>\n",
              "      <td>0.000</td>\n",
              "      <td>0.444</td>\n",
              "      <td>0.556</td>\n",
              "      <td>0.3612</td>\n",
              "      <td>5.0</td>\n",
              "      <td>True</td>\n",
              "      <td>03 20, 2018</td>\n",
              "      <td>AFRZEPUFQ5MMC</td>\n",
              "      <td>0061900621</td>\n",
              "      <td>{'Format:': ' Hardcover'}</td>\n",
              "      <td>Mr. Frank</td>\n",
              "      <td>daughter like it</td>\n",
              "      <td>Five Stars</td>\n",
              "      <td>1521504000</td>\n",
              "      <td>NaN</td>\n",
              "      <td>NaN</td>\n",
              "    </tr>\n",
              "    <tr>\n",
              "      <th>2</th>\n",
              "      <td>3</td>\n",
              "      <td>0.000</td>\n",
              "      <td>0.895</td>\n",
              "      <td>0.105</td>\n",
              "      <td>0.4019</td>\n",
              "      <td>5.0</td>\n",
              "      <td>True</td>\n",
              "      <td>03 7, 2018</td>\n",
              "      <td>A1S1CPDH3FQJGW</td>\n",
              "      <td>0061900621</td>\n",
              "      <td>{'Format:': ' Hardcover'}</td>\n",
              "      <td>TMH21</td>\n",
              "      <td>I gave this book to a two and a half year old ...</td>\n",
              "      <td>A great gift.</td>\n",
              "      <td>1520380800</td>\n",
              "      <td>NaN</td>\n",
              "      <td>NaN</td>\n",
              "    </tr>\n",
              "    <tr>\n",
              "      <th>3</th>\n",
              "      <td>4</td>\n",
              "      <td>0.000</td>\n",
              "      <td>0.680</td>\n",
              "      <td>0.320</td>\n",
              "      <td>0.9056</td>\n",
              "      <td>5.0</td>\n",
              "      <td>True</td>\n",
              "      <td>02 6, 2018</td>\n",
              "      <td>AV4H0HWXRJN7C</td>\n",
              "      <td>0061900621</td>\n",
              "      <td>{'Format:': ' Hardcover'}</td>\n",
              "      <td>Sara</td>\n",
              "      <td>My daughter loves babies and telling her shes ...</td>\n",
              "      <td>Big sister hit.</td>\n",
              "      <td>1517875200</td>\n",
              "      <td>NaN</td>\n",
              "      <td>NaN</td>\n",
              "    </tr>\n",
              "    <tr>\n",
              "      <th>4</th>\n",
              "      <td>5</td>\n",
              "      <td>0.079</td>\n",
              "      <td>0.683</td>\n",
              "      <td>0.237</td>\n",
              "      <td>0.6597</td>\n",
              "      <td>5.0</td>\n",
              "      <td>True</td>\n",
              "      <td>01 25, 2018</td>\n",
              "      <td>AGQHMKOP1I3DL</td>\n",
              "      <td>0061900621</td>\n",
              "      <td>{'Format:': ' Paperback'}</td>\n",
              "      <td>Nancy Blaskewicz</td>\n",
              "      <td>This is the perfect book to give to a little g...</td>\n",
              "      <td>Good book when a new baby is expected.</td>\n",
              "      <td>1516838400</td>\n",
              "      <td>NaN</td>\n",
              "      <td>NaN</td>\n",
              "    </tr>\n",
              "  </tbody>\n",
              "</table>\n",
              "</div>\n",
              "    <div class=\"colab-df-buttons\">\n",
              "\n",
              "  <div class=\"colab-df-container\">\n",
              "    <button class=\"colab-df-convert\" onclick=\"convertToInteractive('df-461ee009-a3de-492e-820c-02f2f0be6973')\"\n",
              "            title=\"Convert this dataframe to an interactive table.\"\n",
              "            style=\"display:none;\">\n",
              "\n",
              "  <svg xmlns=\"http://www.w3.org/2000/svg\" height=\"24px\" viewBox=\"0 -960 960 960\">\n",
              "    <path d=\"M120-120v-720h720v720H120Zm60-500h600v-160H180v160Zm220 220h160v-160H400v160Zm0 220h160v-160H400v160ZM180-400h160v-160H180v160Zm440 0h160v-160H620v160ZM180-180h160v-160H180v160Zm440 0h160v-160H620v160Z\"/>\n",
              "  </svg>\n",
              "    </button>\n",
              "\n",
              "  <style>\n",
              "    .colab-df-container {\n",
              "      display:flex;\n",
              "      gap: 12px;\n",
              "    }\n",
              "\n",
              "    .colab-df-convert {\n",
              "      background-color: #E8F0FE;\n",
              "      border: none;\n",
              "      border-radius: 50%;\n",
              "      cursor: pointer;\n",
              "      display: none;\n",
              "      fill: #1967D2;\n",
              "      height: 32px;\n",
              "      padding: 0 0 0 0;\n",
              "      width: 32px;\n",
              "    }\n",
              "\n",
              "    .colab-df-convert:hover {\n",
              "      background-color: #E2EBFA;\n",
              "      box-shadow: 0px 1px 2px rgba(60, 64, 67, 0.3), 0px 1px 3px 1px rgba(60, 64, 67, 0.15);\n",
              "      fill: #174EA6;\n",
              "    }\n",
              "\n",
              "    .colab-df-buttons div {\n",
              "      margin-bottom: 4px;\n",
              "    }\n",
              "\n",
              "    [theme=dark] .colab-df-convert {\n",
              "      background-color: #3B4455;\n",
              "      fill: #D2E3FC;\n",
              "    }\n",
              "\n",
              "    [theme=dark] .colab-df-convert:hover {\n",
              "      background-color: #434B5C;\n",
              "      box-shadow: 0px 1px 3px 1px rgba(0, 0, 0, 0.15);\n",
              "      filter: drop-shadow(0px 1px 2px rgba(0, 0, 0, 0.3));\n",
              "      fill: #FFFFFF;\n",
              "    }\n",
              "  </style>\n",
              "\n",
              "    <script>\n",
              "      const buttonEl =\n",
              "        document.querySelector('#df-461ee009-a3de-492e-820c-02f2f0be6973 button.colab-df-convert');\n",
              "      buttonEl.style.display =\n",
              "        google.colab.kernel.accessAllowed ? 'block' : 'none';\n",
              "\n",
              "      async function convertToInteractive(key) {\n",
              "        const element = document.querySelector('#df-461ee009-a3de-492e-820c-02f2f0be6973');\n",
              "        const dataTable =\n",
              "          await google.colab.kernel.invokeFunction('convertToInteractive',\n",
              "                                                    [key], {});\n",
              "        if (!dataTable) return;\n",
              "\n",
              "        const docLinkHtml = 'Like what you see? Visit the ' +\n",
              "          '<a target=\"_blank\" href=https://colab.research.google.com/notebooks/data_table.ipynb>data table notebook</a>'\n",
              "          + ' to learn more about interactive tables.';\n",
              "        element.innerHTML = '';\n",
              "        dataTable['output_type'] = 'display_data';\n",
              "        await google.colab.output.renderOutput(dataTable, element);\n",
              "        const docLink = document.createElement('div');\n",
              "        docLink.innerHTML = docLinkHtml;\n",
              "        element.appendChild(docLink);\n",
              "      }\n",
              "    </script>\n",
              "  </div>\n",
              "\n",
              "\n",
              "<div id=\"df-fe34adda-639e-4c15-94eb-e0c608e48fdc\">\n",
              "  <button class=\"colab-df-quickchart\" onclick=\"quickchart('df-fe34adda-639e-4c15-94eb-e0c608e48fdc')\"\n",
              "            title=\"Suggest charts\"\n",
              "            style=\"display:none;\">\n",
              "\n",
              "<svg xmlns=\"http://www.w3.org/2000/svg\" height=\"24px\"viewBox=\"0 0 24 24\"\n",
              "     width=\"24px\">\n",
              "    <g>\n",
              "        <path d=\"M19 3H5c-1.1 0-2 .9-2 2v14c0 1.1.9 2 2 2h14c1.1 0 2-.9 2-2V5c0-1.1-.9-2-2-2zM9 17H7v-7h2v7zm4 0h-2V7h2v10zm4 0h-2v-4h2v4z\"/>\n",
              "    </g>\n",
              "</svg>\n",
              "  </button>\n",
              "\n",
              "<style>\n",
              "  .colab-df-quickchart {\n",
              "      --bg-color: #E8F0FE;\n",
              "      --fill-color: #1967D2;\n",
              "      --hover-bg-color: #E2EBFA;\n",
              "      --hover-fill-color: #174EA6;\n",
              "      --disabled-fill-color: #AAA;\n",
              "      --disabled-bg-color: #DDD;\n",
              "  }\n",
              "\n",
              "  [theme=dark] .colab-df-quickchart {\n",
              "      --bg-color: #3B4455;\n",
              "      --fill-color: #D2E3FC;\n",
              "      --hover-bg-color: #434B5C;\n",
              "      --hover-fill-color: #FFFFFF;\n",
              "      --disabled-bg-color: #3B4455;\n",
              "      --disabled-fill-color: #666;\n",
              "  }\n",
              "\n",
              "  .colab-df-quickchart {\n",
              "    background-color: var(--bg-color);\n",
              "    border: none;\n",
              "    border-radius: 50%;\n",
              "    cursor: pointer;\n",
              "    display: none;\n",
              "    fill: var(--fill-color);\n",
              "    height: 32px;\n",
              "    padding: 0;\n",
              "    width: 32px;\n",
              "  }\n",
              "\n",
              "  .colab-df-quickchart:hover {\n",
              "    background-color: var(--hover-bg-color);\n",
              "    box-shadow: 0 1px 2px rgba(60, 64, 67, 0.3), 0 1px 3px 1px rgba(60, 64, 67, 0.15);\n",
              "    fill: var(--button-hover-fill-color);\n",
              "  }\n",
              "\n",
              "  .colab-df-quickchart-complete:disabled,\n",
              "  .colab-df-quickchart-complete:disabled:hover {\n",
              "    background-color: var(--disabled-bg-color);\n",
              "    fill: var(--disabled-fill-color);\n",
              "    box-shadow: none;\n",
              "  }\n",
              "\n",
              "  .colab-df-spinner {\n",
              "    border: 2px solid var(--fill-color);\n",
              "    border-color: transparent;\n",
              "    border-bottom-color: var(--fill-color);\n",
              "    animation:\n",
              "      spin 1s steps(1) infinite;\n",
              "  }\n",
              "\n",
              "  @keyframes spin {\n",
              "    0% {\n",
              "      border-color: transparent;\n",
              "      border-bottom-color: var(--fill-color);\n",
              "      border-left-color: var(--fill-color);\n",
              "    }\n",
              "    20% {\n",
              "      border-color: transparent;\n",
              "      border-left-color: var(--fill-color);\n",
              "      border-top-color: var(--fill-color);\n",
              "    }\n",
              "    30% {\n",
              "      border-color: transparent;\n",
              "      border-left-color: var(--fill-color);\n",
              "      border-top-color: var(--fill-color);\n",
              "      border-right-color: var(--fill-color);\n",
              "    }\n",
              "    40% {\n",
              "      border-color: transparent;\n",
              "      border-right-color: var(--fill-color);\n",
              "      border-top-color: var(--fill-color);\n",
              "    }\n",
              "    60% {\n",
              "      border-color: transparent;\n",
              "      border-right-color: var(--fill-color);\n",
              "    }\n",
              "    80% {\n",
              "      border-color: transparent;\n",
              "      border-right-color: var(--fill-color);\n",
              "      border-bottom-color: var(--fill-color);\n",
              "    }\n",
              "    90% {\n",
              "      border-color: transparent;\n",
              "      border-bottom-color: var(--fill-color);\n",
              "    }\n",
              "  }\n",
              "</style>\n",
              "\n",
              "  <script>\n",
              "    async function quickchart(key) {\n",
              "      const quickchartButtonEl =\n",
              "        document.querySelector('#' + key + ' button');\n",
              "      quickchartButtonEl.disabled = true;  // To prevent multiple clicks.\n",
              "      quickchartButtonEl.classList.add('colab-df-spinner');\n",
              "      try {\n",
              "        const charts = await google.colab.kernel.invokeFunction(\n",
              "            'suggestCharts', [key], {});\n",
              "      } catch (error) {\n",
              "        console.error('Error during call to suggestCharts:', error);\n",
              "      }\n",
              "      quickchartButtonEl.classList.remove('colab-df-spinner');\n",
              "      quickchartButtonEl.classList.add('colab-df-quickchart-complete');\n",
              "    }\n",
              "    (() => {\n",
              "      let quickchartButtonEl =\n",
              "        document.querySelector('#df-fe34adda-639e-4c15-94eb-e0c608e48fdc button');\n",
              "      quickchartButtonEl.style.display =\n",
              "        google.colab.kernel.accessAllowed ? 'block' : 'none';\n",
              "    })();\n",
              "  </script>\n",
              "</div>\n",
              "\n",
              "    </div>\n",
              "  </div>\n"
            ],
            "application/vnd.google.colaboratory.intrinsic+json": {
              "type": "dataframe",
              "variable_name": "vaders",
              "summary": "{\n  \"name\": \"vaders\",\n  \"rows\": 43117,\n  \"fields\": [\n    {\n      \"column\": \"Id\",\n      \"properties\": {\n        \"dtype\": \"number\",\n        \"std\": 12446,\n        \"min\": 1,\n        \"max\": 43117,\n        \"num_unique_values\": 43117,\n        \"samples\": [\n          36363,\n          31915,\n          33439\n        ],\n        \"semantic_type\": \"\",\n        \"description\": \"\"\n      }\n    },\n    {\n      \"column\": \"neg\",\n      \"properties\": {\n        \"dtype\": \"number\",\n        \"std\": 0.06525315213934203,\n        \"min\": 0.0,\n        \"max\": 1.0,\n        \"num_unique_values\": 464,\n        \"samples\": [\n          0.022,\n          0.122,\n          0.024\n        ],\n        \"semantic_type\": \"\",\n        \"description\": \"\"\n      }\n    },\n    {\n      \"column\": \"neu\",\n      \"properties\": {\n        \"dtype\": \"number\",\n        \"std\": 0.21709465776329778,\n        \"min\": 0.0,\n        \"max\": 1.0,\n        \"num_unique_values\": 867,\n        \"samples\": [\n          0.7,\n          0.42,\n          0.853\n        ],\n        \"semantic_type\": \"\",\n        \"description\": \"\"\n      }\n    },\n    {\n      \"column\": \"pos\",\n      \"properties\": {\n        \"dtype\": \"number\",\n        \"std\": 0.2309585691982157,\n        \"min\": 0.0,\n        \"max\": 1.0,\n        \"num_unique_values\": 877,\n        \"samples\": [\n          0.85,\n          0.826,\n          0.092\n        ],\n        \"semantic_type\": \"\",\n        \"description\": \"\"\n      }\n    },\n    {\n      \"column\": \"compound\",\n      \"properties\": {\n        \"dtype\": \"number\",\n        \"std\": 0.40846763731504215,\n        \"min\": -0.9994,\n        \"max\": 0.9999,\n        \"num_unique_values\": 6491,\n        \"samples\": [\n          0.2247,\n          0.257,\n          0.9465\n        ],\n        \"semantic_type\": \"\",\n        \"description\": \"\"\n      }\n    },\n    {\n      \"column\": \"overall\",\n      \"properties\": {\n        \"dtype\": \"number\",\n        \"std\": 0.7551048511273153,\n        \"min\": 1.0,\n        \"max\": 5.0,\n        \"num_unique_values\": 5,\n        \"samples\": [\n          5.0,\n          2.0,\n          1.0\n        ],\n        \"semantic_type\": \"\",\n        \"description\": \"\"\n      }\n    },\n    {\n      \"column\": \"verified\",\n      \"properties\": {\n        \"dtype\": \"boolean\",\n        \"num_unique_values\": 2,\n        \"samples\": [\n          false,\n          true\n        ],\n        \"semantic_type\": \"\",\n        \"description\": \"\"\n      }\n    },\n    {\n      \"column\": \"reviewTime\",\n      \"properties\": {\n        \"dtype\": \"object\",\n        \"num_unique_values\": 4471,\n        \"samples\": [\n          \"07 5, 2003\",\n          \"07 28, 2008\"\n        ],\n        \"semantic_type\": \"\",\n        \"description\": \"\"\n      }\n    },\n    {\n      \"column\": \"reviewerID\",\n      \"properties\": {\n        \"dtype\": \"string\",\n        \"num_unique_values\": 35718,\n        \"samples\": [\n          \"A1Q1JIUTWG7IC2\",\n          \"A1HSO4GII3EF70\"\n        ],\n        \"semantic_type\": \"\",\n        \"description\": \"\"\n      }\n    },\n    {\n      \"column\": \"asin\",\n      \"properties\": {\n        \"dtype\": \"category\",\n        \"num_unique_values\": 50,\n        \"samples\": [\n          \"0375850864\",\n          \"1419708457\"\n        ],\n        \"semantic_type\": \"\",\n        \"description\": \"\"\n      }\n    },\n    {\n      \"column\": \"style\",\n      \"properties\": {\n        \"dtype\": \"category\",\n        \"num_unique_values\": 16,\n        \"samples\": [\n          \"{'Format:': ' Hardcover'}\",\n          \"{'Format:': ' Paperback'}\"\n        ],\n        \"semantic_type\": \"\",\n        \"description\": \"\"\n      }\n    },\n    {\n      \"column\": \"reviewerName\",\n      \"properties\": {\n        \"dtype\": \"string\",\n        \"num_unique_values\": 29022,\n        \"samples\": [\n          \"Jellooe\",\n          \"Marjie, Mother of 9\"\n        ],\n        \"semantic_type\": \"\",\n        \"description\": \"\"\n      }\n    },\n    {\n      \"column\": \"reviewText\",\n      \"properties\": {\n        \"dtype\": \"string\",\n        \"num_unique_values\": 39724,\n        \"samples\": [\n          \"I love reading historical fiction and this is a great book if you like that genre. Kimberly Brubaker Bradley tells an interesting story about a 10 year old girl, crippled from birth, trapped in her mother's anger during the start of World War II. Ada, spends her days looking out the window, yearning to go outside. Her mother is embarassed by Ada's clubfoot and refuses to let her outside. Ada's younger brother, Jamie goes to school everyday, makes friends and gives Ada a portion of his food. One day, Ada finds out that all children will be evacuated to the countryside and is determined to escape her mother's imprisonment.\\n\\nAda embarks on an emotional and healing journey with her brother. Will Ada and Jamie find the love that they've missed their entire lives? This is a great summer read!\",\n          \"Don't listen to the bad review's, how is it not for twelve-year-olds?  I read this ebook and I loved it, I don't see how it's inappropriate, I read it and it didn't give me any bad ideas or any relation to actual middle school.\"\n        ],\n        \"semantic_type\": \"\",\n        \"description\": \"\"\n      }\n    },\n    {\n      \"column\": \"summary\",\n      \"properties\": {\n        \"dtype\": \"string\",\n        \"num_unique_values\": 24639,\n        \"samples\": [\n          \"Fabulous condition.\",\n          \"entertaining for the little ones\"\n        ],\n        \"semantic_type\": \"\",\n        \"description\": \"\"\n      }\n    },\n    {\n      \"column\": \"unixReviewTime\",\n      \"properties\": {\n        \"dtype\": \"number\",\n        \"std\": 108294585,\n        \"min\": 893116800,\n        \"max\": 1525737600,\n        \"num_unique_values\": 4471,\n        \"samples\": [\n          1057363200,\n          1217203200\n        ],\n        \"semantic_type\": \"\",\n        \"description\": \"\"\n      }\n    },\n    {\n      \"column\": \"vote\",\n      \"properties\": {\n        \"dtype\": \"category\",\n        \"num_unique_values\": 122,\n        \"samples\": [\n          \"8\",\n          \"70\"\n        ],\n        \"semantic_type\": \"\",\n        \"description\": \"\"\n      }\n    },\n    {\n      \"column\": \"image\",\n      \"properties\": {\n        \"dtype\": \"category\",\n        \"num_unique_values\": 119,\n        \"samples\": [\n          \"['https://images-na.ssl-images-amazon.com/images/I/71oHifg98yL._SY88.jpg', 'https://images-na.ssl-images-amazon.com/images/I/713kn1GvZDL._SY88.jpg']\",\n          \"['https://images-na.ssl-images-amazon.com/images/I/71B3SfZMINL._SY88.jpg']\"\n        ],\n        \"semantic_type\": \"\",\n        \"description\": \"\"\n      }\n    }\n  ]\n}"
            }
          },
          "metadata": {},
          "execution_count": 75
        }
      ]
    },
    {
      "cell_type": "code",
      "source": [
        "ax = sns.barplot(data=vaders, x='overall',hue='overall', y='compound',palette='viridis')\n",
        "ax.set_title('Compund Score by Amazon Star Review')\n",
        "plt.show()"
      ],
      "metadata": {
        "colab": {
          "base_uri": "https://localhost:8080/",
          "height": 477
        },
        "id": "-EtDBXPogheC",
        "outputId": "f2e92be8-173b-4fb5-f99d-df524fa6f1d1"
      },
      "execution_count": 76,
      "outputs": [
        {
          "output_type": "display_data",
          "data": {
            "text/plain": [
              "<Figure size 640x480 with 1 Axes>"
            ],
            "image/png": "[encoded data removed]"
          },
          "metadata": {}
        }
      ]
    },
    {
      "cell_type": "code",
      "source": [
        "fig, axs = plt.subplots(1, 3, figsize=(12, 3))\n",
        "sns.barplot(data=vaders, x='overall',hue='overall',y='pos', ax=axs[0],palette='viridis')\n",
        "sns.barplot(data=vaders, x='overall',hue='overall', y='neu', ax=axs[1],palette='viridis')\n",
        "sns.barplot(data=vaders, x='overall',hue='overall', y='neg', ax=axs[2],palette='viridis')\n",
        "axs[0].set_title('Positive')\n",
        "axs[0].get_legend().remove()\n",
        "axs[1].set_title('Neutral')\n",
        "axs[1].get_legend().remove()\n",
        "axs[2].set_title('Negative')\n",
        "axs[2].get_legend().remove()\n",
        "plt.tight_layout()\n",
        "plt.show()"
      ],
      "metadata": {
        "colab": {
          "base_uri": "https://localhost:8080/",
          "height": 300
        },
        "id": "A4nPt_eXgmJS",
        "outputId": "dc335a27-b0e2-465e-85fa-cb5dfa0f1762"
      },
      "execution_count": 77,
      "outputs": [
        {
          "output_type": "display_data",
          "data": {
            "text/plain": [
              "<Figure size 1200x300 with 3 Axes>"
            ],
            "image/png": "[encoded data removed]"
          },
          "metadata": {}
        }
      ]
    },
    {
      "cell_type": "code",
      "source": [
        "# Define the thresholds\n",
        "higher_threshold = 0.8  # Compound score above this value is considered high\n",
        "lower_threshold = 0.2  # Compound score below this value is considered low\n",
        "low_rating = 2  # Ratings at or below this are considered low\n",
        "high_rating = 4  # Ratings at or above this are considered high"
      ],
      "metadata": {
        "id": "L7hq50mTgsoE"
      },
      "execution_count": 80,
      "outputs": []
    },
    {
      "cell_type": "code",
      "source": [
        "# Filter out unreasonable reviews\n",
        "# Case 1: Reviews with high positive sentiment but low Amazon rating\n",
        "print(vaders.shape)\n",
        "#print(vaders.head())\n",
        "\n",
        "unreasonable_case1 = vaders[(vaders['compound'] > higher_threshold) & (vaders['overall'] <= low_rating)]\n",
        "print(unreasonable_case1.shape)\n",
        "# Case 2: Reviews with high negative sentiment but high Amazon rating\n",
        "unreasonable_case2 = vaders[(vaders['compound'] < lower_threshold) & (vaders['overall'] >= high_rating)]\n",
        "print(unreasonable_case2.shape)\n",
        "# Combine both cases (note: this assumes you want to consider both types of \"unreasonable\" reviews)\n",
        "unreasonable_reviews = pd.concat([unreasonable_case1, unreasonable_case2])\n",
        "\n",
        "# Get the list of \"ID\" values for the unreasonable reviews\n",
        "unreasonable_ids = unreasonable_reviews['Id'].values\n",
        "print(unreasonable_ids)\n",
        "\n",
        "#Ensure the unique \"Id\" is the DataFrame index\n",
        "#if vaders.index.name != 'ID':\n",
        "#    vaders.set_index('ID', inplace=True)\n",
        "\n",
        "# To remove these unreasonable reviews from the original DataFrame by the 'ID' index\n",
        "#reasonable_reviews = vaders.drop(unreasonable_reviews.index, inplace=True)\n",
        "\n",
        "# Drop the rows from `vaders` where the \"ID\" matches the IDs in `unreasonable_ids`\n",
        "reasonable_reviews = vaders[~vaders['Id'].isin(unreasonable_ids)]\n",
        "\n",
        "print(reasonable_reviews.shape)"
      ],
      "metadata": {
        "colab": {
          "base_uri": "https://localhost:8080/"
        },
        "id": "vRC2m4Eggu0O",
        "outputId": "fef46111-9708-4d9a-cd5d-b6f78c8dea7c"
      },
      "execution_count": 84,
      "outputs": [
        {
          "output_type": "stream",
          "name": "stdout",
          "text": [
            "(43117, 17)\n",
            "(259, 17)\n",
            "(3999, 17)\n",
            "[   87   228   654 ... 43077 43080 43088]\n",
            "(38859, 17)\n"
          ]
        }
      ]
    },
    {
      "cell_type": "code",
      "source": [],
      "metadata": {
        "id": "Rd4zxEuD4Ncg"
      },
      "execution_count": null,
      "outputs": []
    }
  ]
}