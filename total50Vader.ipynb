{
  "nbformat": 4,
  "nbformat_minor": 0,
  "metadata": {
    "colab": {
      "provenance": [],
      "authorship_tag": "ABX9TyNgK8HkHPEu0ZFmB2aHlpTZ",
      "include_colab_link": true
    },
    "kernelspec": {
      "name": "python3",
      "display_name": "Python 3"
    },
    "language_info": {
      "name": "python"
    },
    "widgets": {
      "application/vnd.jupyter.widget-state+json": {
        "10dc68c8af214d608c171cc46350b40b": {
          "model_module": "@jupyter-widgets/controls",
          "model_name": "HBoxModel",
          "model_module_version": "1.5.0",
          "state": {
            "_dom_classes": [],
            "_model_module": "@jupyter-widgets/controls",
            "_model_module_version": "1.5.0",
            "_model_name": "HBoxModel",
            "_view_count": null,
            "_view_module": "@jupyter-widgets/controls",
            "_view_module_version": "1.5.0",
            "_view_name": "HBoxView",
            "box_style": "",
            "children": [
              "IPY_MODEL_6e40b7b87a834440ab6b5803aab1afc6",
              "IPY_MODEL_f5c7cb7515ad4c1abf01477bf958f2fc",
              "IPY_MODEL_8853309fde8448088d03be9a4792212a"
            ],
            "layout": "IPY_MODEL_c9e7e1fc82c7448ca309da0e6d1f6363"
          }
        },
        "6e40b7b87a834440ab6b5803aab1afc6": {
          "model_module": "@jupyter-widgets/controls",
          "model_name": "HTMLModel",
          "model_module_version": "1.5.0",
          "state": {
            "_dom_classes": [],
            "_model_module": "@jupyter-widgets/controls",
            "_model_module_version": "1.5.0",
            "_model_name": "HTMLModel",
            "_view_count": null,
            "_view_module": "@jupyter-widgets/controls",
            "_view_module_version": "1.5.0",
            "_view_name": "HTMLView",
            "description": "",
            "description_tooltip": null,
            "layout": "IPY_MODEL_9304319fbfe84a3b859729fbd52ff780",
            "placeholder": "​",
            "style": "IPY_MODEL_8d949d00d5e44a8183840934bd648245",
            "value": "100%"
          }
        },
        "f5c7cb7515ad4c1abf01477bf958f2fc": {
          "model_module": "@jupyter-widgets/controls",
          "model_name": "FloatProgressModel",
          "model_module_version": "1.5.0",
          "state": {
            "_dom_classes": [],
            "_model_module": "@jupyter-widgets/controls",
            "_model_module_version": "1.5.0",
            "_model_name": "FloatProgressModel",
            "_view_count": null,
            "_view_module": "@jupyter-widgets/controls",
            "_view_module_version": "1.5.0",
            "_view_name": "ProgressView",
            "bar_style": "success",
            "description": "",
            "description_tooltip": null,
            "layout": "IPY_MODEL_cc6ed87765364f1f8bb884c958f72e3d",
            "max": 43117,
            "min": 0,
            "orientation": "horizontal",
            "style": "IPY_MODEL_8256389a15524d9e835d91b949851078",
            "value": 43117
          }
        },
        "8853309fde8448088d03be9a4792212a": {
          "model_module": "@jupyter-widgets/controls",
          "model_name": "HTMLModel",
          "model_module_version": "1.5.0",
          "state": {
            "_dom_classes": [],
            "_model_module": "@jupyter-widgets/controls",
            "_model_module_version": "1.5.0",
            "_model_name": "HTMLModel",
            "_view_count": null,
            "_view_module": "@jupyter-widgets/controls",
            "_view_module_version": "1.5.0",
            "_view_name": "HTMLView",
            "description": "",
            "description_tooltip": null,
            "layout": "IPY_MODEL_5afb9a3d11f14e4b83a11dcc4c0adca9",
            "placeholder": "​",
            "style": "IPY_MODEL_b758fc88c60246b4a5adec640fd2fe93",
            "value": " 43117/43117 [00:53&lt;00:00, 1197.16it/s]"
          }
        },
        "c9e7e1fc82c7448ca309da0e6d1f6363": {
          "model_module": "@jupyter-widgets/base",
          "model_name": "LayoutModel",
          "model_module_version": "1.2.0",
          "state": {
            "_model_module": "@jupyter-widgets/base",
            "_model_module_version": "1.2.0",
            "_model_name": "LayoutModel",
            "_view_count": null,
            "_view_module": "@jupyter-widgets/base",
            "_view_module_version": "1.2.0",
            "_view_name": "LayoutView",
            "align_content": null,
            "align_items": null,
            "align_self": null,
            "border": null,
            "bottom": null,
            "display": null,
            "flex": null,
            "flex_flow": null,
            "grid_area": null,
            "grid_auto_columns": null,
            "grid_auto_flow": null,
            "grid_auto_rows": null,
            "grid_column": null,
            "grid_gap": null,
            "grid_row": null,
            "grid_template_areas": null,
            "grid_template_columns": null,
            "grid_template_rows": null,
            "height": null,
            "justify_content": null,
            "justify_items": null,
            "left": null,
            "margin": null,
            "max_height": null,
            "max_width": null,
            "min_height": null,
            "min_width": null,
            "object_fit": null,
            "object_position": null,
            "order": null,
            "overflow": null,
            "overflow_x": null,
            "overflow_y": null,
            "padding": null,
            "right": null,
            "top": null,
            "visibility": null,
            "width": null
          }
        },
        "9304319fbfe84a3b859729fbd52ff780": {
          "model_module": "@jupyter-widgets/base",
          "model_name": "LayoutModel",
          "model_module_version": "1.2.0",
          "state": {
            "_model_module": "@jupyter-widgets/base",
            "_model_module_version": "1.2.0",
            "_model_name": "LayoutModel",
            "_view_count": null,
            "_view_module": "@jupyter-widgets/base",
            "_view_module_version": "1.2.0",
            "_view_name": "LayoutView",
            "align_content": null,
            "align_items": null,
            "align_self": null,
            "border": null,
            "bottom": null,
            "display": null,
            "flex": null,
            "flex_flow": null,
            "grid_area": null,
            "grid_auto_columns": null,
            "grid_auto_flow": null,
            "grid_auto_rows": null,
            "grid_column": null,
            "grid_gap": null,
            "grid_row": null,
            "grid_template_areas": null,
            "grid_template_columns": null,
            "grid_template_rows": null,
            "height": null,
            "justify_content": null,
            "justify_items": null,
            "left": null,
            "margin": null,
            "max_height": null,
            "max_width": null,
            "min_height": null,
            "min_width": null,
            "object_fit": null,
            "object_position": null,
            "order": null,
            "overflow": null,
            "overflow_x": null,
            "overflow_y": null,
            "padding": null,
            "right": null,
            "top": null,
            "visibility": null,
            "width": null
          }
        },
        "8d949d00d5e44a8183840934bd648245": {
          "model_module": "@jupyter-widgets/controls",
          "model_name": "DescriptionStyleModel",
          "model_module_version": "1.5.0",
          "state": {
            "_model_module": "@jupyter-widgets/controls",
            "_model_module_version": "1.5.0",
            "_model_name": "DescriptionStyleModel",
            "_view_count": null,
            "_view_module": "@jupyter-widgets/base",
            "_view_module_version": "1.2.0",
            "_view_name": "StyleView",
            "description_width": ""
          }
        },
        "cc6ed87765364f1f8bb884c958f72e3d": {
          "model_module": "@jupyter-widgets/base",
          "model_name": "LayoutModel",
          "model_module_version": "1.2.0",
          "state": {
            "_model_module": "@jupyter-widgets/base",
            "_model_module_version": "1.2.0",
            "_model_name": "LayoutModel",
            "_view_count": null,
            "_view_module": "@jupyter-widgets/base",
            "_view_module_version": "1.2.0",
            "_view_name": "LayoutView",
            "align_content": null,
            "align_items": null,
            "align_self": null,
            "border": null,
            "bottom": null,
            "display": null,
            "flex": null,
            "flex_flow": null,
            "grid_area": null,
            "grid_auto_columns": null,
            "grid_auto_flow": null,
            "grid_auto_rows": null,
            "grid_column": null,
            "grid_gap": null,
            "grid_row": null,
            "grid_template_areas": null,
            "grid_template_columns": null,
            "grid_template_rows": null,
            "height": null,
            "justify_content": null,
            "justify_items": null,
            "left": null,
            "margin": null,
            "max_height": null,
            "max_width": null,
            "min_height": null,
            "min_width": null,
            "object_fit": null,
            "object_position": null,
            "order": null,
            "overflow": null,
            "overflow_x": null,
            "overflow_y": null,
            "padding": null,
            "right": null,
            "top": null,
            "visibility": null,
            "width": null
          }
        },
        "8256389a15524d9e835d91b949851078": {
          "model_module": "@jupyter-widgets/controls",
          "model_name": "ProgressStyleModel",
          "model_module_version": "1.5.0",
          "state": {
            "_model_module": "@jupyter-widgets/controls",
            "_model_module_version": "1.5.0",
            "_model_name": "ProgressStyleModel",
            "_view_count": null,
            "_view_module": "@jupyter-widgets/base",
            "_view_module_version": "1.2.0",
            "_view_name": "StyleView",
            "bar_color": null,
            "description_width": ""
          }
        },
        "5afb9a3d11f14e4b83a11dcc4c0adca9": {
          "model_module": "@jupyter-widgets/base",
          "model_name": "LayoutModel",
          "model_module_version": "1.2.0",
          "state": {
            "_model_module": "@jupyter-widgets/base",
            "_model_module_version": "1.2.0",
            "_model_name": "LayoutModel",
            "_view_count": null,
            "_view_module": "@jupyter-widgets/base",
            "_view_module_version": "1.2.0",
            "_view_name": "LayoutView",
            "align_content": null,
            "align_items": null,
            "align_self": null,
            "border": null,
            "bottom": null,
            "display": null,
            "flex": null,
            "flex_flow": null,
            "grid_area": null,
            "grid_auto_columns": null,
            "grid_auto_flow": null,
            "grid_auto_rows": null,
            "grid_column": null,
            "grid_gap": null,
            "grid_row": null,
            "grid_template_areas": null,
            "grid_template_columns": null,
            "grid_template_rows": null,
            "height": null,
            "justify_content": null,
            "justify_items": null,
            "left": null,
            "margin": null,
            "max_height": null,
            "max_width": null,
            "min_height": null,
            "min_width": null,
            "object_fit": null,
            "object_position": null,
            "order": null,
            "overflow": null,
            "overflow_x": null,
            "overflow_y": null,
            "padding": null,
            "right": null,
            "top": null,
            "visibility": null,
            "width": null
          }
        },
        "b758fc88c60246b4a5adec640fd2fe93": {
          "model_module": "@jupyter-widgets/controls",
          "model_name": "DescriptionStyleModel",
          "model_module_version": "1.5.0",
          "state": {
            "_model_module": "@jupyter-widgets/controls",
            "_model_module_version": "1.5.0",
            "_model_name": "DescriptionStyleModel",
            "_view_count": null,
            "_view_module": "@jupyter-widgets/base",
            "_view_module_version": "1.2.0",
            "_view_name": "StyleView",
            "description_width": ""
          }
        }
      }
    }
  },
  "cells": [
    {
      "cell_type": "markdown",
      "metadata": {
        "id": "view-in-github",
        "colab_type": "text"
      },
      "source": [
        "<a href=\"https://colab.research.google.com/github/Feiquanl/CS5100Project/blob/main/total50Vader.ipynb\" target=\"_parent\"><img src=\"https://colab.research.google.com/assets/colab-badge.svg\" alt=\"Open In Colab\"/></a>"
      ]
    },
    {
      "cell_type": "code",
      "execution_count": null,
      "metadata": {
        "colab": {
          "base_uri": "https://localhost:8080/"
        },
        "id": "aw8nMIjsetFt",
        "outputId": "6e137ce9-f9e9-4867-b22a-459b6d4dba2b"
      },
      "outputs": [
        {
          "output_type": "stream",
          "name": "stderr",
          "text": [
            "[nltk_data] Downloading package punkt to /root/nltk_data...\n",
            "[nltk_data]   Package punkt is already up-to-date!\n",
            "[nltk_data] Downloading package averaged_perceptron_tagger to\n",
            "[nltk_data]     /root/nltk_data...\n",
            "[nltk_data]   Package averaged_perceptron_tagger is already up-to-\n",
            "[nltk_data]       date!\n",
            "[nltk_data] Downloading package maxent_ne_chunker to\n",
            "[nltk_data]     /root/nltk_data...\n",
            "[nltk_data]   Package maxent_ne_chunker is already up-to-date!\n",
            "[nltk_data] Downloading package words to /root/nltk_data...\n",
            "[nltk_data]   Package words is already up-to-date!\n",
            "[nltk_data] Downloading package vader_lexicon to /root/nltk_data...\n",
            "[nltk_data]   Package vader_lexicon is already up-to-date!\n"
          ]
        },
        {
          "output_type": "execute_result",
          "data": {
            "text/plain": [
              "True"
            ]
          },
          "metadata": {},
          "execution_count": 149
        }
      ],
      "source": [
        "import pandas as pd\n",
        "import numpy as np\n",
        "import matplotlib.pyplot as plt\n",
        "import seaborn as sns\n",
        "from transformers import pipeline\n",
        "\n",
        "plt.style.use('ggplot')\n",
        "\n",
        "import nltk\n",
        "nltk.download('punkt')\n",
        "nltk.download('averaged_perceptron_tagger')\n",
        "nltk.download('maxent_ne_chunker')\n",
        "nltk.download('words')\n",
        "nltk.download('vader_lexicon')"
      ]
    },
    {
      "cell_type": "code",
      "source": [
        "# Read in data\n",
        "df = pd.read_csv(\"Book_1_50.csv\")\n",
        "print(df.shape)\n",
        "#df = df.head(500)\n",
        "columns_to_check=[\"reviewText\",\"summary\"]\n",
        "df = df.dropna(subset=columns_to_check)\n",
        "print(df.shape)"
      ],
      "metadata": {
        "colab": {
          "base_uri": "https://localhost:8080/"
        },
        "id": "QmM1o9-Ge9ts",
        "outputId": "39e4035c-b69b-4ec4-854f-2ffc4cf38180"
      },
      "execution_count": null,
      "outputs": [
        {
          "output_type": "stream",
          "name": "stdout",
          "text": [
            "(43148, 12)\n",
            "(43117, 12)\n"
          ]
        }
      ]
    },
    {
      "cell_type": "code",
      "source": [
        "\n",
        "# Now, count the occurrences of each unique value in the 'overall' column of the filtered DataFrame\n",
        "# and then sort these counts based on the index, which in this case is the review rating value itself.\n",
        "ax = df['overall'].value_counts().sort_index() \\\n",
        "    .plot(kind='bar',  # Plot the counts as a bar chart.\n",
        "          title=f'Count of Reviews by Stars',  # Set the title of the plot, including the ASIN.\n",
        "          figsize=(10, 5))  # Set the size of the plot to 10 inches wide by 5 inches tall.\n",
        "\n",
        "# Set the label for the x-axis of the plot to 'Review Stars'.\n",
        "ax.set_xlabel('Review Stars')\n",
        "\n",
        "# Display the plot.\n",
        "plt.show()"
      ],
      "metadata": {
        "colab": {
          "base_uri": "https://localhost:8080/",
          "height": 500
        },
        "id": "wH7-2JQnfFNP",
        "outputId": "4ac88044-ba35-426d-d328-e8b066e8a7c1"
      },
      "execution_count": null,
      "outputs": [
        {
          "output_type": "display_data",
          "data": {
            "text/plain": [
              "<Figure size 1000x500 with 1 Axes>"
            ],
            "image/png": "[encoded data removed]"
          },
          "metadata": {}
        }
      ]
    },
    {
      "cell_type": "code",
      "source": [
        "#Extract one book to an new df and reset the index to start from 0\n",
        "new_df=df.copy()\n",
        "new_df = new_df.reset_index(drop=True)\n",
        "# Reset the index and add the old index as a new column called 'ID'\n",
        "# Add a new column to new_df and  start IDs from 1 instead of 0\n",
        "new_df['Id'] = range(1, len(new_df) + 1)\n",
        "print(new_df.head())\n",
        "#print(new_df.shape)\n",
        "example =new_df['reviewText'][50]\n",
        "print(example)"
      ],
      "metadata": {
        "colab": {
          "base_uri": "https://localhost:8080/"
        },
        "id": "-yZgmVudf2Ni",
        "outputId": "65d81efa-50b7-45f9-cc0c-7eb38905c392"
      },
      "execution_count": null,
      "outputs": [
        {
          "output_type": "stream",
          "name": "stdout",
          "text": [
            "   overall  verified   reviewTime      reviewerID        asin  \\\n",
            "0      4.0      True   04 5, 2018  A3OFV8AGCZBR4Q  0061900621   \n",
            "1      5.0      True  03 20, 2018   AFRZEPUFQ5MMC  0061900621   \n",
            "2      5.0      True   03 7, 2018  A1S1CPDH3FQJGW  0061900621   \n",
            "3      5.0      True   02 6, 2018   AV4H0HWXRJN7C  0061900621   \n",
            "4      5.0      True  01 25, 2018   AGQHMKOP1I3DL  0061900621   \n",
            "\n",
            "                       style      reviewerName  \\\n",
            "0  {'Format:': ' Hardcover'}    Marko Petrovic   \n",
            "1  {'Format:': ' Hardcover'}         Mr. Frank   \n",
            "2  {'Format:': ' Hardcover'}             TMH21   \n",
            "3  {'Format:': ' Hardcover'}              Sara   \n",
            "4  {'Format:': ' Paperback'}  Nancy Blaskewicz   \n",
            "\n",
            "                                          reviewText  \\\n",
            "0  My first born daughter loves this book and enj...   \n",
            "1                                   daughter like it   \n",
            "2  I gave this book to a two and a half year old ...   \n",
            "3  My daughter loves babies and telling her shes ...   \n",
            "4  This is the perfect book to give to a little g...   \n",
            "\n",
            "                                  summary  unixReviewTime vote image  Id  \n",
            "0               Big sissy loves this book      1522886400  NaN   NaN   1  \n",
            "1                              Five Stars      1521504000  NaN   NaN   2  \n",
            "2                           A great gift.      1520380800  NaN   NaN   3  \n",
            "3                         Big sister hit.      1517875200  NaN   NaN   4  \n",
            "4  Good book when a new baby is expected.      1516838400  NaN   NaN   5  \n",
            "Decent read for kids who are about to get a baby\n"
          ]
        }
      ]
    },
    {
      "cell_type": "code",
      "source": [
        "nltk.download('punkt')\n",
        "tokens = nltk.word_tokenize(example)\n",
        "tokens[:10]"
      ],
      "metadata": {
        "colab": {
          "base_uri": "https://localhost:8080/"
        },
        "id": "XZr2DJqcf9Jd",
        "outputId": "65129d5c-f895-48c1-f576-4fa469ac614b"
      },
      "execution_count": null,
      "outputs": [
        {
          "output_type": "stream",
          "name": "stderr",
          "text": [
            "[nltk_data] Downloading package punkt to /root/nltk_data...\n",
            "[nltk_data]   Package punkt is already up-to-date!\n"
          ]
        },
        {
          "output_type": "execute_result",
          "data": {
            "text/plain": [
              "['Decent', 'read', 'for', 'kids', 'who', 'are', 'about', 'to', 'get', 'a']"
            ]
          },
          "metadata": {},
          "execution_count": 154
        }
      ]
    },
    {
      "cell_type": "code",
      "source": [
        "nltk.download('averaged_perceptron_tagger')\n",
        "tagged = nltk.pos_tag(tokens)\n",
        "tagged[:10]"
      ],
      "metadata": {
        "colab": {
          "base_uri": "https://localhost:8080/"
        },
        "id": "4Yb4OeYzgAK9",
        "outputId": "4de760fb-f4c0-48a6-8a3e-05e659ba7945"
      },
      "execution_count": null,
      "outputs": [
        {
          "output_type": "stream",
          "name": "stderr",
          "text": [
            "[nltk_data] Downloading package averaged_perceptron_tagger to\n",
            "[nltk_data]     /root/nltk_data...\n",
            "[nltk_data]   Package averaged_perceptron_tagger is already up-to-\n",
            "[nltk_data]       date!\n"
          ]
        },
        {
          "output_type": "execute_result",
          "data": {
            "text/plain": [
              "[('Decent', 'NNP'),\n",
              " ('read', 'NN'),\n",
              " ('for', 'IN'),\n",
              " ('kids', 'NNS'),\n",
              " ('who', 'WP'),\n",
              " ('are', 'VBP'),\n",
              " ('about', 'IN'),\n",
              " ('to', 'TO'),\n",
              " ('get', 'VB'),\n",
              " ('a', 'DT')]"
            ]
          },
          "metadata": {},
          "execution_count": 155
        }
      ]
    },
    {
      "cell_type": "code",
      "source": [
        "nltk.download('maxent_ne_chunker')\n",
        "nltk.download('words')\n",
        "entities = nltk.chunk.ne_chunk(tagged)\n",
        "entities.pprint()"
      ],
      "metadata": {
        "colab": {
          "base_uri": "https://localhost:8080/"
        },
        "id": "3yoIFuLOgCUd",
        "outputId": "1b5f2c3e-ecf8-4b0d-9e1e-9bf8552cefc3"
      },
      "execution_count": null,
      "outputs": [
        {
          "output_type": "stream",
          "name": "stdout",
          "text": [
            "(S\n",
            "  (GPE Decent/NNP)\n",
            "  read/NN\n",
            "  for/IN\n",
            "  kids/NNS\n",
            "  who/WP\n",
            "  are/VBP\n",
            "  about/IN\n",
            "  to/TO\n",
            "  get/VB\n",
            "  a/DT\n",
            "  baby/NN)\n"
          ]
        },
        {
          "output_type": "stream",
          "name": "stderr",
          "text": [
            "[nltk_data] Downloading package maxent_ne_chunker to\n",
            "[nltk_data]     /root/nltk_data...\n",
            "[nltk_data]   Package maxent_ne_chunker is already up-to-date!\n",
            "[nltk_data] Downloading package words to /root/nltk_data...\n",
            "[nltk_data]   Package words is already up-to-date!\n"
          ]
        }
      ]
    },
    {
      "cell_type": "code",
      "source": [
        "nltk.download('vader_lexicon')\n",
        "from nltk.sentiment import SentimentIntensityAnalyzer\n",
        "from tqdm.notebook import tqdm\n",
        "\n",
        "sia = SentimentIntensityAnalyzer()"
      ],
      "metadata": {
        "colab": {
          "base_uri": "https://localhost:8080/"
        },
        "id": "6zH08b4ngFa6",
        "outputId": "dc340545-50d0-4b1d-8ae9-56eefc2195be"
      },
      "execution_count": null,
      "outputs": [
        {
          "output_type": "stream",
          "name": "stderr",
          "text": [
            "[nltk_data] Downloading package vader_lexicon to /root/nltk_data...\n",
            "[nltk_data]   Package vader_lexicon is already up-to-date!\n"
          ]
        }
      ]
    },
    {
      "cell_type": "code",
      "source": [
        "# Run the polarity score on the 50 books\n",
        "res = {}\n",
        "for i, row in tqdm(new_df.iterrows(), total=len(new_df)):\n",
        "    text = row['reviewText']\n",
        "    id = row['Id']\n",
        "    res[id] = sia.polarity_scores(text)\n",
        "for idx, (key, value) in enumerate(res.items()):\n",
        "    if idx < 3:  # Check to print only the first 3 items\n",
        "        print(f\"ID: {key}, Scores: {value}\")"
      ],
      "metadata": {
        "colab": {
          "base_uri": "https://localhost:8080/",
          "height": 101,
          "referenced_widgets": [
            "10dc68c8af214d608c171cc46350b40b",
            "6e40b7b87a834440ab6b5803aab1afc6",
            "f5c7cb7515ad4c1abf01477bf958f2fc",
            "8853309fde8448088d03be9a4792212a",
            "c9e7e1fc82c7448ca309da0e6d1f6363",
            "9304319fbfe84a3b859729fbd52ff780",
            "8d949d00d5e44a8183840934bd648245",
            "cc6ed87765364f1f8bb884c958f72e3d",
            "8256389a15524d9e835d91b949851078",
            "5afb9a3d11f14e4b83a11dcc4c0adca9",
            "b758fc88c60246b4a5adec640fd2fe93"
          ]
        },
        "id": "FCBbGtjIgIlZ",
        "outputId": "a8e9c211-b44c-490a-f287-99d5a3c8f3b4"
      },
      "execution_count": null,
      "outputs": [
        {
          "output_type": "display_data",
          "data": {
            "text/plain": [
              "  0%|          | 0/43117 [00:00<?, ?it/s]"
            ],
            "application/vnd.jupyter.widget-view+json": {
              "version_major": 2,
              "version_minor": 0,
              "model_id": "10dc68c8af214d608c171cc46350b40b"
            }
          },
          "metadata": {}
        },
        {
          "output_type": "stream",
          "name": "stdout",
          "text": [
            "ID: 1, Scores: {'neg': 0.0, 'neu': 0.696, 'pos': 0.304, 'compound': 0.7906}\n",
            "ID: 2, Scores: {'neg': 0.0, 'neu': 0.444, 'pos': 0.556, 'compound': 0.3612}\n",
            "ID: 3, Scores: {'neg': 0.0, 'neu': 0.895, 'pos': 0.105, 'compound': 0.4019}\n"
          ]
        }
      ]
    },
    {
      "cell_type": "code",
      "source": [
        "vaders = pd.DataFrame(res).T\n",
        "vaders = vaders.reset_index().rename(columns={'index': 'Id'})\n",
        "vaders = vaders.merge(new_df, how='left')"
      ],
      "metadata": {
        "id": "Dj68idxagZ5f"
      },
      "execution_count": null,
      "outputs": []
    },
    {
      "cell_type": "code",
      "source": [
        "# Now we have sentiment score and metadata\n",
        "vaders.head()"
      ],
      "metadata": {
        "colab": {
          "base_uri": "https://localhost:8080/",
          "height": 573
        },
        "id": "SPZp5ul4geuL",
        "outputId": "81b49b91-d5b9-46dd-97ec-7c4265e43674"
      },
      "execution_count": null,
      "outputs": [
        {
          "output_type": "execute_result",
          "data": {
            "text/plain": [
              "   Id    neg    neu    pos  compound  overall  verified   reviewTime  \\\n",
              "0   1  0.000  0.696  0.304    0.7906      4.0      True   04 5, 2018   \n",
              "1   2  0.000  0.444  0.556    0.3612      5.0      True  03 20, 2018   \n",
              "2   3  0.000  0.895  0.105    0.4019      5.0      True   03 7, 2018   \n",
              "3   4  0.000  0.680  0.320    0.9056      5.0      True   02 6, 2018   \n",
              "4   5  0.079  0.683  0.237    0.6597      5.0      True  01 25, 2018   \n",
              "\n",
              "       reviewerID        asin                      style      reviewerName  \\\n",
              "0  A3OFV8AGCZBR4Q  0061900621  {'Format:': ' Hardcover'}    Marko Petrovic   \n",
              "1   AFRZEPUFQ5MMC  0061900621  {'Format:': ' Hardcover'}         Mr. Frank   \n",
              "2  A1S1CPDH3FQJGW  0061900621  {'Format:': ' Hardcover'}             TMH21   \n",
              "3   AV4H0HWXRJN7C  0061900621  {'Format:': ' Hardcover'}              Sara   \n",
              "4   AGQHMKOP1I3DL  0061900621  {'Format:': ' Paperback'}  Nancy Blaskewicz   \n",
              "\n",
              "                                          reviewText  \\\n",
              "0  My first born daughter loves this book and enj...   \n",
              "1                                   daughter like it   \n",
              "2  I gave this book to a two and a half year old ...   \n",
              "3  My daughter loves babies and telling her shes ...   \n",
              "4  This is the perfect book to give to a little g...   \n",
              "\n",
              "                                  summary  unixReviewTime vote image  \n",
              "0               Big sissy loves this book      1522886400  NaN   NaN  \n",
              "1                              Five Stars      1521504000  NaN   NaN  \n",
              "2                           A great gift.      1520380800  NaN   NaN  \n",
              "3                         Big sister hit.      1517875200  NaN   NaN  \n",
              "4  Good book when a new baby is expected.      1516838400  NaN   NaN  "
            ],
            "text/html": [
              "\n",
              "  <div id=\"df-90969f52-e8dc-43b5-bad4-d31bcddaeaa1\" class=\"colab-df-container\">\n",
              "    <div>\n",
              "<style scoped>\n",
              "    .dataframe tbody tr th:only-of-type {\n",
              "        vertical-align: middle;\n",
              "    }\n",
              "\n",
              "    .dataframe tbody tr th {\n",
              "        vertical-align: top;\n",
              "    }\n",
              "\n",
              "    .dataframe thead th {\n",
              "        text-align: right;\n",
              "    }\n",
              "</style>\n",
              "<table border=\"1\" class=\"dataframe\">\n",
              "  <thead>\n",
              "    <tr style=\"text-align: right;\">\n",
              "      <th></th>\n",
              "      <th>Id</th>\n",
              "      <th>neg</th>\n",
              "      <th>neu</th>\n",
              "      <th>pos</th>\n",
              "      <th>compound</th>\n",
              "      <th>overall</th>\n",
              "      <th>verified</th>\n",
              "      <th>reviewTime</th>\n",
              "      <th>reviewerID</th>\n",
              "      <th>asin</th>\n",
              "      <th>style</th>\n",
              "      <th>reviewerName</th>\n",
              "      <th>reviewText</th>\n",
              "      <th>summary</th>\n",
              "      <th>unixReviewTime</th>\n",
              "      <th>vote</th>\n",
              "      <th>image</th>\n",
              "    </tr>\n",
              "  </thead>\n",
              "  <tbody>\n",
              "    <tr>\n",
              "      <th>0</th>\n",
              "      <td>1</td>\n",
              "      <td>0.000</td>\n",
              "      <td>0.696</td>\n",
              "      <td>0.304</td>\n",
              "      <td>0.7906</td>\n",
              "      <td>4.0</td>\n",
              "      <td>True</td>\n",
              "      <td>04 5, 2018</td>\n",
              "      <td>A3OFV8AGCZBR4Q</td>\n",
              "      <td>0061900621</td>\n",
              "      <td>{'Format:': ' Hardcover'}</td>\n",
              "      <td>Marko Petrovic</td>\n",
              "      <td>My first born daughter loves this book and enj...</td>\n",
              "      <td>Big sissy loves this book</td>\n",
              "      <td>1522886400</td>\n",
              "      <td>NaN</td>\n",
              "      <td>NaN</td>\n",
              "    </tr>\n",
              "    <tr>\n",
              "      <th>1</th>\n",
              "      <td>2</td>\n",
              "      <td>0.000</td>\n",
              "      <td>0.444</td>\n",
              "      <td>0.556</td>\n",
              "      <td>0.3612</td>\n",
              "      <td>5.0</td>\n",
              "      <td>True</td>\n",
              "      <td>03 20, 2018</td>\n",
              "      <td>AFRZEPUFQ5MMC</td>\n",
              "      <td>0061900621</td>\n",
              "      <td>{'Format:': ' Hardcover'}</td>\n",
              "      <td>Mr. Frank</td>\n",
              "      <td>daughter like it</td>\n",
              "      <td>Five Stars</td>\n",
              "      <td>1521504000</td>\n",
              "      <td>NaN</td>\n",
              "      <td>NaN</td>\n",
              "    </tr>\n",
              "    <tr>\n",
              "      <th>2</th>\n",
              "      <td>3</td>\n",
              "      <td>0.000</td>\n",
              "      <td>0.895</td>\n",
              "      <td>0.105</td>\n",
              "      <td>0.4019</td>\n",
              "      <td>5.0</td>\n",
              "      <td>True</td>\n",
              "      <td>03 7, 2018</td>\n",
              "      <td>A1S1CPDH3FQJGW</td>\n",
              "      <td>0061900621</td>\n",
              "      <td>{'Format:': ' Hardcover'}</td>\n",
              "      <td>TMH21</td>\n",
              "      <td>I gave this book to a two and a half year old ...</td>\n",
              "      <td>A great gift.</td>\n",
              "      <td>1520380800</td>\n",
              "      <td>NaN</td>\n",
              "      <td>NaN</td>\n",
              "    </tr>\n",
              "    <tr>\n",
              "      <th>3</th>\n",
              "      <td>4</td>\n",
              "      <td>0.000</td>\n",
              "      <td>0.680</td>\n",
              "      <td>0.320</td>\n",
              "      <td>0.9056</td>\n",
              "      <td>5.0</td>\n",
              "      <td>True</td>\n",
              "      <td>02 6, 2018</td>\n",
              "      <td>AV4H0HWXRJN7C</td>\n",
              "      <td>0061900621</td>\n",
              "      <td>{'Format:': ' Hardcover'}</td>\n",
              "      <td>Sara</td>\n",
              "      <td>My daughter loves babies and telling her shes ...</td>\n",
              "      <td>Big sister hit.</td>\n",
              "      <td>1517875200</td>\n",
              "      <td>NaN</td>\n",
              "      <td>NaN</td>\n",
              "    </tr>\n",
              "    <tr>\n",
              "      <th>4</th>\n",
              "      <td>5</td>\n",
              "      <td>0.079</td>\n",
              "      <td>0.683</td>\n",
              "      <td>0.237</td>\n",
              "      <td>0.6597</td>\n",
              "      <td>5.0</td>\n",
              "      <td>True</td>\n",
              "      <td>01 25, 2018</td>\n",
              "      <td>AGQHMKOP1I3DL</td>\n",
              "      <td>0061900621</td>\n",
              "      <td>{'Format:': ' Paperback'}</td>\n",
              "      <td>Nancy Blaskewicz</td>\n",
              "      <td>This is the perfect book to give to a little g...</td>\n",
              "      <td>Good book when a new baby is expected.</td>\n",
              "      <td>1516838400</td>\n",
              "      <td>NaN</td>\n",
              "      <td>NaN</td>\n",
              "    </tr>\n",
              "  </tbody>\n",
              "</table>\n",
              "</div>\n",
              "    <div class=\"colab-df-buttons\">\n",
              "\n",
              "  <div class=\"colab-df-container\">\n",
              "    <button class=\"colab-df-convert\" onclick=\"convertToInteractive('df-90969f52-e8dc-43b5-bad4-d31bcddaeaa1')\"\n",
              "            title=\"Convert this dataframe to an interactive table.\"\n",
              "            style=\"display:none;\">\n",
              "\n",
              "  <svg xmlns=\"http://www.w3.org/2000/svg\" height=\"24px\" viewBox=\"0 -960 960 960\">\n",
              "    <path d=\"M120-120v-720h720v720H120Zm60-500h600v-160H180v160Zm220 220h160v-160H400v160Zm0 220h160v-160H400v160ZM180-400h160v-160H180v160Zm440 0h160v-160H620v160ZM180-180h160v-160H180v160Zm440 0h160v-160H620v160Z\"/>\n",
              "  </svg>\n",
              "    </button>\n",
              "\n",
              "  <style>\n",
              "    .colab-df-container {\n",
              "      display:flex;\n",
              "      gap: 12px;\n",
              "    }\n",
              "\n",
              "    .colab-df-convert {\n",
              "      background-color: #E8F0FE;\n",
              "      border: none;\n",
              "      border-radius: 50%;\n",
              "      cursor: pointer;\n",
              "      display: none;\n",
              "      fill: #1967D2;\n",
              "      height: 32px;\n",
              "      padding: 0 0 0 0;\n",
              "      width: 32px;\n",
              "    }\n",
              "\n",
              "    .colab-df-convert:hover {\n",
              "      background-color: #E2EBFA;\n",
              "      box-shadow: 0px 1px 2px rgba(60, 64, 67, 0.3), 0px 1px 3px 1px rgba(60, 64, 67, 0.15);\n",
              "      fill: #174EA6;\n",
              "    }\n",
              "\n",
              "    .colab-df-buttons div {\n",
              "      margin-bottom: 4px;\n",
              "    }\n",
              "\n",
              "    [theme=dark] .colab-df-convert {\n",
              "      background-color: #3B4455;\n",
              "      fill: #D2E3FC;\n",
              "    }\n",
              "\n",
              "    [theme=dark] .colab-df-convert:hover {\n",
              "      background-color: #434B5C;\n",
              "      box-shadow: 0px 1px 3px 1px rgba(0, 0, 0, 0.15);\n",
              "      filter: drop-shadow(0px 1px 2px rgba(0, 0, 0, 0.3));\n",
              "      fill: #FFFFFF;\n",
              "    }\n",
              "  </style>\n",
              "\n",
              "    <script>\n",
              "      const buttonEl =\n",
              "        document.querySelector('#df-90969f52-e8dc-43b5-bad4-d31bcddaeaa1 button.colab-df-convert');\n",
              "      buttonEl.style.display =\n",
              "        google.colab.kernel.accessAllowed ? 'block' : 'none';\n",
              "\n",
              "      async function convertToInteractive(key) {\n",
              "        const element = document.querySelector('#df-90969f52-e8dc-43b5-bad4-d31bcddaeaa1');\n",
              "        const dataTable =\n",
              "          await google.colab.kernel.invokeFunction('convertToInteractive',\n",
              "                                                    [key], {});\n",
              "        if (!dataTable) return;\n",
              "\n",
              "        const docLinkHtml = 'Like what you see? Visit the ' +\n",
              "          '<a target=\"_blank\" href=https://colab.research.google.com/notebooks/data_table.ipynb>data table notebook</a>'\n",
              "          + ' to learn more about interactive tables.';\n",
              "        element.innerHTML = '';\n",
              "        dataTable['output_type'] = 'display_data';\n",
              "        await google.colab.output.renderOutput(dataTable, element);\n",
              "        const docLink = document.createElement('div');\n",
              "        docLink.innerHTML = docLinkHtml;\n",
              "        element.appendChild(docLink);\n",
              "      }\n",
              "    </script>\n",
              "  </div>\n",
              "\n",
              "\n",
              "<div id=\"df-cf8bb32b-9b89-4010-8df1-1bafd29faa1c\">\n",
              "  <button class=\"colab-df-quickchart\" onclick=\"quickchart('df-cf8bb32b-9b89-4010-8df1-1bafd29faa1c')\"\n",
              "            title=\"Suggest charts\"\n",
              "            style=\"display:none;\">\n",
              "\n",
              "<svg xmlns=\"http://www.w3.org/2000/svg\" height=\"24px\"viewBox=\"0 0 24 24\"\n",
              "     width=\"24px\">\n",
              "    <g>\n",
              "        <path d=\"M19 3H5c-1.1 0-2 .9-2 2v14c0 1.1.9 2 2 2h14c1.1 0 2-.9 2-2V5c0-1.1-.9-2-2-2zM9 17H7v-7h2v7zm4 0h-2V7h2v10zm4 0h-2v-4h2v4z\"/>\n",
              "    </g>\n",
              "</svg>\n",
              "  </button>\n",
              "\n",
              "<style>\n",
              "  .colab-df-quickchart {\n",
              "      --bg-color: #E8F0FE;\n",
              "      --fill-color: #1967D2;\n",
              "      --hover-bg-color: #E2EBFA;\n",
              "      --hover-fill-color: #174EA6;\n",
              "      --disabled-fill-color: #AAA;\n",
              "      --disabled-bg-color: #DDD;\n",
              "  }\n",
              "\n",
              "  [theme=dark] .colab-df-quickchart {\n",
              "      --bg-color: #3B4455;\n",
              "      --fill-color: #D2E3FC;\n",
              "      --hover-bg-color: #434B5C;\n",
              "      --hover-fill-color: #FFFFFF;\n",
              "      --disabled-bg-color: #3B4455;\n",
              "      --disabled-fill-color: #666;\n",
              "  }\n",
              "\n",
              "  .colab-df-quickchart {\n",
              "    background-color: var(--bg-color);\n",
              "    border: none;\n",
              "    border-radius: 50%;\n",
              "    cursor: pointer;\n",
              "    display: none;\n",
              "    fill: var(--fill-color);\n",
              "    height: 32px;\n",
              "    padding: 0;\n",
              "    width: 32px;\n",
              "  }\n",
              "\n",
              "  .colab-df-quickchart:hover {\n",
              "    background-color: var(--hover-bg-color);\n",
              "    box-shadow: 0 1px 2px rgba(60, 64, 67, 0.3), 0 1px 3px 1px rgba(60, 64, 67, 0.15);\n",
              "    fill: var(--button-hover-fill-color);\n",
              "  }\n",
              "\n",
              "  .colab-df-quickchart-complete:disabled,\n",
              "  .colab-df-quickchart-complete:disabled:hover {\n",
              "    background-color: var(--disabled-bg-color);\n",
              "    fill: var(--disabled-fill-color);\n",
              "    box-shadow: none;\n",
              "  }\n",
              "\n",
              "  .colab-df-spinner {\n",
              "    border: 2px solid var(--fill-color);\n",
              "    border-color: transparent;\n",
              "    border-bottom-color: var(--fill-color);\n",
              "    animation:\n",
              "      spin 1s steps(1) infinite;\n",
              "  }\n",
              "\n",
              "  @keyframes spin {\n",
              "    0% {\n",
              "      border-color: transparent;\n",
              "      border-bottom-color: var(--fill-color);\n",
              "      border-left-color: var(--fill-color);\n",
              "    }\n",
              "    20% {\n",
              "      border-color: transparent;\n",
              "      border-left-color: var(--fill-color);\n",
              "      border-top-color: var(--fill-color);\n",
              "    }\n",
              "    30% {\n",
              "      border-color: transparent;\n",
              "      border-left-color: var(--fill-color);\n",
              "      border-top-color: var(--fill-color);\n",
              "      border-right-color: var(--fill-color);\n",
              "    }\n",
              "    40% {\n",
              "      border-color: transparent;\n",
              "      border-right-color: var(--fill-color);\n",
              "      border-top-color: var(--fill-color);\n",
              "    }\n",
              "    60% {\n",
              "      border-color: transparent;\n",
              "      border-right-color: var(--fill-color);\n",
              "    }\n",
              "    80% {\n",
              "      border-color: transparent;\n",
              "      border-right-color: var(--fill-color);\n",
              "      border-bottom-color: var(--fill-color);\n",
              "    }\n",
              "    90% {\n",
              "      border-color: transparent;\n",
              "      border-bottom-color: var(--fill-color);\n",
              "    }\n",
              "  }\n",
              "</style>\n",
              "\n",
              "  <script>\n",
              "    async function quickchart(key) {\n",
              "      const quickchartButtonEl =\n",
              "        document.querySelector('#' + key + ' button');\n",
              "      quickchartButtonEl.disabled = true;  // To prevent multiple clicks.\n",
              "      quickchartButtonEl.classList.add('colab-df-spinner');\n",
              "      try {\n",
              "        const charts = await google.colab.kernel.invokeFunction(\n",
              "            'suggestCharts', [key], {});\n",
              "      } catch (error) {\n",
              "        console.error('Error during call to suggestCharts:', error);\n",
              "      }\n",
              "      quickchartButtonEl.classList.remove('colab-df-spinner');\n",
              "      quickchartButtonEl.classList.add('colab-df-quickchart-complete');\n",
              "    }\n",
              "    (() => {\n",
              "      let quickchartButtonEl =\n",
              "        document.querySelector('#df-cf8bb32b-9b89-4010-8df1-1bafd29faa1c button');\n",
              "      quickchartButtonEl.style.display =\n",
              "        google.colab.kernel.accessAllowed ? 'block' : 'none';\n",
              "    })();\n",
              "  </script>\n",
              "</div>\n",
              "\n",
              "    </div>\n",
              "  </div>\n"
            ],
            "application/vnd.google.colaboratory.intrinsic+json": {
              "type": "dataframe",
              "variable_name": "vaders",
              "summary": "{\n  \"name\": \"vaders\",\n  \"rows\": 43117,\n  \"fields\": [\n    {\n      \"column\": \"Id\",\n      \"properties\": {\n        \"dtype\": \"number\",\n        \"std\": 12446,\n        \"min\": 1,\n        \"max\": 43117,\n        \"num_unique_values\": 43117,\n        \"samples\": [\n          36363,\n          31915,\n          33439\n        ],\n        \"semantic_type\": \"\",\n        \"description\": \"\"\n      }\n    },\n    {\n      \"column\": \"neg\",\n      \"properties\": {\n        \"dtype\": \"number\",\n        \"std\": 0.06525315213934203,\n        \"min\": 0.0,\n        \"max\": 1.0,\n        \"num_unique_values\": 464,\n        \"samples\": [\n          0.022,\n          0.122,\n          0.024\n        ],\n        \"semantic_type\": \"\",\n        \"description\": \"\"\n      }\n    },\n    {\n      \"column\": \"neu\",\n      \"properties\": {\n        \"dtype\": \"number\",\n        \"std\": 0.21709465776329778,\n        \"min\": 0.0,\n        \"max\": 1.0,\n        \"num_unique_values\": 867,\n        \"samples\": [\n          0.7,\n          0.42,\n          0.853\n        ],\n        \"semantic_type\": \"\",\n        \"description\": \"\"\n      }\n    },\n    {\n      \"column\": \"pos\",\n      \"properties\": {\n        \"dtype\": \"number\",\n        \"std\": 0.2309585691982157,\n        \"min\": 0.0,\n        \"max\": 1.0,\n        \"num_unique_values\": 877,\n        \"samples\": [\n          0.85,\n          0.826,\n          0.092\n        ],\n        \"semantic_type\": \"\",\n        \"description\": \"\"\n      }\n    },\n    {\n      \"column\": \"compound\",\n      \"properties\": {\n        \"dtype\": \"number\",\n        \"std\": 0.40846763731504215,\n        \"min\": -0.9994,\n        \"max\": 0.9999,\n        \"num_unique_values\": 6491,\n        \"samples\": [\n          0.2247,\n          0.257,\n          0.9465\n        ],\n        \"semantic_type\": \"\",\n        \"description\": \"\"\n      }\n    },\n    {\n      \"column\": \"overall\",\n      \"properties\": {\n        \"dtype\": \"number\",\n        \"std\": 0.7551048511273153,\n        \"min\": 1.0,\n        \"max\": 5.0,\n        \"num_unique_values\": 5,\n        \"samples\": [\n          5.0,\n          2.0,\n          1.0\n        ],\n        \"semantic_type\": \"\",\n        \"description\": \"\"\n      }\n    },\n    {\n      \"column\": \"verified\",\n      \"properties\": {\n        \"dtype\": \"boolean\",\n        \"num_unique_values\": 2,\n        \"samples\": [\n          false,\n          true\n        ],\n        \"semantic_type\": \"\",\n        \"description\": \"\"\n      }\n    },\n    {\n      \"column\": \"reviewTime\",\n      \"properties\": {\n        \"dtype\": \"object\",\n        \"num_unique_values\": 4471,\n        \"samples\": [\n          \"07 5, 2003\",\n          \"07 28, 2008\"\n        ],\n        \"semantic_type\": \"\",\n        \"description\": \"\"\n      }\n    },\n    {\n      \"column\": \"reviewerID\",\n      \"properties\": {\n        \"dtype\": \"string\",\n        \"num_unique_values\": 35718,\n        \"samples\": [\n          \"A1Q1JIUTWG7IC2\",\n          \"A1HSO4GII3EF70\"\n        ],\n        \"semantic_type\": \"\",\n        \"description\": \"\"\n      }\n    },\n    {\n      \"column\": \"asin\",\n      \"properties\": {\n        \"dtype\": \"category\",\n        \"num_unique_values\": 50,\n        \"samples\": [\n          \"0375850864\",\n          \"1419708457\"\n        ],\n        \"semantic_type\": \"\",\n        \"description\": \"\"\n      }\n    },\n    {\n      \"column\": \"style\",\n      \"properties\": {\n        \"dtype\": \"category\",\n        \"num_unique_values\": 16,\n        \"samples\": [\n          \"{'Format:': ' Hardcover'}\",\n          \"{'Format:': ' Paperback'}\"\n        ],\n        \"semantic_type\": \"\",\n        \"description\": \"\"\n      }\n    },\n    {\n      \"column\": \"reviewerName\",\n      \"properties\": {\n        \"dtype\": \"string\",\n        \"num_unique_values\": 29022,\n        \"samples\": [\n          \"Jellooe\",\n          \"Marjie, Mother of 9\"\n        ],\n        \"semantic_type\": \"\",\n        \"description\": \"\"\n      }\n    },\n    {\n      \"column\": \"reviewText\",\n      \"properties\": {\n        \"dtype\": \"string\",\n        \"num_unique_values\": 39724,\n        \"samples\": [\n          \"I love reading historical fiction and this is a great book if you like that genre. Kimberly Brubaker Bradley tells an interesting story about a 10 year old girl, crippled from birth, trapped in her mother's anger during the start of World War II. Ada, spends her days looking out the window, yearning to go outside. Her mother is embarassed by Ada's clubfoot and refuses to let her outside. Ada's younger brother, Jamie goes to school everyday, makes friends and gives Ada a portion of his food. One day, Ada finds out that all children will be evacuated to the countryside and is determined to escape her mother's imprisonment.\\n\\nAda embarks on an emotional and healing journey with her brother. Will Ada and Jamie find the love that they've missed their entire lives? This is a great summer read!\",\n          \"Don't listen to the bad review's, how is it not for twelve-year-olds?  I read this ebook and I loved it, I don't see how it's inappropriate, I read it and it didn't give me any bad ideas or any relation to actual middle school.\"\n        ],\n        \"semantic_type\": \"\",\n        \"description\": \"\"\n      }\n    },\n    {\n      \"column\": \"summary\",\n      \"properties\": {\n        \"dtype\": \"string\",\n        \"num_unique_values\": 24639,\n        \"samples\": [\n          \"Fabulous condition.\",\n          \"entertaining for the little ones\"\n        ],\n        \"semantic_type\": \"\",\n        \"description\": \"\"\n      }\n    },\n    {\n      \"column\": \"unixReviewTime\",\n      \"properties\": {\n        \"dtype\": \"number\",\n        \"std\": 108294585,\n        \"min\": 893116800,\n        \"max\": 1525737600,\n        \"num_unique_values\": 4471,\n        \"samples\": [\n          1057363200,\n          1217203200\n        ],\n        \"semantic_type\": \"\",\n        \"description\": \"\"\n      }\n    },\n    {\n      \"column\": \"vote\",\n      \"properties\": {\n        \"dtype\": \"category\",\n        \"num_unique_values\": 122,\n        \"samples\": [\n          \"8\",\n          \"70\"\n        ],\n        \"semantic_type\": \"\",\n        \"description\": \"\"\n      }\n    },\n    {\n      \"column\": \"image\",\n      \"properties\": {\n        \"dtype\": \"category\",\n        \"num_unique_values\": 119,\n        \"samples\": [\n          \"['https://images-na.ssl-images-amazon.com/images/I/71oHifg98yL._SY88.jpg', 'https://images-na.ssl-images-amazon.com/images/I/713kn1GvZDL._SY88.jpg']\",\n          \"['https://images-na.ssl-images-amazon.com/images/I/71B3SfZMINL._SY88.jpg']\"\n        ],\n        \"semantic_type\": \"\",\n        \"description\": \"\"\n      }\n    }\n  ]\n}"
            }
          },
          "metadata": {},
          "execution_count": 160
        }
      ]
    },
    {
      "cell_type": "code",
      "source": [
        "ax = sns.barplot(data=vaders, x='overall',hue='overall', y='compound',palette='viridis')\n",
        "ax.set_title('Compund Score by Amazon Star Review')\n",
        "plt.show()"
      ],
      "metadata": {
        "colab": {
          "base_uri": "https://localhost:8080/",
          "height": 477
        },
        "id": "-EtDBXPogheC",
        "outputId": "fd69bc97-fbbb-4608-c389-3af48c66d83f"
      },
      "execution_count": null,
      "outputs": [
        {
          "output_type": "display_data",
          "data": {
            "text/plain": [
              "<Figure size 640x480 with 1 Axes>"
            ],
            "image/png": "[encoded data removed]"
          },
          "metadata": {}
        }
      ]
    },
    {
      "cell_type": "code",
      "source": [
        "fig, axs = plt.subplots(1, 3, figsize=(12, 3))\n",
        "sns.barplot(data=vaders, x='overall',hue='overall',y='pos', ax=axs[0],palette='viridis')\n",
        "sns.barplot(data=vaders, x='overall',hue='overall', y='neu', ax=axs[1],palette='viridis')\n",
        "sns.barplot(data=vaders, x='overall',hue='overall', y='neg', ax=axs[2],palette='viridis')\n",
        "axs[0].set_title('Positive')\n",
        "axs[0].get_legend().remove()\n",
        "axs[1].set_title('Neutral')\n",
        "axs[1].get_legend().remove()\n",
        "axs[2].set_title('Negative')\n",
        "axs[2].get_legend().remove()\n",
        "plt.tight_layout()\n",
        "plt.show()"
      ],
      "metadata": {
        "colab": {
          "base_uri": "https://localhost:8080/",
          "height": 300
        },
        "id": "A4nPt_eXgmJS",
        "outputId": "608784d0-3ea8-40e7-e1b9-d408dcbd4831"
      },
      "execution_count": null,
      "outputs": [
        {
          "output_type": "display_data",
          "data": {
            "text/plain": [
              "<Figure size 1200x300 with 3 Axes>"
            ],
            "image/png": "[encoded data removed]"
          },
          "metadata": {}
        }
      ]
    },
    {
      "cell_type": "markdown",
      "source": [
        "# Filter out the unreasonable reviews"
      ],
      "metadata": {
        "id": "p4r2EGlQe3qj"
      }
    },
    {
      "cell_type": "code",
      "source": [
        "# Define the thresholds\n",
        "higher_threshold = 0.8  # Compound score above this value is considered high\n",
        "lower_threshold = 0.2  # Compound score below this value is considered low\n",
        "low_rating = 2  # Ratings at or below this are considered low\n",
        "high_rating = 4  # Ratings at or above this are considered high"
      ],
      "metadata": {
        "id": "L7hq50mTgsoE"
      },
      "execution_count": null,
      "outputs": []
    },
    {
      "cell_type": "code",
      "source": [
        "# Filter out unreasonable reviews\n",
        "# Case 1: Reviews with high positive sentiment but low Amazon rating\n",
        "print(vaders.shape)\n",
        "#print(vaders.head())\n",
        "\n",
        "unreasonable_case1 = vaders[(vaders['compound'] > higher_threshold) & (vaders['overall'] <= low_rating)]\n",
        "print(unreasonable_case1.shape)\n",
        "# Case 2: Reviews with high negative sentiment but high Amazon rating\n",
        "unreasonable_case2 = vaders[(vaders['compound'] < lower_threshold) & (vaders['overall'] >= high_rating)]\n",
        "print(unreasonable_case2.shape)\n",
        "# Combine both cases (note: this assumes you want to consider both types of \"unreasonable\" reviews)\n",
        "unreasonable_reviews = pd.concat([unreasonable_case1, unreasonable_case2])\n",
        "\n",
        "# Get the list of \"ID\" values for the unreasonable reviews\n",
        "unreasonable_ids = unreasonable_reviews['Id'].values\n",
        "print(unreasonable_ids)\n",
        "\n",
        "#Ensure the unique \"Id\" is the DataFrame index\n",
        "#if vaders.index.name != 'ID':\n",
        "#    vaders.set_index('ID', inplace=True)\n",
        "\n",
        "# To remove these unreasonable reviews from the original DataFrame by the 'ID' index\n",
        "#reasonable_reviews = vaders.drop(unreasonable_reviews.index, inplace=True)\n",
        "\n",
        "# Drop the rows from `vaders` where the \"ID\" matches the IDs in `unreasonable_ids`\n",
        "reasonable_reviews = vaders[~vaders['Id'].isin(unreasonable_ids)]\n",
        "reasonable_reviews.to_csv('reasonable_reviews.csv', index=False)\n",
        "print(reasonable_reviews.shape)"
      ],
      "metadata": {
        "colab": {
          "base_uri": "https://localhost:8080/"
        },
        "id": "vRC2m4Eggu0O",
        "outputId": "9dab82bd-682f-4470-e5e2-9b1db66bb2cd"
      },
      "execution_count": null,
      "outputs": [
        {
          "output_type": "stream",
          "name": "stdout",
          "text": [
            "(43117, 17)\n",
            "(259, 17)\n",
            "(3999, 17)\n",
            "[   87   228   654 ... 43077 43080 43088]\n",
            "(38859, 17)\n"
          ]
        }
      ]
    },
    {
      "cell_type": "code",
      "source": [
        "# Compute the average score grouped by ASIN\n",
        "average_overall = reasonable_reviews.groupby('asin')['overall'].mean().reset_index()\n",
        "average_compound = reasonable_reviews.groupby('asin')['compound'].mean().reset_index()\n",
        "#print( average_overall)\n",
        "print( average_compound)"
      ],
      "metadata": {
        "colab": {
          "base_uri": "https://localhost:8080/"
        },
        "id": "Rd4zxEuD4Ncg",
        "outputId": "d251fc10-6a00-425d-e85f-261f902eff1e"
      },
      "execution_count": null,
      "outputs": [
        {
          "output_type": "stream",
          "name": "stdout",
          "text": [
            "          asin  compound\n",
            "0   0061900621  0.740313\n",
            "1   0062110721  0.695464\n",
            "2   0142405809  0.770441\n",
            "3   014242286X  0.743458\n",
            "4   0147510481  0.737970\n",
            "5   0147515823  0.769088\n",
            "6   0307931528  0.718765\n",
            "7   0312346069  0.752841\n",
            "8   0312367481  0.709200\n",
            "9   0374300216  0.669873\n",
            "10  0374360960  0.777526\n",
            "11  0375813616  0.566634\n",
            "12  037582233X  0.771394\n",
            "13  0375848207  0.729358\n",
            "14  0375850864  0.816510\n",
            "15  0375858245  0.755903\n",
            "16  0375868488  0.705918\n",
            "17  0385376715  0.739329\n",
            "18  038538369X  0.646976\n",
            "19  0385743572  0.738192\n",
            "20  0399230033  0.790496\n",
            "21  0439023521  0.644665\n",
            "22  0439064864  0.746692\n",
            "23  0439139600  0.753356\n",
            "24  0439358078  0.702350\n",
            "25  0439673631  0.787539\n",
            "26  0439738199  0.713850\n",
            "27  0439813786  0.831785\n",
            "28  0545166810  0.757941\n",
            "29  0545540607  0.734094\n",
            "30  0761130675  0.788014\n",
            "31  0761456864  0.643250\n",
            "32  0763644765  0.691168\n",
            "33  0764152319  0.691618\n",
            "34  0803731930  0.623745\n",
            "35  0811877825  0.778700\n",
            "36  0887431453  0.712792\n",
            "37  0961519762  0.643503\n",
            "38  1416980067  0.686779\n",
            "39  1419708457  0.802345\n",
            "40  1423133080  0.787417\n",
            "41  142319957X  0.729033\n",
            "42  1442429771  0.775622\n",
            "43  1452109206  0.777421\n",
            "44  1465414053  0.633146\n",
            "45  1493527487  0.653086\n",
            "46  1554537045  0.750644\n",
            "47  1609580427  0.720194\n",
            "48  1609580834  0.725273\n",
            "49  1938298071  0.743364\n"
          ]
        }
      ]
    },
    {
      "cell_type": "code",
      "source": [
        "#Rank by the reasonable reviews\n",
        "# Assign ranks in ascending order (which aligns with the descending order of compound)\n",
        "average_compound['rank'] = average_compound['compound'].rank(method='min', ascending=False)\n",
        "df_rank_processed=average_compound.copy()\n",
        "df_rank_processed.to_csv('rank.csv', index=False)\n",
        "print(df_rank_processed)"
      ],
      "metadata": {
        "colab": {
          "base_uri": "https://localhost:8080/"
        },
        "id": "ft5VMvJN7QHx",
        "outputId": "986b4cbf-264f-4995-dd9b-75f8b5894615"
      },
      "execution_count": null,
      "outputs": [
        {
          "output_type": "stream",
          "name": "stdout",
          "text": [
            "          asin  compound  rank\n",
            "0   0061900621  0.740313  23.0\n",
            "1   0062110721  0.695464  38.0\n",
            "2   0142405809  0.770441  13.0\n",
            "3   014242286X  0.743458  21.0\n",
            "4   0147510481  0.737970  26.0\n",
            "5   0147515823  0.769088  14.0\n",
            "6   0307931528  0.718765  32.0\n",
            "7   0312346069  0.752841  18.0\n",
            "8   0312367481  0.709200  35.0\n",
            "9   0374300216  0.669873  42.0\n",
            "10  0374360960  0.777526   9.0\n",
            "11  0375813616  0.566634  50.0\n",
            "12  037582233X  0.771394  12.0\n",
            "13  0375848207  0.729358  28.0\n",
            "14  0375850864  0.816510   2.0\n",
            "15  0375858245  0.755903  16.0\n",
            "16  0375868488  0.705918  36.0\n",
            "17  0385376715  0.739329  24.0\n",
            "18  038538369X  0.646976  44.0\n",
            "19  0385743572  0.738192  25.0\n",
            "20  0399230033  0.790496   4.0\n",
            "21  0439023521  0.644665  45.0\n",
            "22  0439064864  0.746692  20.0\n",
            "23  0439139600  0.753356  17.0\n",
            "24  0439358078  0.702350  37.0\n",
            "25  0439673631  0.787539   6.0\n",
            "26  0439738199  0.713850  33.0\n",
            "27  0439813786  0.831785   1.0\n",
            "28  0545166810  0.757941  15.0\n",
            "29  0545540607  0.734094  27.0\n",
            "30  0761130675  0.788014   5.0\n",
            "31  0761456864  0.643250  47.0\n",
            "32  0763644765  0.691168  40.0\n",
            "33  0764152319  0.691618  39.0\n",
            "34  0803731930  0.623745  49.0\n",
            "35  0811877825  0.778700   8.0\n",
            "36  0887431453  0.712792  34.0\n",
            "37  0961519762  0.643503  46.0\n",
            "38  1416980067  0.686779  41.0\n",
            "39  1419708457  0.802345   3.0\n",
            "40  1423133080  0.787417   7.0\n",
            "41  142319957X  0.729033  29.0\n",
            "42  1442429771  0.775622  11.0\n",
            "43  1452109206  0.777421  10.0\n",
            "44  1465414053  0.633146  48.0\n",
            "45  1493527487  0.653086  43.0\n",
            "46  1554537045  0.750644  19.0\n",
            "47  1609580427  0.720194  31.0\n",
            "48  1609580834  0.725273  30.0\n",
            "49  1938298071  0.743364  22.0\n"
          ]
        }
      ]
    },
    {
      "cell_type": "code",
      "source": [
        "# Read in data with original rank\n",
        "df_rank = pd.read_excel(\"Book_rank_title.xlsx\")\n",
        "print(df_rank.shape)\n",
        "print(df_rank.head())\n",
        "print(df_rank[\"asin\"])"
      ],
      "metadata": {
        "colab": {
          "base_uri": "https://localhost:8080/"
        },
        "id": "7ZOgYPPo86MQ",
        "outputId": "0f5e89f0-4166-4a5c-b7e6-66e1d397636b"
      },
      "execution_count": null,
      "outputs": [
        {
          "output_type": "stream",
          "name": "stdout",
          "text": [
            "(128, 6)\n",
            "         asin  reviews_count  \\\n",
            "0  0385376715            644   \n",
            "1  038538369X            429   \n",
            "2  0375813616            377   \n",
            "3  0374300216            485   \n",
            "4  0887431453            312   \n",
            "\n",
            "                                               title  \\\n",
            "0                   The Wonderful Things You Will Be   \n",
            "1    P is for Potty! (Sesame Street) (Lift-the-Flap)   \n",
            "2  Junie B. Jones's First Boxed Set Ever! (Books ...   \n",
            "3                       If Animals Kissed Good Night   \n",
            "4  School Zone - Big Preschool Workbook - Ages 4 ...   \n",
            "\n",
            "                                            category  whole book rank  \\\n",
            "0  Books, Children's Books, Growing Up ; Facts of...               20   \n",
            "1  Books, Children's Books, Growing Up ; Facts of...               49   \n",
            "2  Books, Children's Books, Growing Up ; Facts of...               71   \n",
            "3  Books, Children's Books, Growing Up ; Facts of...               80   \n",
            "4  Books, Children's Books, Growing Up & Facts of...               94   \n",
            "\n",
            "   rank_origin  \n",
            "0            1  \n",
            "1            2  \n",
            "2            3  \n",
            "3            4  \n",
            "4            5  \n",
            "0      0385376715\n",
            "1      038538369X\n",
            "2      0375813616\n",
            "3      0374300216\n",
            "4      0887431453\n",
            "          ...    \n",
            "123    0307243273\n",
            "124    0060283157\n",
            "125    0843198915\n",
            "126    0756981808\n",
            "127    0141320222\n",
            "Name: asin, Length: 128, dtype: object\n"
          ]
        }
      ]
    },
    {
      "cell_type": "markdown",
      "source": [
        "# Combine and compare the original rank and reasonable review rank"
      ],
      "metadata": {
        "id": "pDgeu9aGerhB"
      }
    },
    {
      "cell_type": "code",
      "source": [
        "#If the 'asin' column's data type isn't object (which typically indicates a string in pandas), consider converting it:\n",
        "df_rank['asin'] = df_rank['asin'].astype(str)\n",
        "#Combine the original rank and reasonable review rank, and compare them\n",
        "combined_rank_df = pd.merge(df_rank_processed, df_rank, on='asin', how='inner')\n",
        "compare_rank_df = combined_rank_df[['asin', 'rank', 'rank_origin','title']]\n",
        "sorted_compare_rank_df = compare_rank_df.sort_values(by='rank', ascending=True)\n",
        "sorted_compare_rank_df.to_csv('sortedRankAfterProcessed.csv', index=False)\n",
        "#print(compare_rank_df)\n",
        "print(sorted_compare_rank_df)\n",
        "print(sorted_compare_rank_df.shape)"
      ],
      "metadata": {
        "colab": {
          "base_uri": "https://localhost:8080/"
        },
        "id": "eqamUQ019hix",
        "outputId": "e96b4506-8a9a-4ecc-8e8f-20b6ec449bcb"
      },
      "execution_count": null,
      "outputs": [
        {
          "output_type": "stream",
          "name": "stdout",
          "text": [
            "          asin  rank  rank_origin  \\\n",
            "27  0439813786   1.0           37   \n",
            "14  0375850864   2.0           48   \n",
            "39  1419708457   3.0            6   \n",
            "20  0399230033   4.0           21   \n",
            "30  0761130675   5.0           29   \n",
            "25  0439673631   6.0           47   \n",
            "40  1423133080   7.0           18   \n",
            "35  0811877825   8.0            8   \n",
            "10  0374360960   9.0           30   \n",
            "43  1452109206  10.0           36   \n",
            "42  1442429771  11.0           35   \n",
            "12  037582233X  12.0           27   \n",
            "2   0142405809  13.0           13   \n",
            "5   0147515823  14.0           39   \n",
            "28  0545166810  15.0           40   \n",
            "15  0375858245  16.0           45   \n",
            "23  0439139600  17.0           17   \n",
            "7   0312346069  18.0           49   \n",
            "46  1554537045  19.0           19   \n",
            "22  0439064864  20.0           25   \n",
            "3   014242286X  21.0           46   \n",
            "49  1938298071  22.0           15   \n",
            "0   0061900621  23.0           34   \n",
            "17  0385376715  24.0            1   \n",
            "19  0385743572  25.0           43   \n",
            "4   0147510481  26.0           31   \n",
            "29  0545540607  27.0           22   \n",
            "13  0375848207  28.0           26   \n",
            "41  142319957X  29.0           14   \n",
            "48  1609580834  30.0            7   \n",
            "47  1609580427  31.0           10   \n",
            "6   0307931528  32.0           33   \n",
            "26  0439738199  33.0           16   \n",
            "36  0887431453  34.0            5   \n",
            "8   0312367481  35.0           41   \n",
            "16  0375868488  36.0           50   \n",
            "24  0439358078  37.0           11   \n",
            "1   0062110721  38.0           23   \n",
            "33  0764152319  39.0           32   \n",
            "32  0763644765  40.0            9   \n",
            "38  1416980067  41.0           42   \n",
            "9   0374300216  42.0            4   \n",
            "45  1493527487  43.0           24   \n",
            "18  038538369X  44.0            2   \n",
            "21  0439023521  45.0           28   \n",
            "37  0961519762  46.0           44   \n",
            "31  0761456864  47.0           38   \n",
            "44  1465414053  48.0           20   \n",
            "34  0803731930  49.0           12   \n",
            "11  0375813616  50.0            3   \n",
            "\n",
            "                                                title  \n",
            "27                       The Invention of Hugo Cabret  \n",
            "14               When You Reach Me (Yearling Newbery)  \n",
            "39                             Rosie Revere, Engineer  \n",
            "20                                Good Night, Gorilla  \n",
            "30                  Snuggle Puppy! (Boynton on Board)  \n",
            "25                     I Love You Through And Through  \n",
            "40    We Are in a Book! (An Elephant and Piggie Book)  \n",
            "35             Goodnight, Goodnight Construction Site  \n",
            "10    The Pout-Pout Fish (A Pout-Pout Fish Adventure)  \n",
            "43                           Steam Train, Dream Train  \n",
            "42  Fablehaven Complete Set (Boxed Set): Fablehave...  \n",
            "12                         Stargirl (Stargirl Series)  \n",
            "2                             The Snail and the Whale  \n",
            "5                                 Brown Girl Dreaming  \n",
            "28  Suzanne Collins The Underland Chronicles 5 Boo...  \n",
            "15                              Because of Mr. Terupt  \n",
            "23                Harry Potter And The Goblet Of Fire  \n",
            "7                          On the Night You Were Born  \n",
            "46                         The Most Magnificent Thing  \n",
            "22            Harry Potter and the Chamber of Secrets  \n",
            "3                                      Counting by 7s  \n",
            "49                       What Do You Do With an Idea?  \n",
            "0                                    I'm a Big Sister  \n",
            "17                   The Wonderful Things You Will Be  \n",
            "19                         Steelheart (The Reckoners)  \n",
            "4                          The War That Saved My Life  \n",
            "29                                            Sisters  \n",
            "13                  Little Mommy (Little Golden Book)  \n",
            "41  Waiting Is Not Easy! (An Elephant and Piggie B...  \n",
            "48  The Care and Keeping of You: The Body Book for...  \n",
            "47  The Care and Keeping of You 2: The Body Book f...  \n",
            "6                                    Big Girl Panties  \n",
            "26  May I Please Have a Cookie? (Scholastic Reader...  \n",
            "36  School Zone - Big Preschool Workbook - Ages 4 ...  \n",
            "8                                   Tikki Tikki Tembo  \n",
            "16                   Where Do Diggers Sleep at Night?  \n",
            "24          Harry Potter And The Order Of The Phoenix  \n",
            "1   Pete the Cat: Pete at the Beach (My First I Ca...  \n",
            "33  Potty Book for Girls, The (Hannah ; Henry Series)  \n",
            "32              Potty (Leslie Patricelli board books)  \n",
            "38  Dork Diaries 1: Tales from a Not-So-Fabulous Life  \n",
            "9                        If Animals Kissed Good Night  \n",
            "45                         Diary of a 6th Grade Ninja  \n",
            "18    P is for Potty! (Sesame Street) (Lift-the-Flap)  \n",
            "21                          The Hunger Games (Book 1)  \n",
            "37         Tear Soup: A Recipe for Healing After Loss  \n",
            "31                        What If Everybody Did That?  \n",
            "44  Ultimate Sticker Book: Frozen: More Than 60 Re...  \n",
            "34  Baby Signs: A Baby-Sized Introduction to Speak...  \n",
            "11  Junie B. Jones's First Boxed Set Ever! (Books ...  \n",
            "(50, 4)\n"
          ]
        }
      ]
    },
    {
      "cell_type": "markdown",
      "source": [
        "# recommand reviews and rank for specific asin"
      ],
      "metadata": {
        "id": "AVf3w_Uaep58"
      }
    },
    {
      "cell_type": "code",
      "source": [
        "# Copy the reasonable_reviews df to recommand reviews\n",
        "df=reasonable_reviews.copy()\n",
        "print(df.shape)\n"
      ],
      "metadata": {
        "colab": {
          "base_uri": "https://localhost:8080/"
        },
        "id": "JfG3hNn9f3iM",
        "outputId": "fc9adedc-1184-44e8-d1d6-60e7a3ba6786"
      },
      "execution_count": null,
      "outputs": [
        {
          "output_type": "stream",
          "name": "stdout",
          "text": [
            "(38859, 17)\n"
          ]
        }
      ]
    },
    {
      "cell_type": "markdown",
      "source": [
        "#Extract 10 reviews based on the targeted different range of compound score"
      ],
      "metadata": {
        "id": "XAaIuABroMLi"
      }
    },
    {
      "cell_type": "code",
      "source": [
        "# List of target compound values\n",
        "target_compounds = [0.1, 0.3, 0.5, 0.7, 0.9]\n",
        "\n",
        "results = []  # To store the results\n",
        "\n",
        "for asin in df['asin'].unique():\n",
        "    for target_compound in target_compounds:\n",
        "        # Filter DataFrame for current ASIN and explicitly create a copy\n",
        "        temp_df = df[df['asin'] == asin].copy()\n",
        "\n",
        "        # Calculate absolute difference from target compound value\n",
        "        temp_df['difference'] = (temp_df['compound'] - target_compound).abs()\n",
        "\n",
        "        # Sort by difference and select top two\n",
        "        nearest_reviews = temp_df.sort_values(by='difference').head(2)\n",
        "\n",
        "        # Add target_compound and ASIN for clarity in the final DataFrame\n",
        "        nearest_reviews['target_compound'] = target_compound\n",
        "        nearest_reviews['asin'] = asin  # Reassigning ASIN in case it's lost during filtering\n",
        "\n",
        "        # Append to results\n",
        "        results.append(nearest_reviews)\n",
        "\n",
        "# Concatenate all results into a single DataFrame\n",
        "final_df = pd.concat(results, ignore_index=True)\n",
        "\n",
        "# Optionally, drop the 'difference' column if it's no longer needed\n",
        "final_df = final_df.drop(columns=['difference'])\n",
        "combined_details = pd.merge(final_df, sorted_compare_rank_df[['asin', 'rank','title']], on='asin', how='left')\n",
        "\n",
        "#final_df.to_csv('recommendedReviews10forOneAsin.csv', index=False)\n",
        "combined_details.to_csv('10ReviewsRankforAsins.csv', index=False)\n",
        "print(combined_details)\n",
        "#print(final_df)"
      ],
      "metadata": {
        "colab": {
          "base_uri": "https://localhost:8080/"
        },
        "id": "ssH9lyJLaRes",
        "outputId": "4b300151-bbee-4a21-adbd-66e3b85e2b9e"
      },
      "execution_count": null,
      "outputs": [
        {
          "output_type": "stream",
          "name": "stdout",
          "text": [
            "        Id    neg    neu    pos  compound  overall  verified   reviewTime  \\\n",
            "0      399  0.000  1.000  0.000    0.0000      1.0     False  04 30, 2006   \n",
            "1      245  0.000  0.954  0.046    0.2023      5.0     False  11 30, 2014   \n",
            "2       43  0.000  0.923  0.077    0.3291      5.0      True  12 17, 2016   \n",
            "3      223  0.000  0.938  0.062    0.3400      5.0      True   02 3, 2015   \n",
            "4      387  0.019  0.932  0.049    0.4945      5.0     False   05 5, 2008   \n",
            "..     ...    ...    ...    ...       ...      ...       ...          ...   \n",
            "495  42730  0.000  0.239  0.761    0.4926      5.0      True  07 23, 2016   \n",
            "496  42629  0.000  0.341  0.659    0.7003      5.0      True   10 9, 2017   \n",
            "497  42826  0.032  0.830  0.137    0.7005      5.0      True  07 17, 2015   \n",
            "498  42790  0.000  0.593  0.407    0.8999      5.0      True  01 10, 2016   \n",
            "499  42773  0.000  0.501  0.499    0.8989      5.0      True  02 22, 2016   \n",
            "\n",
            "         reviewerID        asin                      style  \\\n",
            "0    A2K44AH9XLQ5WV  0061900621  {'Format:': ' Hardcover'}   \n",
            "1     ASC5GQUB1ZPPD  0061900621  {'Format:': ' Hardcover'}   \n",
            "2    A1E38ETRELK0OU  0061900621  {'Format:': ' Hardcover'}   \n",
            "3     AAA3AXHBVOUC5  0061900621  {'Format:': ' Hardcover'}   \n",
            "4    A1UIUISV9DV8RH  0061900621  {'Format:': ' Hardcover'}   \n",
            "..              ...         ...                        ...   \n",
            "495  A202H9MYQHUMTV  1938298071  {'Format:': ' Hardcover'}   \n",
            "496   A8H3YW861FBJN  1938298071  {'Format:': ' Hardcover'}   \n",
            "497  A2ZGOW8NLHJHMF  1938298071  {'Format:': ' Hardcover'}   \n",
            "498   A8KT522COJMUR  1938298071  {'Format:': ' Hardcover'}   \n",
            "499   AD6Y0OHFBZS8E  1938298071  {'Format:': ' Hardcover'}   \n",
            "\n",
            "            reviewerName                                         reviewText  \\\n",
            "0             Happy Mama  Simply doesn't apply to our family, we don't f...   \n",
            "1                  Dr. D  Bringing home a new baby needs to be handled w...   \n",
            "2                   Erin  My daughter loves this book, and I got it used...   \n",
            "3            Jan Swanson  My daughter is a big sister and she is giving ...   \n",
            "4    Buy all the things!  This book among a couple of others really help...   \n",
            "..                   ...                                                ...   \n",
            "495             Judye P.                                        Good title!   \n",
            "496           C Strasser                    Good book as a graduation gift.   \n",
            "497      Stephanie Nieto  It is rare that I find a book that I like so m...   \n",
            "498               Knikki  My girls, 4 and 6 years old, loved this book! ...   \n",
            "499      Amazon Customer  My daughter loves this book. Great story about...   \n",
            "\n",
            "                                               summary  unixReviewTime vote  \\\n",
            "0                  Could do without the bottle feeding      1146355200   51   \n",
            "1    Lets the \"little\" big sister know what to expect.      1417305600  NaN   \n",
            "2                   Great books for big sisters to be!      1481932800  NaN   \n",
            "3    My daughter is a big sister and she is giving ...      1422921600  NaN   \n",
            "4                               Great for new siblings      1209945600  NaN   \n",
            "..                                                 ...             ...  ...   \n",
            "495                               Donated to a school.      1469232000  NaN   \n",
            "496                                         Five Stars      1507507200  NaN   \n",
            "497                                               Wow!      1437091200  NaN   \n",
            "498                                    loved this book      1452384000  NaN   \n",
            "499                                    Wonderful story      1456099200  NaN   \n",
            "\n",
            "    image  target_compound  rank                         title  \n",
            "0     NaN              0.1  23.0              I'm a Big Sister  \n",
            "1     NaN              0.1  23.0              I'm a Big Sister  \n",
            "2     NaN              0.3  23.0              I'm a Big Sister  \n",
            "3     NaN              0.3  23.0              I'm a Big Sister  \n",
            "4     NaN              0.5  23.0              I'm a Big Sister  \n",
            "..    ...              ...   ...                           ...  \n",
            "495   NaN              0.5  22.0  What Do You Do With an Idea?  \n",
            "496   NaN              0.7  22.0  What Do You Do With an Idea?  \n",
            "497   NaN              0.7  22.0  What Do You Do With an Idea?  \n",
            "498   NaN              0.9  22.0  What Do You Do With an Idea?  \n",
            "499   NaN              0.9  22.0  What Do You Do With an Idea?  \n",
            "\n",
            "[500 rows x 20 columns]\n"
          ]
        }
      ]
    },
    {
      "cell_type": "code",
      "source": [
        "# Specify the ASIN you're interested in\n",
        "specific_asin = '0061900621'\n",
        "# Use query to filter reviews for the specific ASIN\n",
        "specific_asin_details = final_df.query(\"asin == @specific_asin\")[[\"asin\",'reviewText',\"overall\",\"compound\"]]\n",
        "#print(specific_asin_details)\n",
        "combined_asin_details = pd.merge(specific_asin_details,  sorted_compare_rank_df[['asin', 'rank','title']], on='asin', how='left')\n",
        "\n",
        "print(combined_asin_details)"
      ],
      "metadata": {
        "colab": {
          "base_uri": "https://localhost:8080/"
        },
        "id": "Vdu-8C41jXhh",
        "outputId": "7e7b3ce0-97b1-4323-b787-b5b630d3dc24"
      },
      "execution_count": null,
      "outputs": [
        {
          "output_type": "stream",
          "name": "stdout",
          "text": [
            "         asin                                         reviewText  overall  \\\n",
            "0  0061900621  Simply doesn't apply to our family, we don't f...      1.0   \n",
            "1  0061900621  Bringing home a new baby needs to be handled w...      5.0   \n",
            "2  0061900621  My daughter loves this book, and I got it used...      5.0   \n",
            "3  0061900621  My daughter is a big sister and she is giving ...      5.0   \n",
            "4  0061900621  This book among a couple of others really help...      5.0   \n",
            "5  0061900621  This book is adorable. My toddler wanted me to...      5.0   \n",
            "6  0061900621                                          good gift      4.0   \n",
            "7  0061900621  We are due with our second and our two year ol...      5.0   \n",
            "8  0061900621  Our daughter loves this book!  It helps show t...      5.0   \n",
            "9  0061900621  Cute little books! I bought this and the \"I'm ...      5.0   \n",
            "\n",
            "   compound  rank             title  \n",
            "0    0.0000  23.0  I'm a Big Sister  \n",
            "1    0.2023  23.0  I'm a Big Sister  \n",
            "2    0.3291  23.0  I'm a Big Sister  \n",
            "3    0.3400  23.0  I'm a Big Sister  \n",
            "4    0.4945  23.0  I'm a Big Sister  \n",
            "5    0.4939  23.0  I'm a Big Sister  \n",
            "6    0.7003  23.0  I'm a Big Sister  \n",
            "7    0.7003  23.0  I'm a Big Sister  \n",
            "8    0.8997  23.0  I'm a Big Sister  \n",
            "9    0.8997  23.0  I'm a Big Sister  \n"
          ]
        }
      ]
    },
    {
      "cell_type": "code",
      "source": [
        "# Specify the ASIN you're interested in\n",
        "specific_asin = '1938298071'\n",
        "# Use query to filter reviews for the specific ASIN\n",
        "specific_asin_details = final_df.query(\"asin == @specific_asin\")[[\"asin\",'reviewText',\"overall\",\"compound\"]]\n",
        "#print(specific_asin_details)\n",
        "combined_asin_details = pd.merge(specific_asin_details,  sorted_compare_rank_df[['asin', 'rank','title']], on='asin', how='left')\n",
        "\n",
        "print(combined_asin_details)"
      ],
      "metadata": {
        "colab": {
          "base_uri": "https://localhost:8080/"
        },
        "id": "ZhQZj97ZnBOA",
        "outputId": "509bf6be-8491-4ef9-c4ad-6b560828f5e0"
      },
      "execution_count": null,
      "outputs": [
        {
          "output_type": "stream",
          "name": "stdout",
          "text": [
            "         asin                                         reviewText  overall  \\\n",
            "0  1938298071  Artwork is great & the lesson of the story as ...      5.0   \n",
            "1  1938298071  Purchased for my grandson. Recommended by my d...      5.0   \n",
            "2  1938298071           Another treasure in the pages of history      5.0   \n",
            "3  1938298071                      Good, thought provoking book.      4.0   \n",
            "4  1938298071  I think the story and illustrations are adorable.      5.0   \n",
            "5  1938298071                                        Good title!      5.0   \n",
            "6  1938298071                    Good book as a graduation gift.      5.0   \n",
            "7  1938298071  It is rare that I find a book that I like so m...      5.0   \n",
            "8  1938298071  My girls, 4 and 6 years old, loved this book! ...      5.0   \n",
            "9  1938298071  My daughter loves this book. Great story about...      5.0   \n",
            "\n",
            "   compound  rank                         title  \n",
            "0    0.2003  22.0  What Do You Do With an Idea?  \n",
            "1    0.2023  22.0  What Do You Do With an Idea?  \n",
            "2    0.2960  22.0  What Do You Do With an Idea?  \n",
            "3    0.2732  22.0  What Do You Do With an Idea?  \n",
            "4    0.4939  22.0  What Do You Do With an Idea?  \n",
            "5    0.4926  22.0  What Do You Do With an Idea?  \n",
            "6    0.7003  22.0  What Do You Do With an Idea?  \n",
            "7    0.7005  22.0  What Do You Do With an Idea?  \n",
            "8    0.8999  22.0  What Do You Do With an Idea?  \n",
            "9    0.8989  22.0  What Do You Do With an Idea?  \n"
          ]
        }
      ]
    },
    {
      "cell_type": "markdown",
      "source": [
        "# Extract 2 reviews around the average compound score"
      ],
      "metadata": {
        "id": "yu11O3ECoe8A"
      }
    },
    {
      "cell_type": "code",
      "source": [
        "# Assuming 'df' is your main DataFrame with the reviews and their compound scores\n",
        "# Assuming 'df_rank_processed' contains ASINs with specific target compound scores\n",
        "\n",
        "results = []  # To store the results\n",
        "\n",
        "for asin in df['asin'].unique():\n",
        "    # Assuming each ASIN has a unique compound value in df_rank_processed\n",
        "    # If multiple, this takes the first one; adjust according to your data\n",
        "    target_compound = df_rank_processed.query(\"asin == @asin\")['compound'].iloc[0]\n",
        "\n",
        "    temp_df = df[df['asin'] == asin].copy()\n",
        "\n",
        "    # Calculate absolute difference from target compound value\n",
        "    temp_df['difference'] = (temp_df['compound'] - target_compound).abs()\n",
        "\n",
        "    # Sort by difference and select top two\n",
        "    nearest_reviews = temp_df.sort_values(by='difference').head(2)\n",
        "\n",
        "    # Add target_compound and ASIN for clarity in the final DataFrame\n",
        "    nearest_reviews['target_compound'] = target_compound\n",
        "    nearest_reviews['asin'] = asin  # Ensuring ASIN column is correct\n",
        "\n",
        "    # Append to results\n",
        "    results.append(nearest_reviews)\n",
        "\n",
        "# Concatenate all results into a single DataFrame\n",
        "final_df = pd.concat(results, ignore_index=True)\n",
        "\n",
        "# Optionally, drop the 'difference' column if it's no longer needed\n",
        "final_df = final_df.drop(columns=['difference'])\n",
        "final_df.to_csv('2ReviewsRankforAsins.csv', index=False)\n",
        "print(final_df)"
      ],
      "metadata": {
        "colab": {
          "base_uri": "https://localhost:8080/"
        },
        "id": "0HnyJLaRo71S",
        "outputId": "221864d1-1cd2-4751-dc69-e100fef12046"
      },
      "execution_count": null,
      "outputs": [
        {
          "output_type": "stream",
          "name": "stdout",
          "text": [
            "       Id    neg    neu    pos  compound  overall  verified   reviewTime  \\\n",
            "0     310  0.000  0.813  0.187    0.7351      5.0      True  02 23, 2014   \n",
            "1     334  0.000  0.829  0.171    0.7343      4.0      True   09 3, 2013   \n",
            "2     757  0.000  0.834  0.166    0.6988      5.0      True  07 30, 2013   \n",
            "3     692  0.000  0.637  0.363    0.6908      3.0      True  08 12, 2014   \n",
            "4     898  0.000  0.831  0.169    0.7717      5.0      True   10 2, 2016   \n",
            "..    ...    ...    ...    ...       ...      ...       ...          ...   \n",
            "95  41586  0.000  0.667  0.333    0.7184      5.0      True  05 12, 2015   \n",
            "96  42183  0.103  0.645  0.252    0.7256      5.0      True   09 3, 2015   \n",
            "97  42478  0.000  0.821  0.179    0.7263      5.0      True  03 11, 2014   \n",
            "98  42892  0.000  0.613  0.387    0.7430      4.0      True  07 21, 2014   \n",
            "99  42638  0.000  0.780  0.220    0.7351      5.0      True  08 24, 2017   \n",
            "\n",
            "        reviewerID        asin                      style  \\\n",
            "0   A1VS280PPP7NJU  0061900621  {'Format:': ' Hardcover'}   \n",
            "1   A3RHIXYSL7H9SB  0061900621  {'Format:': ' Hardcover'}   \n",
            "2   A29GSXAO8ZIXQT  0062110721  {'Format:': ' Paperback'}   \n",
            "3   A3GEKEN2QY0N26  0062110721  {'Format:': ' Paperback'}   \n",
            "4   A3QGPBO7XF0ZPH  0142405809  {'Format:': ' Paperback'}   \n",
            "..             ...         ...                        ...   \n",
            "95   ARR1QHTJRA3BH  1609580427  {'Format:': ' Paperback'}   \n",
            "96   A7CF0V6YE1XFG  1609580834  {'Format:': ' Paperback'}   \n",
            "97  A3SQ7H2A03XAK8  1609580834  {'Format:': ' Paperback'}   \n",
            "98   AYYVWSNFY25RK  1938298071  {'Format:': ' Hardcover'}   \n",
            "99   AAJFWN26YHI01  1938298071  {'Format:': ' Hardcover'}   \n",
            "\n",
            "            reviewerName                                         reviewText  \\\n",
            "0                  Linda  I have a niece that is going to be a big siste...   \n",
            "1        Amazon Customer  We got this book for our daughter, because soo...   \n",
            "2       Kimberly Sarasin  Bought the set of Pete the Cat books for my gr...   \n",
            "3                  Marly  Cute book for beach.  Thin and paperback, but ...   \n",
            "4              Michael B  What a cute story this is. Our two year old gr...   \n",
            "..                   ...                                                ...   \n",
            "95               America  I love reading these books with my daughter. O...   \n",
            "96                     J  Great book. I purchased for lo before the talk...   \n",
            "97         Howard C. Ray  My granddaughter read this book cover to cover...   \n",
            "98  Michelle R  Lawrence  I was enchanted by the illustrations and story...   \n",
            "99           Karl Kelley  I have been using this book with my research t...   \n",
            "\n",
            "                                              summary  unixReviewTime vote  \\\n",
            "0                                 Fun for big sister.      1393113600  NaN   \n",
            "1                                 Having another baby      1378166400  NaN   \n",
            "2                  My Grandchildren love these books!      1375142400  NaN   \n",
            "3                                           Cute book      1407801600  NaN   \n",
            "4                              Whale of a Good Story!      1475366400  NaN   \n",
            "..                                                ...             ...  ...   \n",
            "95                                         Great book      1431388800  NaN   \n",
            "96  Great book. I purchased for lo before the talk...      1441238400  NaN   \n",
            "97                very useful book for pre-teen girls      1394496000  NaN   \n",
            "98                                         Four Stars      1405900800  NaN   \n",
            "99                    For Children and Research Teams      1503532800  NaN   \n",
            "\n",
            "   image  target_compound  \n",
            "0    NaN         0.740313  \n",
            "1    NaN         0.740313  \n",
            "2    NaN         0.695464  \n",
            "3    NaN         0.695464  \n",
            "4    NaN         0.770441  \n",
            "..   ...              ...  \n",
            "95   NaN         0.720194  \n",
            "96   NaN         0.725273  \n",
            "97   NaN         0.725273  \n",
            "98   NaN         0.743364  \n",
            "99   NaN         0.743364  \n",
            "\n",
            "[100 rows x 18 columns]\n"
          ]
        }
      ]
    },
    {
      "cell_type": "code",
      "source": [
        "# Specify the ASIN you're interested in\n",
        "specific_asin = '0061900621'\n",
        "# Use query to filter reviews for the specific ASIN\n",
        "specific_asin_details = final_df.query(\"asin == @specific_asin\")[[\"asin\",'reviewText',\"overall\",\"compound\"]]\n",
        "#print(specific_asin_details)\n",
        "combined_asin_details = pd.merge(specific_asin_details,  sorted_compare_rank_df[['asin', 'rank','title']], on='asin', how='left')\n",
        "\n",
        "print(combined_asin_details)"
      ],
      "metadata": {
        "colab": {
          "base_uri": "https://localhost:8080/"
        },
        "id": "pC2VinbKqvHg",
        "outputId": "3cc7fa76-717a-462f-a0c3-2eabe4dd4993"
      },
      "execution_count": null,
      "outputs": [
        {
          "output_type": "stream",
          "name": "stdout",
          "text": [
            "         asin                                         reviewText  overall  \\\n",
            "0  0061900621  I have a niece that is going to be a big siste...      5.0   \n",
            "1  0061900621  We got this book for our daughter, because soo...      4.0   \n",
            "\n",
            "   compound  rank             title  \n",
            "0    0.7351  23.0  I'm a Big Sister  \n",
            "1    0.7343  23.0  I'm a Big Sister  \n"
          ]
        }
      ]
    },
    {
      "cell_type": "code",
      "source": [
        "# Specify the ASIN you're interested in\n",
        "specific_asin = '1938298071'\n",
        "# Use query to filter reviews for the specific ASIN\n",
        "specific_asin_details = final_df.query(\"asin == @specific_asin\")[[\"asin\",'reviewText',\"overall\",\"compound\"]]\n",
        "#print(specific_asin_details)\n",
        "combined_asin_details = pd.merge(specific_asin_details,  sorted_compare_rank_df[['asin', 'rank','title']], on='asin', how='left')\n",
        "\n",
        "print(combined_asin_details)"
      ],
      "metadata": {
        "colab": {
          "base_uri": "https://localhost:8080/"
        },
        "id": "aGKq3RLNq6e0",
        "outputId": "de3c758b-00e9-47ca-9234-4e1db049eb54"
      },
      "execution_count": null,
      "outputs": [
        {
          "output_type": "stream",
          "name": "stdout",
          "text": [
            "         asin                                         reviewText  overall  \\\n",
            "0  1938298071  I was enchanted by the illustrations and story...      4.0   \n",
            "1  1938298071  I have been using this book with my research t...      5.0   \n",
            "\n",
            "   compound  rank                         title  \n",
            "0    0.7430  22.0  What Do You Do With an Idea?  \n",
            "1    0.7351  22.0  What Do You Do With an Idea?  \n"
          ]
        }
      ]
    }
  ]
}