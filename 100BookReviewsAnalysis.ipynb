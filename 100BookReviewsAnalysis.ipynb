{
  "nbformat": 4,
  "nbformat_minor": 0,
  "metadata": {
    "colab": {
      "provenance": [],
      "authorship_tag": "ABX9TyMzU4YQMXQ3e5SgFszqK5QY",
      "include_colab_link": true
    },
    "kernelspec": {
      "name": "python3",
      "display_name": "Python 3"
    },
    "language_info": {
      "name": "python"
    },
    "widgets": {
      "application/vnd.jupyter.widget-state+json": {
        "24dfa783252f401c9d678f38887de0f8": {
          "model_module": "@jupyter-widgets/controls",
          "model_name": "HBoxModel",
          "model_module_version": "1.5.0",
          "state": {
            "_dom_classes": [],
            "_model_module": "@jupyter-widgets/controls",
            "_model_module_version": "1.5.0",
            "_model_name": "HBoxModel",
            "_view_count": null,
            "_view_module": "@jupyter-widgets/controls",
            "_view_module_version": "1.5.0",
            "_view_name": "HBoxView",
            "box_style": "",
            "children": [
              "IPY_MODEL_fae2ede4a4f24b9ea15560c21e3ebae8",
              "IPY_MODEL_7692b5d182384671a1efb9da23bb83dc",
              "IPY_MODEL_9345b0b3b77b4396b74c7620f07a50a9"
            ],
            "layout": "IPY_MODEL_f90cb96cf679418b8cea033614c777cd"
          }
        },
        "fae2ede4a4f24b9ea15560c21e3ebae8": {
          "model_module": "@jupyter-widgets/controls",
          "model_name": "HTMLModel",
          "model_module_version": "1.5.0",
          "state": {
            "_dom_classes": [],
            "_model_module": "@jupyter-widgets/controls",
            "_model_module_version": "1.5.0",
            "_model_name": "HTMLModel",
            "_view_count": null,
            "_view_module": "@jupyter-widgets/controls",
            "_view_module_version": "1.5.0",
            "_view_name": "HTMLView",
            "description": "",
            "description_tooltip": null,
            "layout": "IPY_MODEL_4c517fc50948414186ddcf3992c1fec4",
            "placeholder": "​",
            "style": "IPY_MODEL_273bbd9c87884980886bb215eaff9523",
            "value": "100%"
          }
        },
        "7692b5d182384671a1efb9da23bb83dc": {
          "model_module": "@jupyter-widgets/controls",
          "model_name": "FloatProgressModel",
          "model_module_version": "1.5.0",
          "state": {
            "_dom_classes": [],
            "_model_module": "@jupyter-widgets/controls",
            "_model_module_version": "1.5.0",
            "_model_name": "FloatProgressModel",
            "_view_count": null,
            "_view_module": "@jupyter-widgets/controls",
            "_view_module_version": "1.5.0",
            "_view_name": "ProgressView",
            "bar_style": "success",
            "description": "",
            "description_tooltip": null,
            "layout": "IPY_MODEL_bfb50652d54c4ee29126252aa9b2c008",
            "max": 89571,
            "min": 0,
            "orientation": "horizontal",
            "style": "IPY_MODEL_134d4cbfd87e425ab935c70d27b90727",
            "value": 89571
          }
        },
        "9345b0b3b77b4396b74c7620f07a50a9": {
          "model_module": "@jupyter-widgets/controls",
          "model_name": "HTMLModel",
          "model_module_version": "1.5.0",
          "state": {
            "_dom_classes": [],
            "_model_module": "@jupyter-widgets/controls",
            "_model_module_version": "1.5.0",
            "_model_name": "HTMLModel",
            "_view_count": null,
            "_view_module": "@jupyter-widgets/controls",
            "_view_module_version": "1.5.0",
            "_view_name": "HTMLView",
            "description": "",
            "description_tooltip": null,
            "layout": "IPY_MODEL_4bb3b15f45354960b58b3d88066bd717",
            "placeholder": "​",
            "style": "IPY_MODEL_70c98f276f4c4713943c4d7103e9591a",
            "value": " 89571/89571 [01:32&lt;00:00, 1558.59it/s]"
          }
        },
        "f90cb96cf679418b8cea033614c777cd": {
          "model_module": "@jupyter-widgets/base",
          "model_name": "LayoutModel",
          "model_module_version": "1.2.0",
          "state": {
            "_model_module": "@jupyter-widgets/base",
            "_model_module_version": "1.2.0",
            "_model_name": "LayoutModel",
            "_view_count": null,
            "_view_module": "@jupyter-widgets/base",
            "_view_module_version": "1.2.0",
            "_view_name": "LayoutView",
            "align_content": null,
            "align_items": null,
            "align_self": null,
            "border": null,
            "bottom": null,
            "display": null,
            "flex": null,
            "flex_flow": null,
            "grid_area": null,
            "grid_auto_columns": null,
            "grid_auto_flow": null,
            "grid_auto_rows": null,
            "grid_column": null,
            "grid_gap": null,
            "grid_row": null,
            "grid_template_areas": null,
            "grid_template_columns": null,
            "grid_template_rows": null,
            "height": null,
            "justify_content": null,
            "justify_items": null,
            "left": null,
            "margin": null,
            "max_height": null,
            "max_width": null,
            "min_height": null,
            "min_width": null,
            "object_fit": null,
            "object_position": null,
            "order": null,
            "overflow": null,
            "overflow_x": null,
            "overflow_y": null,
            "padding": null,
            "right": null,
            "top": null,
            "visibility": null,
            "width": null
          }
        },
        "4c517fc50948414186ddcf3992c1fec4": {
          "model_module": "@jupyter-widgets/base",
          "model_name": "LayoutModel",
          "model_module_version": "1.2.0",
          "state": {
            "_model_module": "@jupyter-widgets/base",
            "_model_module_version": "1.2.0",
            "_model_name": "LayoutModel",
            "_view_count": null,
            "_view_module": "@jupyter-widgets/base",
            "_view_module_version": "1.2.0",
            "_view_name": "LayoutView",
            "align_content": null,
            "align_items": null,
            "align_self": null,
            "border": null,
            "bottom": null,
            "display": null,
            "flex": null,
            "flex_flow": null,
            "grid_area": null,
            "grid_auto_columns": null,
            "grid_auto_flow": null,
            "grid_auto_rows": null,
            "grid_column": null,
            "grid_gap": null,
            "grid_row": null,
            "grid_template_areas": null,
            "grid_template_columns": null,
            "grid_template_rows": null,
            "height": null,
            "justify_content": null,
            "justify_items": null,
            "left": null,
            "margin": null,
            "max_height": null,
            "max_width": null,
            "min_height": null,
            "min_width": null,
            "object_fit": null,
            "object_position": null,
            "order": null,
            "overflow": null,
            "overflow_x": null,
            "overflow_y": null,
            "padding": null,
            "right": null,
            "top": null,
            "visibility": null,
            "width": null
          }
        },
        "273bbd9c87884980886bb215eaff9523": {
          "model_module": "@jupyter-widgets/controls",
          "model_name": "DescriptionStyleModel",
          "model_module_version": "1.5.0",
          "state": {
            "_model_module": "@jupyter-widgets/controls",
            "_model_module_version": "1.5.0",
            "_model_name": "DescriptionStyleModel",
            "_view_count": null,
            "_view_module": "@jupyter-widgets/base",
            "_view_module_version": "1.2.0",
            "_view_name": "StyleView",
            "description_width": ""
          }
        },
        "bfb50652d54c4ee29126252aa9b2c008": {
          "model_module": "@jupyter-widgets/base",
          "model_name": "LayoutModel",
          "model_module_version": "1.2.0",
          "state": {
            "_model_module": "@jupyter-widgets/base",
            "_model_module_version": "1.2.0",
            "_model_name": "LayoutModel",
            "_view_count": null,
            "_view_module": "@jupyter-widgets/base",
            "_view_module_version": "1.2.0",
            "_view_name": "LayoutView",
            "align_content": null,
            "align_items": null,
            "align_self": null,
            "border": null,
            "bottom": null,
            "display": null,
            "flex": null,
            "flex_flow": null,
            "grid_area": null,
            "grid_auto_columns": null,
            "grid_auto_flow": null,
            "grid_auto_rows": null,
            "grid_column": null,
            "grid_gap": null,
            "grid_row": null,
            "grid_template_areas": null,
            "grid_template_columns": null,
            "grid_template_rows": null,
            "height": null,
            "justify_content": null,
            "justify_items": null,
            "left": null,
            "margin": null,
            "max_height": null,
            "max_width": null,
            "min_height": null,
            "min_width": null,
            "object_fit": null,
            "object_position": null,
            "order": null,
            "overflow": null,
            "overflow_x": null,
            "overflow_y": null,
            "padding": null,
            "right": null,
            "top": null,
            "visibility": null,
            "width": null
          }
        },
        "134d4cbfd87e425ab935c70d27b90727": {
          "model_module": "@jupyter-widgets/controls",
          "model_name": "ProgressStyleModel",
          "model_module_version": "1.5.0",
          "state": {
            "_model_module": "@jupyter-widgets/controls",
            "_model_module_version": "1.5.0",
            "_model_name": "ProgressStyleModel",
            "_view_count": null,
            "_view_module": "@jupyter-widgets/base",
            "_view_module_version": "1.2.0",
            "_view_name": "StyleView",
            "bar_color": null,
            "description_width": ""
          }
        },
        "4bb3b15f45354960b58b3d88066bd717": {
          "model_module": "@jupyter-widgets/base",
          "model_name": "LayoutModel",
          "model_module_version": "1.2.0",
          "state": {
            "_model_module": "@jupyter-widgets/base",
            "_model_module_version": "1.2.0",
            "_model_name": "LayoutModel",
            "_view_count": null,
            "_view_module": "@jupyter-widgets/base",
            "_view_module_version": "1.2.0",
            "_view_name": "LayoutView",
            "align_content": null,
            "align_items": null,
            "align_self": null,
            "border": null,
            "bottom": null,
            "display": null,
            "flex": null,
            "flex_flow": null,
            "grid_area": null,
            "grid_auto_columns": null,
            "grid_auto_flow": null,
            "grid_auto_rows": null,
            "grid_column": null,
            "grid_gap": null,
            "grid_row": null,
            "grid_template_areas": null,
            "grid_template_columns": null,
            "grid_template_rows": null,
            "height": null,
            "justify_content": null,
            "justify_items": null,
            "left": null,
            "margin": null,
            "max_height": null,
            "max_width": null,
            "min_height": null,
            "min_width": null,
            "object_fit": null,
            "object_position": null,
            "order": null,
            "overflow": null,
            "overflow_x": null,
            "overflow_y": null,
            "padding": null,
            "right": null,
            "top": null,
            "visibility": null,
            "width": null
          }
        },
        "70c98f276f4c4713943c4d7103e9591a": {
          "model_module": "@jupyter-widgets/controls",
          "model_name": "DescriptionStyleModel",
          "model_module_version": "1.5.0",
          "state": {
            "_model_module": "@jupyter-widgets/controls",
            "_model_module_version": "1.5.0",
            "_model_name": "DescriptionStyleModel",
            "_view_count": null,
            "_view_module": "@jupyter-widgets/base",
            "_view_module_version": "1.2.0",
            "_view_name": "StyleView",
            "description_width": ""
          }
        }
      }
    }
  },
  "cells": [
    {
      "cell_type": "markdown",
      "metadata": {
        "id": "view-in-github",
        "colab_type": "text"
      },
      "source": [
        "<a href=\"https://colab.research.google.com/github/Feiquanl/CS5100Project/blob/main/100BookReviewsAnalysis.ipynb\" target=\"_parent\"><img src=\"https://colab.research.google.com/assets/colab-badge.svg\" alt=\"Open In Colab\"/></a>"
      ]
    },
    {
      "cell_type": "code",
      "execution_count": null,
      "metadata": {
        "colab": {
          "base_uri": "https://localhost:8080/"
        },
        "id": "aw8nMIjsetFt",
        "outputId": "43d2b47d-9a0d-44b0-b29d-13dfd045f9ef"
      },
      "outputs": [
        {
          "output_type": "stream",
          "name": "stderr",
          "text": [
            "[nltk_data] Downloading package punkt to /root/nltk_data...\n",
            "[nltk_data]   Package punkt is already up-to-date!\n",
            "[nltk_data] Downloading package averaged_perceptron_tagger to\n",
            "[nltk_data]     /root/nltk_data...\n",
            "[nltk_data]   Package averaged_perceptron_tagger is already up-to-\n",
            "[nltk_data]       date!\n",
            "[nltk_data] Downloading package maxent_ne_chunker to\n",
            "[nltk_data]     /root/nltk_data...\n",
            "[nltk_data]   Package maxent_ne_chunker is already up-to-date!\n",
            "[nltk_data] Downloading package words to /root/nltk_data...\n",
            "[nltk_data]   Package words is already up-to-date!\n",
            "[nltk_data] Downloading package vader_lexicon to /root/nltk_data...\n",
            "[nltk_data]   Package vader_lexicon is already up-to-date!\n"
          ]
        },
        {
          "output_type": "execute_result",
          "data": {
            "text/plain": [
              "True"
            ]
          },
          "metadata": {},
          "execution_count": 9
        }
      ],
      "source": [
        "import pandas as pd\n",
        "import numpy as np\n",
        "import matplotlib.pyplot as plt\n",
        "import seaborn as sns\n",
        "from transformers import pipeline\n",
        "\n",
        "plt.style.use('ggplot')\n",
        "\n",
        "import nltk\n",
        "nltk.download('punkt')\n",
        "nltk.download('averaged_perceptron_tagger')\n",
        "nltk.download('maxent_ne_chunker')\n",
        "nltk.download('words')\n",
        "nltk.download('vader_lexicon')"
      ]
    },
    {
      "cell_type": "code",
      "source": [
        "# Read in data\n",
        "df = pd.read_csv(\"Book_1_100.csv\")\n",
        "print(df.shape)\n",
        "#df = df.head(500)\n",
        "columns_to_check=[\"reviewText\",\"summary\"]\n",
        "df = df.dropna(subset=columns_to_check)\n",
        "print(df.shape)"
      ],
      "metadata": {
        "colab": {
          "base_uri": "https://localhost:8080/"
        },
        "id": "QmM1o9-Ge9ts",
        "outputId": "1139c1a8-eae9-4378-f2a7-8360102a4fb0"
      },
      "execution_count": null,
      "outputs": [
        {
          "output_type": "stream",
          "name": "stdout",
          "text": [
            "(89635, 12)\n",
            "(89571, 12)\n"
          ]
        }
      ]
    },
    {
      "cell_type": "code",
      "source": [
        "\n",
        "# Now, count the occurrences of each unique value in the 'overall' column of the filtered DataFrame\n",
        "# and then sort these counts based on the index, which in this case is the review rating value itself.\n",
        "ax = df['overall'].value_counts().sort_index() \\\n",
        "    .plot(kind='bar',  # Plot the counts as a bar chart.\n",
        "          title=f'Count of Reviews by Stars',  # Set the title of the plot, including the ASIN.\n",
        "          figsize=(10, 5))  # Set the size of the plot to 10 inches wide by 5 inches tall.\n",
        "\n",
        "# Set the label for the x-axis of the plot to 'Review Stars'.\n",
        "ax.set_xlabel('Review Stars')\n",
        "\n",
        "# Display the plot.\n",
        "plt.show()"
      ],
      "metadata": {
        "colab": {
          "base_uri": "https://localhost:8080/",
          "height": 500
        },
        "id": "wH7-2JQnfFNP",
        "outputId": "89a439dc-aee6-4024-a437-81b6d8e4e743"
      },
      "execution_count": null,
      "outputs": [
        {
          "output_type": "display_data",
          "data": {
            "text/plain": [
              "<Figure size 1000x500 with 1 Axes>"
            ],
            "image/png": "[encoded data removed]"
          },
          "metadata": {}
        }
      ]
    },
    {
      "cell_type": "code",
      "source": [
        "# Group the DataFrame by 'asin' and count the reviews in each group\n",
        "review_counts = df.groupby('asin')['overall'].count().sort_values(ascending=False)\n",
        "\n",
        "# Plot the counts of reviews for each 'asin'\n",
        "ax = review_counts.plot(kind='bar', title='Count of Reviews by ASIN', figsize=(15, 10))\n",
        "ax.set_xlabel('ASIN')\n",
        "ax.set_ylabel('Review Count')\n",
        "plt.xticks(rotation=45)  # Rotate the x-axis labels to make them readable\n",
        "plt.show()"
      ],
      "metadata": {
        "colab": {
          "base_uri": "https://localhost:8080/",
          "height": 936
        },
        "id": "GQvVjaTuTcrV",
        "outputId": "6084648f-1c72-439e-9a6a-3f9832894e24"
      },
      "execution_count": null,
      "outputs": [
        {
          "output_type": "display_data",
          "data": {
            "text/plain": [
              "<Figure size 1500x1000 with 1 Axes>"
            ],
            "image/png": "[encoded data removed]"
          },
          "metadata": {}
        }
      ]
    },
    {
      "cell_type": "code",
      "source": [
        "#Extract one book to an new df and reset the index to start from 0\n",
        "new_df=df.copy()\n",
        "new_df = new_df.reset_index(drop=True)\n",
        "# Reset the index and add the old index as a new column called 'ID'\n",
        "# Add a new column to new_df and  start IDs from 1 instead of 0\n",
        "new_df['Id'] = range(1, len(new_df) + 1)\n",
        "print(new_df.head())\n",
        "#print(new_df.shape)\n",
        "example =new_df['reviewText'][50]\n",
        "print(example)"
      ],
      "metadata": {
        "colab": {
          "base_uri": "https://localhost:8080/"
        },
        "id": "-yZgmVudf2Ni",
        "outputId": "5cd51c68-1a14-49c1-ff91-c8185b956fbf"
      },
      "execution_count": null,
      "outputs": [
        {
          "output_type": "stream",
          "name": "stdout",
          "text": [
            "   overall vote  verified   reviewTime      reviewerID        asin  \\\n",
            "0      5.0   29     False  06 15, 2000   AQGISDG8KML8W  0060239638   \n",
            "1      5.0   43     False  06 15, 2000   AQGISDG8KML8W  0060239638   \n",
            "2      5.0   74     False  06 15, 2000   AQGISDG8KML8W  0060239638   \n",
            "3      5.0  NaN     False   06 3, 2000   AILQ1G3PB3249  0060239638   \n",
            "4      5.0  NaN     False   05 3, 2000  A1QIQE5T1GBK7X  0060239638   \n",
            "\n",
            "                       style     reviewerName  \\\n",
            "0  {'Format:': ' Paperback'}       Nana Annie   \n",
            "1  {'Format:': ' Paperback'}       Nana Annie   \n",
            "2  {'Format:': ' Paperback'}       Nana Annie   \n",
            "3  {'Format:': ' Paperback'}  Amazon Customer   \n",
            "4  {'Format:': ' Paperback'}               JP   \n",
            "\n",
            "                                          reviewText  \\\n",
            "0  If you've read the first two books in the Frog...   \n",
            "1  Frog and Toad have been around for years - I t...   \n",
            "2  I've told my children that when yard sale time...   \n",
            "3  Frog and Toad are best friends even though  th...   \n",
            "4  This is a wonderful collection of 5 stories, e...   \n",
            "\n",
            "                                     summary  unixReviewTime image  Id  \n",
            "0                   By now, you're hooked...       961027200   NaN   1  \n",
            "1        Book Number Two in a Series of Four       961027200   NaN   2  \n",
            "2                      Classics for Children       961027200   NaN   3  \n",
            "3                           Simply pleasing!       959990400   NaN   4  \n",
            "4  Another Delightful Book from Arnold Lobel       957312000   NaN   5  \n",
            "Great book for my 6 year old.  I had bought the hard copy after this book was read in his reading class.  Great stories and very entertaining.  Even for adults. :)\n"
          ]
        }
      ]
    },
    {
      "cell_type": "code",
      "source": [
        "nltk.download('punkt')\n",
        "tokens = nltk.word_tokenize(example)\n",
        "tokens[:10]"
      ],
      "metadata": {
        "colab": {
          "base_uri": "https://localhost:8080/"
        },
        "id": "XZr2DJqcf9Jd",
        "outputId": "9ad57094-ff63-4d18-eed1-ea966fad1a3c"
      },
      "execution_count": null,
      "outputs": [
        {
          "output_type": "stream",
          "name": "stderr",
          "text": [
            "[nltk_data] Downloading package punkt to /root/nltk_data...\n",
            "[nltk_data]   Package punkt is already up-to-date!\n"
          ]
        },
        {
          "output_type": "execute_result",
          "data": {
            "text/plain": [
              "['Great', 'book', 'for', 'my', '6', 'year', 'old', '.', 'I', 'had']"
            ]
          },
          "metadata": {},
          "execution_count": 14
        }
      ]
    },
    {
      "cell_type": "code",
      "source": [
        "nltk.download('averaged_perceptron_tagger')\n",
        "tagged = nltk.pos_tag(tokens)\n",
        "tagged[:10]"
      ],
      "metadata": {
        "colab": {
          "base_uri": "https://localhost:8080/"
        },
        "id": "4Yb4OeYzgAK9",
        "outputId": "c30f0eed-58c0-4145-e990-0017c4785bc3"
      },
      "execution_count": null,
      "outputs": [
        {
          "output_type": "stream",
          "name": "stderr",
          "text": [
            "[nltk_data] Downloading package averaged_perceptron_tagger to\n",
            "[nltk_data]     /root/nltk_data...\n",
            "[nltk_data]   Package averaged_perceptron_tagger is already up-to-\n",
            "[nltk_data]       date!\n"
          ]
        },
        {
          "output_type": "execute_result",
          "data": {
            "text/plain": [
              "[('Great', 'NNP'),\n",
              " ('book', 'NN'),\n",
              " ('for', 'IN'),\n",
              " ('my', 'PRP$'),\n",
              " ('6', 'CD'),\n",
              " ('year', 'NN'),\n",
              " ('old', 'JJ'),\n",
              " ('.', '.'),\n",
              " ('I', 'PRP'),\n",
              " ('had', 'VBD')]"
            ]
          },
          "metadata": {},
          "execution_count": 15
        }
      ]
    },
    {
      "cell_type": "code",
      "source": [
        "nltk.download('maxent_ne_chunker')\n",
        "nltk.download('words')\n",
        "entities = nltk.chunk.ne_chunk(tagged)\n",
        "entities.pprint()"
      ],
      "metadata": {
        "colab": {
          "base_uri": "https://localhost:8080/"
        },
        "id": "3yoIFuLOgCUd",
        "outputId": "5f36c748-9ef0-4164-a48b-80dc748061ef"
      },
      "execution_count": null,
      "outputs": [
        {
          "output_type": "stream",
          "name": "stdout",
          "text": [
            "(S\n",
            "  (GPE Great/NNP)\n",
            "  book/NN\n",
            "  for/IN\n",
            "  my/PRP$\n",
            "  6/CD\n",
            "  year/NN\n",
            "  old/JJ\n",
            "  ./.\n",
            "  I/PRP\n",
            "  had/VBD\n",
            "  bought/VBN\n",
            "  the/DT\n",
            "  hard/JJ\n",
            "  copy/NN\n",
            "  after/IN\n",
            "  this/DT\n",
            "  book/NN\n",
            "  was/VBD\n",
            "  read/VBN\n",
            "  in/IN\n",
            "  his/PRP$\n",
            "  reading/NN\n",
            "  class/NN\n",
            "  ./.\n",
            "  (GPE Great/NNP)\n",
            "  stories/NNS\n",
            "  and/CC\n",
            "  very/RB\n",
            "  entertaining/JJ\n",
            "  ./.\n",
            "  Even/RB\n",
            "  for/IN\n",
            "  adults/NNS\n",
            "  ./.\n",
            "  :/:\n",
            "  )/))\n"
          ]
        },
        {
          "output_type": "stream",
          "name": "stderr",
          "text": [
            "[nltk_data] Downloading package maxent_ne_chunker to\n",
            "[nltk_data]     /root/nltk_data...\n",
            "[nltk_data]   Package maxent_ne_chunker is already up-to-date!\n",
            "[nltk_data] Downloading package words to /root/nltk_data...\n",
            "[nltk_data]   Package words is already up-to-date!\n"
          ]
        }
      ]
    },
    {
      "cell_type": "code",
      "source": [
        "nltk.download('vader_lexicon')\n",
        "from nltk.sentiment import SentimentIntensityAnalyzer\n",
        "from tqdm.notebook import tqdm\n",
        "\n",
        "sia = SentimentIntensityAnalyzer()"
      ],
      "metadata": {
        "colab": {
          "base_uri": "https://localhost:8080/"
        },
        "id": "6zH08b4ngFa6",
        "outputId": "8e5a6038-110b-4a82-8bf2-69bb073257d5"
      },
      "execution_count": null,
      "outputs": [
        {
          "output_type": "stream",
          "name": "stderr",
          "text": [
            "[nltk_data] Downloading package vader_lexicon to /root/nltk_data...\n",
            "[nltk_data]   Package vader_lexicon is already up-to-date!\n"
          ]
        }
      ]
    },
    {
      "cell_type": "code",
      "source": [
        "# Run the polarity score on the 50 books\n",
        "res = {}\n",
        "for i, row in tqdm(new_df.iterrows(), total=len(new_df)):\n",
        "    text = row['reviewText']\n",
        "    id = row['Id']\n",
        "    res[id] = sia.polarity_scores(text)\n",
        "for idx, (key, value) in enumerate(res.items()):\n",
        "    if idx < 3:  # Check to print only the first 3 items\n",
        "        print(f\"ID: {key}, Scores: {value}\")"
      ],
      "metadata": {
        "colab": {
          "base_uri": "https://localhost:8080/",
          "height": 101,
          "referenced_widgets": [
            "24dfa783252f401c9d678f38887de0f8",
            "fae2ede4a4f24b9ea15560c21e3ebae8",
            "7692b5d182384671a1efb9da23bb83dc",
            "9345b0b3b77b4396b74c7620f07a50a9",
            "f90cb96cf679418b8cea033614c777cd",
            "4c517fc50948414186ddcf3992c1fec4",
            "273bbd9c87884980886bb215eaff9523",
            "bfb50652d54c4ee29126252aa9b2c008",
            "134d4cbfd87e425ab935c70d27b90727",
            "4bb3b15f45354960b58b3d88066bd717",
            "70c98f276f4c4713943c4d7103e9591a"
          ]
        },
        "id": "FCBbGtjIgIlZ",
        "outputId": "5ac9709e-765b-44c9-b481-8923d07a72d4"
      },
      "execution_count": null,
      "outputs": [
        {
          "output_type": "display_data",
          "data": {
            "text/plain": [
              "  0%|          | 0/89571 [00:00<?, ?it/s]"
            ],
            "application/vnd.jupyter.widget-view+json": {
              "version_major": 2,
              "version_minor": 0,
              "model_id": "24dfa783252f401c9d678f38887de0f8"
            }
          },
          "metadata": {}
        },
        {
          "output_type": "stream",
          "name": "stdout",
          "text": [
            "ID: 1, Scores: {'neg': 0.042, 'neu': 0.804, 'pos': 0.155, 'compound': 0.9824}\n",
            "ID: 2, Scores: {'neg': 0.054, 'neu': 0.788, 'pos': 0.158, 'compound': 0.9943}\n",
            "ID: 3, Scores: {'neg': 0.049, 'neu': 0.765, 'pos': 0.186, 'compound': 0.9955}\n"
          ]
        }
      ]
    },
    {
      "cell_type": "code",
      "source": [
        "vaders = pd.DataFrame(res).T\n",
        "vaders = vaders.reset_index().rename(columns={'index': 'Id'})\n",
        "vaders = vaders.merge(new_df, how='left')\n",
        "vaders.to_csv('vaders_reviews100.csv', index=False)"
      ],
      "metadata": {
        "id": "Dj68idxagZ5f"
      },
      "execution_count": null,
      "outputs": []
    },
    {
      "cell_type": "code",
      "source": [
        "# Now we have sentiment score and metadata\n",
        "vaders.head()"
      ],
      "metadata": {
        "colab": {
          "base_uri": "https://localhost:8080/",
          "height": 293
        },
        "id": "SPZp5ul4geuL",
        "outputId": "fdf127cc-f2b7-47c5-b095-e4168593080b"
      },
      "execution_count": null,
      "outputs": [
        {
          "output_type": "execute_result",
          "data": {
            "text/plain": [
              "   Id    neg    neu    pos  compound  overall vote  verified   reviewTime  \\\n",
              "0   1  0.042  0.804  0.155    0.9824      5.0   29     False  06 15, 2000   \n",
              "1   2  0.054  0.788  0.158    0.9943      5.0   43     False  06 15, 2000   \n",
              "2   3  0.049  0.765  0.186    0.9955      5.0   74     False  06 15, 2000   \n",
              "3   4  0.032  0.641  0.327    0.9771      5.0  NaN     False   06 3, 2000   \n",
              "4   5  0.000  0.719  0.281    0.9916      5.0  NaN     False   05 3, 2000   \n",
              "\n",
              "       reviewerID        asin                      style     reviewerName  \\\n",
              "0   AQGISDG8KML8W  0060239638  {'Format:': ' Paperback'}       Nana Annie   \n",
              "1   AQGISDG8KML8W  0060239638  {'Format:': ' Paperback'}       Nana Annie   \n",
              "2   AQGISDG8KML8W  0060239638  {'Format:': ' Paperback'}       Nana Annie   \n",
              "3   AILQ1G3PB3249  0060239638  {'Format:': ' Paperback'}  Amazon Customer   \n",
              "4  A1QIQE5T1GBK7X  0060239638  {'Format:': ' Paperback'}               JP   \n",
              "\n",
              "                                          reviewText  \\\n",
              "0  If you've read the first two books in the Frog...   \n",
              "1  Frog and Toad have been around for years - I t...   \n",
              "2  I've told my children that when yard sale time...   \n",
              "3  Frog and Toad are best friends even though  th...   \n",
              "4  This is a wonderful collection of 5 stories, e...   \n",
              "\n",
              "                                     summary  unixReviewTime image  \n",
              "0                   By now, you're hooked...       961027200   NaN  \n",
              "1        Book Number Two in a Series of Four       961027200   NaN  \n",
              "2                      Classics for Children       961027200   NaN  \n",
              "3                           Simply pleasing!       959990400   NaN  \n",
              "4  Another Delightful Book from Arnold Lobel       957312000   NaN  "
            ],
            "text/html": [
              "\n",
              "  <div id=\"df-af6f3782-5773-4a8f-ae1a-e9cbd66b5ccc\" class=\"colab-df-container\">\n",
              "    <div>\n",
              "<style scoped>\n",
              "    .dataframe tbody tr th:only-of-type {\n",
              "        vertical-align: middle;\n",
              "    }\n",
              "\n",
              "    .dataframe tbody tr th {\n",
              "        vertical-align: top;\n",
              "    }\n",
              "\n",
              "    .dataframe thead th {\n",
              "        text-align: right;\n",
              "    }\n",
              "</style>\n",
              "<table border=\"1\" class=\"dataframe\">\n",
              "  <thead>\n",
              "    <tr style=\"text-align: right;\">\n",
              "      <th></th>\n",
              "      <th>Id</th>\n",
              "      <th>neg</th>\n",
              "      <th>neu</th>\n",
              "      <th>pos</th>\n",
              "      <th>compound</th>\n",
              "      <th>overall</th>\n",
              "      <th>vote</th>\n",
              "      <th>verified</th>\n",
              "      <th>reviewTime</th>\n",
              "      <th>reviewerID</th>\n",
              "      <th>asin</th>\n",
              "      <th>style</th>\n",
              "      <th>reviewerName</th>\n",
              "      <th>reviewText</th>\n",
              "      <th>summary</th>\n",
              "      <th>unixReviewTime</th>\n",
              "      <th>image</th>\n",
              "    </tr>\n",
              "  </thead>\n",
              "  <tbody>\n",
              "    <tr>\n",
              "      <th>0</th>\n",
              "      <td>1</td>\n",
              "      <td>0.042</td>\n",
              "      <td>0.804</td>\n",
              "      <td>0.155</td>\n",
              "      <td>0.9824</td>\n",
              "      <td>5.0</td>\n",
              "      <td>29</td>\n",
              "      <td>False</td>\n",
              "      <td>06 15, 2000</td>\n",
              "      <td>AQGISDG8KML8W</td>\n",
              "      <td>0060239638</td>\n",
              "      <td>{'Format:': ' Paperback'}</td>\n",
              "      <td>Nana Annie</td>\n",
              "      <td>If you've read the first two books in the Frog...</td>\n",
              "      <td>By now, you're hooked...</td>\n",
              "      <td>961027200</td>\n",
              "      <td>NaN</td>\n",
              "    </tr>\n",
              "    <tr>\n",
              "      <th>1</th>\n",
              "      <td>2</td>\n",
              "      <td>0.054</td>\n",
              "      <td>0.788</td>\n",
              "      <td>0.158</td>\n",
              "      <td>0.9943</td>\n",
              "      <td>5.0</td>\n",
              "      <td>43</td>\n",
              "      <td>False</td>\n",
              "      <td>06 15, 2000</td>\n",
              "      <td>AQGISDG8KML8W</td>\n",
              "      <td>0060239638</td>\n",
              "      <td>{'Format:': ' Paperback'}</td>\n",
              "      <td>Nana Annie</td>\n",
              "      <td>Frog and Toad have been around for years - I t...</td>\n",
              "      <td>Book Number Two in a Series of Four</td>\n",
              "      <td>961027200</td>\n",
              "      <td>NaN</td>\n",
              "    </tr>\n",
              "    <tr>\n",
              "      <th>2</th>\n",
              "      <td>3</td>\n",
              "      <td>0.049</td>\n",
              "      <td>0.765</td>\n",
              "      <td>0.186</td>\n",
              "      <td>0.9955</td>\n",
              "      <td>5.0</td>\n",
              "      <td>74</td>\n",
              "      <td>False</td>\n",
              "      <td>06 15, 2000</td>\n",
              "      <td>AQGISDG8KML8W</td>\n",
              "      <td>0060239638</td>\n",
              "      <td>{'Format:': ' Paperback'}</td>\n",
              "      <td>Nana Annie</td>\n",
              "      <td>I've told my children that when yard sale time...</td>\n",
              "      <td>Classics for Children</td>\n",
              "      <td>961027200</td>\n",
              "      <td>NaN</td>\n",
              "    </tr>\n",
              "    <tr>\n",
              "      <th>3</th>\n",
              "      <td>4</td>\n",
              "      <td>0.032</td>\n",
              "      <td>0.641</td>\n",
              "      <td>0.327</td>\n",
              "      <td>0.9771</td>\n",
              "      <td>5.0</td>\n",
              "      <td>NaN</td>\n",
              "      <td>False</td>\n",
              "      <td>06 3, 2000</td>\n",
              "      <td>AILQ1G3PB3249</td>\n",
              "      <td>0060239638</td>\n",
              "      <td>{'Format:': ' Paperback'}</td>\n",
              "      <td>Amazon Customer</td>\n",
              "      <td>Frog and Toad are best friends even though  th...</td>\n",
              "      <td>Simply pleasing!</td>\n",
              "      <td>959990400</td>\n",
              "      <td>NaN</td>\n",
              "    </tr>\n",
              "    <tr>\n",
              "      <th>4</th>\n",
              "      <td>5</td>\n",
              "      <td>0.000</td>\n",
              "      <td>0.719</td>\n",
              "      <td>0.281</td>\n",
              "      <td>0.9916</td>\n",
              "      <td>5.0</td>\n",
              "      <td>NaN</td>\n",
              "      <td>False</td>\n",
              "      <td>05 3, 2000</td>\n",
              "      <td>A1QIQE5T1GBK7X</td>\n",
              "      <td>0060239638</td>\n",
              "      <td>{'Format:': ' Paperback'}</td>\n",
              "      <td>JP</td>\n",
              "      <td>This is a wonderful collection of 5 stories, e...</td>\n",
              "      <td>Another Delightful Book from Arnold Lobel</td>\n",
              "      <td>957312000</td>\n",
              "      <td>NaN</td>\n",
              "    </tr>\n",
              "  </tbody>\n",
              "</table>\n",
              "</div>\n",
              "    <div class=\"colab-df-buttons\">\n",
              "\n",
              "  <div class=\"colab-df-container\">\n",
              "    <button class=\"colab-df-convert\" onclick=\"convertToInteractive('df-af6f3782-5773-4a8f-ae1a-e9cbd66b5ccc')\"\n",
              "            title=\"Convert this dataframe to an interactive table.\"\n",
              "            style=\"display:none;\">\n",
              "\n",
              "  <svg xmlns=\"http://www.w3.org/2000/svg\" height=\"24px\" viewBox=\"0 -960 960 960\">\n",
              "    <path d=\"M120-120v-720h720v720H120Zm60-500h600v-160H180v160Zm220 220h160v-160H400v160Zm0 220h160v-160H400v160ZM180-400h160v-160H180v160Zm440 0h160v-160H620v160ZM180-180h160v-160H180v160Zm440 0h160v-160H620v160Z\"/>\n",
              "  </svg>\n",
              "    </button>\n",
              "\n",
              "  <style>\n",
              "    .colab-df-container {\n",
              "      display:flex;\n",
              "      gap: 12px;\n",
              "    }\n",
              "\n",
              "    .colab-df-convert {\n",
              "      background-color: #E8F0FE;\n",
              "      border: none;\n",
              "      border-radius: 50%;\n",
              "      cursor: pointer;\n",
              "      display: none;\n",
              "      fill: #1967D2;\n",
              "      height: 32px;\n",
              "      padding: 0 0 0 0;\n",
              "      width: 32px;\n",
              "    }\n",
              "\n",
              "    .colab-df-convert:hover {\n",
              "      background-color: #E2EBFA;\n",
              "      box-shadow: 0px 1px 2px rgba(60, 64, 67, 0.3), 0px 1px 3px 1px rgba(60, 64, 67, 0.15);\n",
              "      fill: #174EA6;\n",
              "    }\n",
              "\n",
              "    .colab-df-buttons div {\n",
              "      margin-bottom: 4px;\n",
              "    }\n",
              "\n",
              "    [theme=dark] .colab-df-convert {\n",
              "      background-color: #3B4455;\n",
              "      fill: #D2E3FC;\n",
              "    }\n",
              "\n",
              "    [theme=dark] .colab-df-convert:hover {\n",
              "      background-color: #434B5C;\n",
              "      box-shadow: 0px 1px 3px 1px rgba(0, 0, 0, 0.15);\n",
              "      filter: drop-shadow(0px 1px 2px rgba(0, 0, 0, 0.3));\n",
              "      fill: #FFFFFF;\n",
              "    }\n",
              "  </style>\n",
              "\n",
              "    <script>\n",
              "      const buttonEl =\n",
              "        document.querySelector('#df-af6f3782-5773-4a8f-ae1a-e9cbd66b5ccc button.colab-df-convert');\n",
              "      buttonEl.style.display =\n",
              "        google.colab.kernel.accessAllowed ? 'block' : 'none';\n",
              "\n",
              "      async function convertToInteractive(key) {\n",
              "        const element = document.querySelector('#df-af6f3782-5773-4a8f-ae1a-e9cbd66b5ccc');\n",
              "        const dataTable =\n",
              "          await google.colab.kernel.invokeFunction('convertToInteractive',\n",
              "                                                    [key], {});\n",
              "        if (!dataTable) return;\n",
              "\n",
              "        const docLinkHtml = 'Like what you see? Visit the ' +\n",
              "          '<a target=\"_blank\" href=https://colab.research.google.com/notebooks/data_table.ipynb>data table notebook</a>'\n",
              "          + ' to learn more about interactive tables.';\n",
              "        element.innerHTML = '';\n",
              "        dataTable['output_type'] = 'display_data';\n",
              "        await google.colab.output.renderOutput(dataTable, element);\n",
              "        const docLink = document.createElement('div');\n",
              "        docLink.innerHTML = docLinkHtml;\n",
              "        element.appendChild(docLink);\n",
              "      }\n",
              "    </script>\n",
              "  </div>\n",
              "\n",
              "\n",
              "<div id=\"df-6bc8ae53-0dee-4157-8a1c-720a215bd965\">\n",
              "  <button class=\"colab-df-quickchart\" onclick=\"quickchart('df-6bc8ae53-0dee-4157-8a1c-720a215bd965')\"\n",
              "            title=\"Suggest charts\"\n",
              "            style=\"display:none;\">\n",
              "\n",
              "<svg xmlns=\"http://www.w3.org/2000/svg\" height=\"24px\"viewBox=\"0 0 24 24\"\n",
              "     width=\"24px\">\n",
              "    <g>\n",
              "        <path d=\"M19 3H5c-1.1 0-2 .9-2 2v14c0 1.1.9 2 2 2h14c1.1 0 2-.9 2-2V5c0-1.1-.9-2-2-2zM9 17H7v-7h2v7zm4 0h-2V7h2v10zm4 0h-2v-4h2v4z\"/>\n",
              "    </g>\n",
              "</svg>\n",
              "  </button>\n",
              "\n",
              "<style>\n",
              "  .colab-df-quickchart {\n",
              "      --bg-color: #E8F0FE;\n",
              "      --fill-color: #1967D2;\n",
              "      --hover-bg-color: #E2EBFA;\n",
              "      --hover-fill-color: #174EA6;\n",
              "      --disabled-fill-color: #AAA;\n",
              "      --disabled-bg-color: #DDD;\n",
              "  }\n",
              "\n",
              "  [theme=dark] .colab-df-quickchart {\n",
              "      --bg-color: #3B4455;\n",
              "      --fill-color: #D2E3FC;\n",
              "      --hover-bg-color: #434B5C;\n",
              "      --hover-fill-color: #FFFFFF;\n",
              "      --disabled-bg-color: #3B4455;\n",
              "      --disabled-fill-color: #666;\n",
              "  }\n",
              "\n",
              "  .colab-df-quickchart {\n",
              "    background-color: var(--bg-color);\n",
              "    border: none;\n",
              "    border-radius: 50%;\n",
              "    cursor: pointer;\n",
              "    display: none;\n",
              "    fill: var(--fill-color);\n",
              "    height: 32px;\n",
              "    padding: 0;\n",
              "    width: 32px;\n",
              "  }\n",
              "\n",
              "  .colab-df-quickchart:hover {\n",
              "    background-color: var(--hover-bg-color);\n",
              "    box-shadow: 0 1px 2px rgba(60, 64, 67, 0.3), 0 1px 3px 1px rgba(60, 64, 67, 0.15);\n",
              "    fill: var(--button-hover-fill-color);\n",
              "  }\n",
              "\n",
              "  .colab-df-quickchart-complete:disabled,\n",
              "  .colab-df-quickchart-complete:disabled:hover {\n",
              "    background-color: var(--disabled-bg-color);\n",
              "    fill: var(--disabled-fill-color);\n",
              "    box-shadow: none;\n",
              "  }\n",
              "\n",
              "  .colab-df-spinner {\n",
              "    border: 2px solid var(--fill-color);\n",
              "    border-color: transparent;\n",
              "    border-bottom-color: var(--fill-color);\n",
              "    animation:\n",
              "      spin 1s steps(1) infinite;\n",
              "  }\n",
              "\n",
              "  @keyframes spin {\n",
              "    0% {\n",
              "      border-color: transparent;\n",
              "      border-bottom-color: var(--fill-color);\n",
              "      border-left-color: var(--fill-color);\n",
              "    }\n",
              "    20% {\n",
              "      border-color: transparent;\n",
              "      border-left-color: var(--fill-color);\n",
              "      border-top-color: var(--fill-color);\n",
              "    }\n",
              "    30% {\n",
              "      border-color: transparent;\n",
              "      border-left-color: var(--fill-color);\n",
              "      border-top-color: var(--fill-color);\n",
              "      border-right-color: var(--fill-color);\n",
              "    }\n",
              "    40% {\n",
              "      border-color: transparent;\n",
              "      border-right-color: var(--fill-color);\n",
              "      border-top-color: var(--fill-color);\n",
              "    }\n",
              "    60% {\n",
              "      border-color: transparent;\n",
              "      border-right-color: var(--fill-color);\n",
              "    }\n",
              "    80% {\n",
              "      border-color: transparent;\n",
              "      border-right-color: var(--fill-color);\n",
              "      border-bottom-color: var(--fill-color);\n",
              "    }\n",
              "    90% {\n",
              "      border-color: transparent;\n",
              "      border-bottom-color: var(--fill-color);\n",
              "    }\n",
              "  }\n",
              "</style>\n",
              "\n",
              "  <script>\n",
              "    async function quickchart(key) {\n",
              "      const quickchartButtonEl =\n",
              "        document.querySelector('#' + key + ' button');\n",
              "      quickchartButtonEl.disabled = true;  // To prevent multiple clicks.\n",
              "      quickchartButtonEl.classList.add('colab-df-spinner');\n",
              "      try {\n",
              "        const charts = await google.colab.kernel.invokeFunction(\n",
              "            'suggestCharts', [key], {});\n",
              "      } catch (error) {\n",
              "        console.error('Error during call to suggestCharts:', error);\n",
              "      }\n",
              "      quickchartButtonEl.classList.remove('colab-df-spinner');\n",
              "      quickchartButtonEl.classList.add('colab-df-quickchart-complete');\n",
              "    }\n",
              "    (() => {\n",
              "      let quickchartButtonEl =\n",
              "        document.querySelector('#df-6bc8ae53-0dee-4157-8a1c-720a215bd965 button');\n",
              "      quickchartButtonEl.style.display =\n",
              "        google.colab.kernel.accessAllowed ? 'block' : 'none';\n",
              "    })();\n",
              "  </script>\n",
              "</div>\n",
              "\n",
              "    </div>\n",
              "  </div>\n"
            ],
            "application/vnd.google.colaboratory.intrinsic+json": {
              "type": "dataframe",
              "variable_name": "vaders",
              "summary": "{\n  \"name\": \"vaders\",\n  \"rows\": 89571,\n  \"fields\": [\n    {\n      \"column\": \"Id\",\n      \"properties\": {\n        \"dtype\": \"number\",\n        \"std\": 25857,\n        \"min\": 1,\n        \"max\": 89571,\n        \"num_unique_values\": 89571,\n        \"samples\": [\n          65000,\n          83101,\n          85856\n        ],\n        \"semantic_type\": \"\",\n        \"description\": \"\"\n      }\n    },\n    {\n      \"column\": \"neg\",\n      \"properties\": {\n        \"dtype\": \"number\",\n        \"std\": 0.06571716254999477,\n        \"min\": 0.0,\n        \"max\": 1.0,\n        \"num_unique_values\": 536,\n        \"samples\": [\n          0.057,\n          0.139,\n          0.153\n        ],\n        \"semantic_type\": \"\",\n        \"description\": \"\"\n      }\n    },\n    {\n      \"column\": \"neu\",\n      \"properties\": {\n        \"dtype\": \"number\",\n        \"std\": 0.2091379349582615,\n        \"min\": 0.0,\n        \"max\": 1.0,\n        \"num_unique_values\": 900,\n        \"samples\": [\n          0.513,\n          0.179,\n          0.792\n        ],\n        \"semantic_type\": \"\",\n        \"description\": \"\"\n      }\n    },\n    {\n      \"column\": \"pos\",\n      \"properties\": {\n        \"dtype\": \"number\",\n        \"std\": 0.22322526901122344,\n        \"min\": 0.0,\n        \"max\": 1.0,\n        \"num_unique_values\": 903,\n        \"samples\": [\n          0.807,\n          0.077,\n          0.391\n        ],\n        \"semantic_type\": \"\",\n        \"description\": \"\"\n      }\n    },\n    {\n      \"column\": \"compound\",\n      \"properties\": {\n        \"dtype\": \"number\",\n        \"std\": 0.4237745108166865,\n        \"min\": -0.9997,\n        \"max\": 0.9999,\n        \"num_unique_values\": 9495,\n        \"samples\": [\n          0.3036,\n          -0.9579,\n          0.6938\n        ],\n        \"semantic_type\": \"\",\n        \"description\": \"\"\n      }\n    },\n    {\n      \"column\": \"overall\",\n      \"properties\": {\n        \"dtype\": \"number\",\n        \"std\": 0.8835994004336516,\n        \"min\": 1.0,\n        \"max\": 5.0,\n        \"num_unique_values\": 5,\n        \"samples\": [\n          4.0,\n          2.0,\n          3.0\n        ],\n        \"semantic_type\": \"\",\n        \"description\": \"\"\n      }\n    },\n    {\n      \"column\": \"vote\",\n      \"properties\": {\n        \"dtype\": \"category\",\n        \"num_unique_values\": 191,\n        \"samples\": [\n          \"134\",\n          \"42\",\n          \"951\"\n        ],\n        \"semantic_type\": \"\",\n        \"description\": \"\"\n      }\n    },\n    {\n      \"column\": \"verified\",\n      \"properties\": {\n        \"dtype\": \"boolean\",\n        \"num_unique_values\": 2,\n        \"samples\": [\n          true,\n          false\n        ],\n        \"semantic_type\": \"\",\n        \"description\": \"\"\n      }\n    },\n    {\n      \"column\": \"reviewTime\",\n      \"properties\": {\n        \"dtype\": \"object\",\n        \"num_unique_values\": 5733,\n        \"samples\": [\n          \"08 5, 2001\",\n          \"11 5, 2012\"\n        ],\n        \"semantic_type\": \"\",\n        \"description\": \"\"\n      }\n    },\n    {\n      \"column\": \"reviewerID\",\n      \"properties\": {\n        \"dtype\": \"string\",\n        \"num_unique_values\": 70984,\n        \"samples\": [\n          \"A3FUOVX7VE63BC\",\n          \"A2A7CFWB9YPGF5\"\n        ],\n        \"semantic_type\": \"\",\n        \"description\": \"\"\n      }\n    },\n    {\n      \"column\": \"asin\",\n      \"properties\": {\n        \"dtype\": \"category\",\n        \"num_unique_values\": 100,\n        \"samples\": [\n          \"1423133080\",\n          \"0439673631\"\n        ],\n        \"semantic_type\": \"\",\n        \"description\": \"\"\n      }\n    },\n    {\n      \"column\": \"style\",\n      \"properties\": {\n        \"dtype\": \"category\",\n        \"num_unique_values\": 22,\n        \"samples\": [\n          \"{'Format:': ' Paperback'}\",\n          \"{'Format:': ' Mass Market Paperback'}\"\n        ],\n        \"semantic_type\": \"\",\n        \"description\": \"\"\n      }\n    },\n    {\n      \"column\": \"reviewerName\",\n      \"properties\": {\n        \"dtype\": \"string\",\n        \"num_unique_values\": 56129,\n        \"samples\": [\n          \"GStrong2\",\n          \"s_corpion\"\n        ],\n        \"semantic_type\": \"\",\n        \"description\": \"\"\n      }\n    },\n    {\n      \"column\": \"reviewText\",\n      \"properties\": {\n        \"dtype\": \"string\",\n        \"num_unique_values\": 82852,\n        \"samples\": [\n          \"I was worrying that the pre-ordered stuff always would end up arriving late, but the two HP 7 books came to me before I even started to get impatient. and the books are just as fabulous as they always are. My husband finished before I did, but he managed not to spoil any of those endings for me!\",\n          \"After resisting reading the books for years, i finally gave in. i was immediately hooked. the voice characterizations are wonderful and familiar across the entire series. this final audio production did the story justice. it is a wonderful and redemptive story, and it was a joy to walk with Harry from the beginning through to the very last word.\"\n        ],\n        \"semantic_type\": \"\",\n        \"description\": \"\"\n      }\n    },\n    {\n      \"column\": \"summary\",\n      \"properties\": {\n        \"dtype\": \"string\",\n        \"num_unique_values\": 51929,\n        \"samples\": [\n          \"Good book when a new baby is expected.\",\n          \"Love this book!  Very fun to read!\"\n        ],\n        \"semantic_type\": \"\",\n        \"description\": \"\"\n      }\n    },\n    {\n      \"column\": \"unixReviewTime\",\n      \"properties\": {\n        \"dtype\": \"number\",\n        \"std\": 106542298,\n        \"min\": 883180800,\n        \"max\": 1526083200,\n        \"num_unique_values\": 5733,\n        \"samples\": [\n          996969600,\n          1352073600\n        ],\n        \"semantic_type\": \"\",\n        \"description\": \"\"\n      }\n    },\n    {\n      \"column\": \"image\",\n      \"properties\": {\n        \"dtype\": \"category\",\n        \"num_unique_values\": 263,\n        \"samples\": [\n          \"['https://images-na.ssl-images-amazon.com/images/I/71Nu8JIxJTL._SY88.jpg', 'https://images-na.ssl-images-amazon.com/images/I/71LPAIG99KL._SY88.jpg', 'https://images-na.ssl-images-amazon.com/images/I/71qRncPN6VL._SY88.jpg', 'https://images-na.ssl-images-amazon.com/images/I/71HCRjRsEEL._SY88.jpg']\",\n          \"['https://images-na.ssl-images-amazon.com/images/I/61owXrLEXQL._SY88.jpg', 'https://images-na.ssl-images-amazon.com/images/I/51F3ko9WIAL._SY88.jpg']\"\n        ],\n        \"semantic_type\": \"\",\n        \"description\": \"\"\n      }\n    }\n  ]\n}"
            }
          },
          "metadata": {},
          "execution_count": 22
        }
      ]
    },
    {
      "cell_type": "code",
      "source": [
        "ax = sns.barplot(data=vaders, x='overall',hue='overall', y='compound',palette='viridis')\n",
        "ax.set_title('Compund Score by Amazon Star Review')\n",
        "plt.show()"
      ],
      "metadata": {
        "colab": {
          "base_uri": "https://localhost:8080/",
          "height": 477
        },
        "id": "-EtDBXPogheC",
        "outputId": "0949760f-63f5-492a-b640-243dc3785391"
      },
      "execution_count": null,
      "outputs": [
        {
          "output_type": "display_data",
          "data": {
            "text/plain": [
              "<Figure size 640x480 with 1 Axes>"
            ],
            "image/png": "[encoded data removed]"
          },
          "metadata": {}
        }
      ]
    },
    {
      "cell_type": "code",
      "source": [
        "fig, axs = plt.subplots(1, 3, figsize=(12, 3))\n",
        "sns.barplot(data=vaders, x='overall',hue='overall',y='pos', ax=axs[0],palette='viridis')\n",
        "sns.barplot(data=vaders, x='overall',hue='overall', y='neu', ax=axs[1],palette='viridis')\n",
        "sns.barplot(data=vaders, x='overall',hue='overall', y='neg', ax=axs[2],palette='viridis')\n",
        "axs[0].set_title('Positive')\n",
        "axs[0].get_legend().remove()\n",
        "axs[1].set_title('Neutral')\n",
        "axs[1].get_legend().remove()\n",
        "axs[2].set_title('Negative')\n",
        "axs[2].get_legend().remove()\n",
        "plt.tight_layout()\n",
        "plt.show()"
      ],
      "metadata": {
        "colab": {
          "base_uri": "https://localhost:8080/",
          "height": 307
        },
        "id": "A4nPt_eXgmJS",
        "outputId": "7991c5f9-d4d6-43d9-8224-e3c4fc01d172"
      },
      "execution_count": null,
      "outputs": [
        {
          "output_type": "display_data",
          "data": {
            "text/plain": [
              "<Figure size 1200x300 with 3 Axes>"
            ],
            "image/png": "[encoded data removed]"
          },
          "metadata": {}
        }
      ]
    },
    {
      "cell_type": "markdown",
      "source": [
        "# Filter out the unreasonable reviews"
      ],
      "metadata": {
        "id": "p4r2EGlQe3qj"
      }
    },
    {
      "cell_type": "code",
      "source": [
        "# Define the thresholds\n",
        "higher_threshold = 0.5  # Compound score above this value is considered high\n",
        "lower_threshold = -0.5  # Compound score below this value is considered low\n",
        "low_rating = 2  # Ratings at or below this are considered low\n",
        "high_rating = 4  # Ratings at or above this are considered high"
      ],
      "metadata": {
        "id": "L7hq50mTgsoE"
      },
      "execution_count": null,
      "outputs": []
    },
    {
      "cell_type": "code",
      "source": [
        "# Filter out unreasonable reviews\n",
        "# Case 1: Reviews with high positive sentiment but low Amazon rating\n",
        "print(vaders.shape)\n",
        "#print(vaders.head())\n",
        "\n",
        "unreasonable_case1 = vaders[(vaders['compound'] > higher_threshold) & (vaders['overall'] <= low_rating)]\n",
        "print(unreasonable_case1.shape)\n",
        "# Case 2: Reviews with high negative sentiment but high Amazon rating\n",
        "unreasonable_case2 = vaders[(vaders['compound'] < lower_threshold) & (vaders['overall'] >= high_rating)]\n",
        "print(unreasonable_case2.shape)\n",
        "# Combine both cases (note: this assumes you want to consider both types of \"unreasonable\" reviews)\n",
        "unreasonable_reviews = pd.concat([unreasonable_case1, unreasonable_case2])\n",
        "\n",
        "# Get the list of \"ID\" values for the unreasonable reviews\n",
        "unreasonable_ids = unreasonable_reviews['Id'].values\n",
        "print(unreasonable_ids)\n",
        "\n",
        "#Ensure the unique \"Id\" is the DataFrame index\n",
        "#if vaders.index.name != 'ID':\n",
        "#    vaders.set_index('ID', inplace=True)\n",
        "\n",
        "# To remove these unreasonable reviews from the original DataFrame by the 'ID' index\n",
        "#reasonable_reviews = vaders.drop(unreasonable_reviews.index, inplace=True)\n",
        "\n",
        "# Drop the rows from `vaders` where the \"Id\" matches the IDs in `unreasonable_ids`\n",
        "reasonable_reviews = vaders[~vaders['Id'].isin(unreasonable_ids)]\n",
        "print(reasonable_reviews.shape)\n",
        "# Drop the rows from `vaders` where the \"verified=false'\n",
        "unreasonable_case3=vaders[vaders['verified'] == False]\n",
        "print(unreasonable_case3.shape)\n",
        "reasonable_reviews = vaders[vaders['verified'] == True]\n",
        "\n",
        "print(reasonable_reviews.shape)\n",
        "reasonable_reviews.to_csv('reasonable_reviews100.csv', index=False)\n",
        "#print(reasonable_reviews.shape)"
      ],
      "metadata": {
        "colab": {
          "base_uri": "https://localhost:8080/"
        },
        "id": "vRC2m4Eggu0O",
        "outputId": "69bd3a26-a8e5-47ea-f71e-cb57f809bc80"
      },
      "execution_count": null,
      "outputs": [
        {
          "output_type": "stream",
          "name": "stdout",
          "text": [
            "(89571, 17)\n",
            "(1435, 17)\n",
            "(1907, 17)\n",
            "[   40   225   636 ... 89418 89492 89565]\n",
            "(86229, 17)\n",
            "(29012, 17)\n",
            "(60559, 17)\n"
          ]
        }
      ]
    },
    {
      "cell_type": "code",
      "source": [
        "# Compute the average score grouped by ASIN\n",
        "average_overall = reasonable_reviews.groupby('asin')['overall'].mean().reset_index()\n",
        "average_compound = reasonable_reviews.groupby('asin')['compound'].mean().reset_index()\n",
        "#print( average_overall)\n",
        "print( average_compound)"
      ],
      "metadata": {
        "colab": {
          "base_uri": "https://localhost:8080/"
        },
        "id": "Rd4zxEuD4Ncg",
        "outputId": "2975bf34-d4de-4ad1-906c-64148fec549e"
      },
      "execution_count": null,
      "outputs": [
        {
          "output_type": "stream",
          "name": "stdout",
          "text": [
            "          asin  compound\n",
            "0   0060235152  0.655560\n",
            "1   0060239638  0.696064\n",
            "2   0061671738  0.720539\n",
            "3   0061900621  0.694217\n",
            "4   0062015761  0.679246\n",
            "..         ...       ...\n",
            "95  1554537045  0.638077\n",
            "96  1609580427  0.621373\n",
            "97  1609580834  0.662348\n",
            "98  192643207X  0.817676\n",
            "99  1938298071  0.692514\n",
            "\n",
            "[100 rows x 2 columns]\n"
          ]
        }
      ]
    },
    {
      "cell_type": "code",
      "source": [
        "#Rank by the reasonable reviews\n",
        "# Assign ranks in ascending order (which aligns with the descending order of compound)\n",
        "average_compound['rank'] = average_compound['compound'].rank(method='min', ascending=False)\n",
        "df_rank_processed=average_compound.copy()\n",
        "df_rank_processed.to_csv('rank.csv', index=False)\n",
        "print(df_rank_processed)"
      ],
      "metadata": {
        "colab": {
          "base_uri": "https://localhost:8080/"
        },
        "id": "ft5VMvJN7QHx",
        "outputId": "c60d3dd0-1534-4030-802b-efe7d3011225"
      },
      "execution_count": null,
      "outputs": [
        {
          "output_type": "stream",
          "name": "stdout",
          "text": [
            "          asin  compound  rank\n",
            "0   0060235152  0.655560  52.0\n",
            "1   0060239638  0.696064  30.0\n",
            "2   0061671738  0.720539  19.0\n",
            "3   0061900621  0.694217  31.0\n",
            "4   0062015761  0.679246  39.0\n",
            "..         ...       ...   ...\n",
            "95  1554537045  0.638077  64.0\n",
            "96  1609580427  0.621373  71.0\n",
            "97  1609580834  0.662348  47.0\n",
            "98  192643207X  0.817676   1.0\n",
            "99  1938298071  0.692514  32.0\n",
            "\n",
            "[100 rows x 3 columns]\n"
          ]
        }
      ]
    },
    {
      "cell_type": "code",
      "source": [
        "# Read in data with original rank\n",
        "df_rank = pd.read_excel(\"Book_rank_title.xlsx\")\n",
        "print(df_rank.shape)\n",
        "print(df_rank.head())\n",
        "print(df_rank[\"asin\"])"
      ],
      "metadata": {
        "colab": {
          "base_uri": "https://localhost:8080/"
        },
        "id": "7ZOgYPPo86MQ",
        "outputId": "49d29e2b-3034-4f34-9a06-2c3f15dbef56"
      },
      "execution_count": null,
      "outputs": [
        {
          "output_type": "stream",
          "name": "stdout",
          "text": [
            "(128, 6)\n",
            "         asin  reviews_count  \\\n",
            "0  0385376715            644   \n",
            "1  038538369X            429   \n",
            "2  0375813616            377   \n",
            "3  0374300216            485   \n",
            "4  0887431453            312   \n",
            "\n",
            "                                               title  \\\n",
            "0                   The Wonderful Things You Will Be   \n",
            "1    P is for Potty! (Sesame Street) (Lift-the-Flap)   \n",
            "2  Junie B. Jones's First Boxed Set Ever! (Books ...   \n",
            "3                       If Animals Kissed Good Night   \n",
            "4  School Zone - Big Preschool Workbook - Ages 4 ...   \n",
            "\n",
            "                                            category  whole book rank  \\\n",
            "0  Books, Children's Books, Growing Up ; Facts of...               20   \n",
            "1  Books, Children's Books, Growing Up ; Facts of...               49   \n",
            "2  Books, Children's Books, Growing Up ; Facts of...               71   \n",
            "3  Books, Children's Books, Growing Up ; Facts of...               80   \n",
            "4  Books, Children's Books, Growing Up & Facts of...               94   \n",
            "\n",
            "   rank_origin  \n",
            "0            1  \n",
            "1            2  \n",
            "2            3  \n",
            "3            4  \n",
            "4            5  \n",
            "0      0385376715\n",
            "1      038538369X\n",
            "2      0375813616\n",
            "3      0374300216\n",
            "4      0887431453\n",
            "          ...    \n",
            "123    0307243273\n",
            "124    0060283157\n",
            "125    0843198915\n",
            "126    0756981808\n",
            "127    0141320222\n",
            "Name: asin, Length: 128, dtype: object\n"
          ]
        }
      ]
    },
    {
      "cell_type": "markdown",
      "source": [
        "# Combine and compare the original rank and reasonable review rank"
      ],
      "metadata": {
        "id": "pDgeu9aGerhB"
      }
    },
    {
      "cell_type": "code",
      "source": [
        "#If the 'asin' column's data type isn't object (which typically indicates a string in pandas), consider converting it:\n",
        "df_rank['asin'] = df_rank['asin'].astype(str)\n",
        "#Combine the original rank and reasonable review rank, and compare them\n",
        "combined_rank_df = pd.merge(df_rank_processed, df_rank, on='asin', how='inner')\n",
        "compare_rank_df = combined_rank_df[['asin', 'rank', 'rank_origin','title']]\n",
        "sorted_compare_rank_df = compare_rank_df.sort_values(by='rank', ascending=True)\n",
        "sorted_compare_rank_df.to_csv('sortedRankAfterProcessed.csv', index=False)\n",
        "#print(compare_rank_df)\n",
        "print(sorted_compare_rank_df)\n",
        "print(sorted_compare_rank_df.shape)"
      ],
      "metadata": {
        "colab": {
          "base_uri": "https://localhost:8080/"
        },
        "id": "eqamUQ019hix",
        "outputId": "487bba49-a318-47f8-eccf-45bc5709018f"
      },
      "execution_count": null,
      "outputs": [
        {
          "output_type": "stream",
          "name": "stdout",
          "text": [
            "          asin   rank  rank_origin  \\\n",
            "98  192643207X    1.0           96   \n",
            "9   0142419400    2.0           55   \n",
            "80  0989433463    3.0           83   \n",
            "55  0439813786    4.0           37   \n",
            "82  1419708457    5.0            6   \n",
            "..         ...    ...          ...   \n",
            "45  0439023521   96.0           28   \n",
            "59  0486426440   97.0           61   \n",
            "64  0545582881   98.0           74   \n",
            "16  0152058265   99.0           93   \n",
            "78  0961519762  100.0           44   \n",
            "\n",
            "                                                title  \n",
            "98  I Love to Keep My Room Clean (Bedtime stories ...  \n",
            "9                            Anna and the French Kiss  \n",
            "80                               I'll Follow the Moon  \n",
            "55                       The Invention of Hugo Cabret  \n",
            "82                             Rosie Revere, Engineer  \n",
            "..                                                ...  \n",
            "45                          The Hunger Games (Book 1)  \n",
            "59   A Walk in the Woods (Dover Nature Coloring Book)  \n",
            "64     Harry Potter and the Sorcerer's Stone (Book 1)  \n",
            "16                                 Life as We Knew It  \n",
            "78         Tear Soup: A Recipe for Healing After Loss  \n",
            "\n",
            "[100 rows x 4 columns]\n",
            "(100, 4)\n"
          ]
        }
      ]
    },
    {
      "cell_type": "markdown",
      "source": [
        "# recommand reviews and rank for specific asin"
      ],
      "metadata": {
        "id": "AVf3w_Uaep58"
      }
    },
    {
      "cell_type": "code",
      "source": [
        "# Copy the reasonable_reviews df to recommand reviews\n",
        "df=reasonable_reviews.copy()\n",
        "print(df.shape)\n"
      ],
      "metadata": {
        "colab": {
          "base_uri": "https://localhost:8080/"
        },
        "id": "JfG3hNn9f3iM",
        "outputId": "a6b17cf4-2310-4972-f24d-b1b0e9f3e6f3"
      },
      "execution_count": null,
      "outputs": [
        {
          "output_type": "stream",
          "name": "stdout",
          "text": [
            "(60559, 17)\n"
          ]
        }
      ]
    },
    {
      "cell_type": "markdown",
      "source": [
        "#Extract 10 reviews based on the targeted different range of compound score"
      ],
      "metadata": {
        "id": "XAaIuABroMLi"
      }
    },
    {
      "cell_type": "code",
      "source": [
        "# List of target compound values\n",
        "target_compounds = [-0.8, -0.4, 0, 0.4, 0.8]\n",
        "\n",
        "results = []  # To store the results\n",
        "\n",
        "for asin in df['asin'].unique():\n",
        "    for target_compound in target_compounds:\n",
        "        # Filter DataFrame for current ASIN and explicitly create a copy\n",
        "        temp_df = df[df['asin'] == asin].copy()\n",
        "\n",
        "        # Calculate absolute difference from target compound value\n",
        "        temp_df['difference'] = (temp_df['compound'] - target_compound).abs()\n",
        "\n",
        "        # Sort by difference and select top two\n",
        "        nearest_reviews = temp_df.sort_values(by='difference').head(2)\n",
        "\n",
        "        # Add target_compound and ASIN for clarity in the final DataFrame\n",
        "        nearest_reviews['target_compound'] = target_compound\n",
        "        nearest_reviews['asin'] = asin  # Reassigning ASIN in case it's lost during filtering\n",
        "\n",
        "        # Append to results\n",
        "        results.append(nearest_reviews)\n",
        "\n",
        "# Concatenate all results into a single DataFrame\n",
        "final_df = pd.concat(results, ignore_index=True)\n",
        "\n",
        "# Optionally, drop the 'difference' column if it's no longer needed\n",
        "final_df = final_df.drop(columns=['difference'])\n",
        "combined_details = pd.merge(final_df, sorted_compare_rank_df[['asin', 'rank','title']], on='asin', how='left')\n",
        "\n",
        "#final_df.to_csv('recommendedReviews10forOneAsin.csv', index=False)\n",
        "combined_details.to_csv('10ReviewsRankforAsins.csv', index=False)\n",
        "print(combined_details)\n",
        "#print(final_df)"
      ],
      "metadata": {
        "colab": {
          "base_uri": "https://localhost:8080/"
        },
        "id": "ssH9lyJLaRes",
        "outputId": "6f8450e9-000f-4d5c-f4cb-6da28d0048c5"
      },
      "execution_count": null,
      "outputs": [
        {
          "output_type": "stream",
          "name": "stderr",
          "text": [
            "<ipython-input-44-225537c6f477>:18: SettingWithCopyWarning: \n",
            "A value is trying to be set on a copy of a slice from a DataFrame.\n",
            "Try using .loc[row_indexer,col_indexer] = value instead\n",
            "\n",
            "See the caveats in the documentation: https://pandas.pydata.org/pandas-docs/stable/user_guide/indexing.html#returning-a-view-versus-a-copy\n",
            "  nearest_reviews['target_compound'] = target_compound\n",
            "<ipython-input-44-225537c6f477>:19: SettingWithCopyWarning: \n",
            "A value is trying to be set on a copy of a slice from a DataFrame.\n",
            "Try using .loc[row_indexer,col_indexer] = value instead\n",
            "\n",
            "See the caveats in the documentation: https://pandas.pydata.org/pandas-docs/stable/user_guide/indexing.html#returning-a-view-versus-a-copy\n",
            "  nearest_reviews['asin'] = asin  # Reassigning ASIN in case it's lost during filtering\n",
            "<ipython-input-44-225537c6f477>:18: SettingWithCopyWarning: \n",
            "A value is trying to be set on a copy of a slice from a DataFrame.\n",
            "Try using .loc[row_indexer,col_indexer] = value instead\n",
            "\n",
            "See the caveats in the documentation: https://pandas.pydata.org/pandas-docs/stable/user_guide/indexing.html#returning-a-view-versus-a-copy\n",
            "  nearest_reviews['target_compound'] = target_compound\n"
          ]
        },
        {
          "output_type": "stream",
          "name": "stdout",
          "text": [
            "        Id    neg    neu    pos  compound  overall vote  verified  \\\n",
            "0       54  0.109  0.797  0.094   -0.7640      5.0   10      True   \n",
            "1      213  0.263  0.737  0.000   -0.6855      2.0  NaN      True   \n",
            "2      262  0.126  0.805  0.069   -0.3729      2.0    3      True   \n",
            "3      349  0.097  0.798  0.105   -0.4546      4.0   18      True   \n",
            "4      174  0.000  1.000  0.000    0.0000      4.0  NaN      True   \n",
            "..     ...    ...    ...    ...       ...      ...  ...       ...   \n",
            "995  88873  0.000  1.000  0.000    0.0000      5.0  NaN      True   \n",
            "996  89007  0.000  0.682  0.318    0.4199      5.0  NaN      True   \n",
            "997  89017  0.000  0.682  0.318    0.4201      5.0  NaN      True   \n",
            "998  89051  0.053  0.728  0.218    0.8004      5.0  NaN      True   \n",
            "999  89075  0.081  0.743  0.176    0.7986      3.0   11      True   \n",
            "\n",
            "      reviewTime      reviewerID        asin                           style  \\\n",
            "0    01 23, 2017  A3E5Z87YBD11NE  0060239638  {'Format:': ' Kindle Edition'}   \n",
            "1    10 29, 2014  A2FKPEVCMVBP8P  0060239638        {'Format:': ' Audio CD'}   \n",
            "2    03 24, 2014  A2686M84Z3XD29  0060239638        {'Format:': ' Audio CD'}   \n",
            "3    02 23, 2012  A2I3TKKHF6INI6  0060239638        {'Format:': ' Audio CD'}   \n",
            "4     03 6, 2015  A2G5DNLXFT0VLN  0060239638        {'Format:': ' Audio CD'}   \n",
            "..           ...             ...         ...                             ...   \n",
            "995  01 28, 2017    A7WD9M97DF36  1938298071       {'Format:': ' Hardcover'}   \n",
            "996  10 31, 2015  A1557716WLAVP8  1938298071       {'Format:': ' Hardcover'}   \n",
            "997   09 6, 2015   AY1KT8JRA82TP  1938298071       {'Format:': ' Hardcover'}   \n",
            "998   04 4, 2015  A3KB49T9FRLL73  1938298071       {'Format:': ' Hardcover'}   \n",
            "999  01 18, 2015  A2HKF0IHXO0DKV  1938298071       {'Format:': ' Hardcover'}   \n",
            "\n",
            "           reviewerName                                         reviewText  \\\n",
            "0          Ann de Vries  I bought Arnold Lobel's books in hardcover whe...   \n",
            "1              Bookworm  This was suppose to be the CD along with the b...   \n",
            "2                 AUMAN  This is not a completely terrible book but we ...   \n",
            "3                Connie  Just before my little boy turned 3, we started...   \n",
            "4            Leah Bliss                        The stories read by author.   \n",
            "..                  ...                                                ...   \n",
            "995  Determined 2 Learn              Grandkid needed to hear this message!   \n",
            "996             Richard       Thank you fast shipping product as expected!   \n",
            "997            Ashley H            Highly recommend this book for all ages   \n",
            "998               Susan  This is a wonderful book for young children to...   \n",
            "999             OhioMom  Not sure why, but this is never the one my kid...   \n",
            "\n",
            "                                               summary  unixReviewTime image  \\\n",
            "0    Incredibly Good Book; Kindle Version Very Disa...      1485129600   NaN   \n",
            "1                                   more money wasted!      1414540800   NaN   \n",
            "2                            Do not like the storyline      1395619200   NaN   \n",
            "3               3 year old listens to it over and over      1329955200   NaN   \n",
            "4                                           Four Stars      1425600000   NaN   \n",
            "..                                                 ...             ...   ...   \n",
            "995                                          Wonderful      1485561600   NaN   \n",
            "996                                         Five Stars      1446249600   NaN   \n",
            "997                                         Five Stars      1441497600   NaN   \n",
            "998                     Great book for young thinkers.      1428105600   NaN   \n",
            "999         Great message, but it is not very engaging      1421539200   NaN   \n",
            "\n",
            "     target_compound  rank                                         title  \n",
            "0               -0.8  30.0  Days with Frog and Toad (An I Can Read Book)  \n",
            "1               -0.8  30.0  Days with Frog and Toad (An I Can Read Book)  \n",
            "2               -0.4  30.0  Days with Frog and Toad (An I Can Read Book)  \n",
            "3               -0.4  30.0  Days with Frog and Toad (An I Can Read Book)  \n",
            "4                0.0  30.0  Days with Frog and Toad (An I Can Read Book)  \n",
            "..               ...   ...                                           ...  \n",
            "995              0.0  32.0                  What Do You Do With an Idea?  \n",
            "996              0.4  32.0                  What Do You Do With an Idea?  \n",
            "997              0.4  32.0                  What Do You Do With an Idea?  \n",
            "998              0.8  32.0                  What Do You Do With an Idea?  \n",
            "999              0.8  32.0                  What Do You Do With an Idea?  \n",
            "\n",
            "[1000 rows x 20 columns]\n"
          ]
        }
      ]
    },
    {
      "cell_type": "code",
      "source": [
        "# Specify the ASIN you're interested in\n",
        "specific_asin = '0061900621'\n",
        "# Use query to filter reviews for the specific ASIN\n",
        "specific_asin_details = final_df.query(\"asin == @specific_asin\")[[\"asin\",'reviewText',\"overall\",\"compound\"]]\n",
        "#print(specific_asin_details)\n",
        "combined_asin_details = pd.merge(specific_asin_details,  sorted_compare_rank_df[['asin', 'rank','title']], on='asin', how='left')\n",
        "combined_asin_details.to_csv('10ReviewsRankfor0061900621.csv', index=False)\n",
        "print(combined_asin_details)"
      ],
      "metadata": {
        "colab": {
          "base_uri": "https://localhost:8080/"
        },
        "id": "Vdu-8C41jXhh",
        "outputId": "573257cf-6b7e-4352-901d-c421319981c8"
      },
      "execution_count": null,
      "outputs": [
        {
          "output_type": "stream",
          "name": "stdout",
          "text": [
            "         asin                                         reviewText  overall  \\\n",
            "0  0061900621  There's another person who reviewed this item ...      3.0   \n",
            "1  0061900621  I got this for my 6 year old niece, soon to be...      3.0   \n",
            "2  0061900621  My niece had trouble with her elder daughter 3...      5.0   \n",
            "3  0061900621  I got this for my 6 year old niece, soon to be...      3.0   \n",
            "4  0061900621                                       as described      5.0   \n",
            "5  0061900621   Decent read for kids who are about to get a baby      4.0   \n",
            "6  0061900621  I gave this book to a two and a half year old ...      5.0   \n",
            "7  0061900621  I got this for my granddaughter who is going t...      5.0   \n",
            "8  0061900621      Great little book, generating fun discussion'      5.0   \n",
            "9  0061900621  This book is great for preparing a child for t...      5.0   \n",
            "\n",
            "   compound  rank             title  \n",
            "0   -0.7535  31.0  I'm a Big Sister  \n",
            "1   -0.4228  31.0  I'm a Big Sister  \n",
            "2   -0.4019  31.0  I'm a Big Sister  \n",
            "3   -0.4228  31.0  I'm a Big Sister  \n",
            "4    0.0000  31.0  I'm a Big Sister  \n",
            "5    0.0000  31.0  I'm a Big Sister  \n",
            "6    0.4019  31.0  I'm a Big Sister  \n",
            "7    0.4019  31.0  I'm a Big Sister  \n",
            "8    0.7984  31.0  I'm a Big Sister  \n",
            "9    0.7983  31.0  I'm a Big Sister  \n"
          ]
        }
      ]
    },
    {
      "cell_type": "code",
      "source": [
        "# Specify the ASIN you're interested in\n",
        "specific_asin = '1938298071'\n",
        "# Use query to filter reviews for the specific ASIN\n",
        "specific_asin_details = final_df.query(\"asin == @specific_asin\")[[\"asin\",'reviewText',\"overall\",\"compound\"]]\n",
        "#print(specific_asin_details)\n",
        "combined_asin_details = pd.merge(specific_asin_details,  sorted_compare_rank_df[['asin', 'rank','title']], on='asin', how='left')\n",
        "\n",
        "print(combined_asin_details)"
      ],
      "metadata": {
        "colab": {
          "base_uri": "https://localhost:8080/"
        },
        "id": "ZhQZj97ZnBOA",
        "outputId": "67274a06-098c-477d-a9f6-81d88c746662"
      },
      "execution_count": null,
      "outputs": [
        {
          "output_type": "stream",
          "name": "stdout",
          "text": [
            "         asin                                         reviewText  overall  \\\n",
            "0  1938298071  the message is good but it is sort of strange ...      3.0   \n",
            "1  1938298071  I purchased this because it was highly acclaim...      1.0   \n",
            "2  1938298071  She also just published, \"What Do You Do With ...      5.0   \n",
            "3  1938298071  As you read this book you can stop on every pa...      5.0   \n",
            "4  1938298071                          A must-read for everyone.      5.0   \n",
            "5  1938298071              Grandkid needed to hear this message!      5.0   \n",
            "6  1938298071       Thank you fast shipping product as expected!      5.0   \n",
            "7  1938298071            Highly recommend this book for all ages      5.0   \n",
            "8  1938298071  This is a wonderful book for young children to...      5.0   \n",
            "9  1938298071  Not sure why, but this is never the one my kid...      3.0   \n",
            "\n",
            "   compound  rank                         title  \n",
            "0   -0.8064  32.0  What Do You Do With an Idea?  \n",
            "1   -0.7088  32.0  What Do You Do With an Idea?  \n",
            "2   -0.4333  32.0  What Do You Do With an Idea?  \n",
            "3   -0.2960  32.0  What Do You Do With an Idea?  \n",
            "4    0.0000  32.0  What Do You Do With an Idea?  \n",
            "5    0.0000  32.0  What Do You Do With an Idea?  \n",
            "6    0.4199  32.0  What Do You Do With an Idea?  \n",
            "7    0.4201  32.0  What Do You Do With an Idea?  \n",
            "8    0.8004  32.0  What Do You Do With an Idea?  \n",
            "9    0.7986  32.0  What Do You Do With an Idea?  \n"
          ]
        }
      ]
    },
    {
      "cell_type": "markdown",
      "source": [
        "# Extract 2 reviews around the average compound score"
      ],
      "metadata": {
        "id": "yu11O3ECoe8A"
      }
    },
    {
      "cell_type": "code",
      "source": [
        "# Assuming 'df' is your main DataFrame with the reviews and their compound scores\n",
        "# Assuming 'df_rank_processed' contains ASINs with specific target compound scores\n",
        "\n",
        "results = []  # To store the results\n",
        "\n",
        "for asin in df['asin'].unique():\n",
        "    # Assuming each ASIN has a unique compound value in df_rank_processed\n",
        "    # If multiple, this takes the first one; adjust according to your data\n",
        "    target_compound = df_rank_processed.query(\"asin == @asin\")['compound'].iloc[0]\n",
        "\n",
        "    temp_df = df[df['asin'] == asin].copy()\n",
        "\n",
        "    # Calculate absolute difference from target compound value\n",
        "    temp_df['difference'] = (temp_df['compound'] - target_compound).abs()\n",
        "\n",
        "    # Sort by difference and select top two\n",
        "    nearest_reviews = temp_df.sort_values(by='difference').head(2)\n",
        "\n",
        "    # Add target_compound and ASIN for clarity in the final DataFrame\n",
        "    nearest_reviews['target_compound'] = target_compound\n",
        "    nearest_reviews['asin'] = asin  # Ensuring ASIN column is correct\n",
        "\n",
        "    # Append to results\n",
        "    results.append(nearest_reviews)\n",
        "\n",
        "# Concatenate all results into a single DataFrame\n",
        "final_df = pd.concat(results, ignore_index=True)\n",
        "\n",
        "# Optionally, drop the 'difference' column if it's no longer needed\n",
        "final_df = final_df.drop(columns=['difference'])\n",
        "final_df.to_csv('2ReviewsRankforAsins.csv', index=False)\n",
        "print(final_df)"
      ],
      "metadata": {
        "colab": {
          "base_uri": "https://localhost:8080/"
        },
        "id": "0HnyJLaRo71S",
        "outputId": "92b87528-24be-439f-d971-684a92ec0677"
      },
      "execution_count": null,
      "outputs": [
        {
          "output_type": "stream",
          "name": "stdout",
          "text": [
            "        Id    neg    neu    pos  compound  overall vote  verified  \\\n",
            "0      225  0.000  0.723  0.277    0.6956      2.0    2      True   \n",
            "1      115  0.000  0.594  0.406    0.6989      5.0  NaN      True   \n",
            "2      502  0.000  0.477  0.523    0.6588      5.0  NaN      True   \n",
            "3      614  0.000  0.185  0.815    0.6588      5.0  NaN      True   \n",
            "4     1118  0.000  0.695  0.305    0.7203      5.0  NaN      True   \n",
            "..     ...    ...    ...    ...       ...      ...  ...       ...   \n",
            "195  87909  0.072  0.687  0.240    0.6607      5.0  NaN      True   \n",
            "196  88781  0.000  0.737  0.263    0.8176      5.0  NaN      True   \n",
            "197  88538  0.000  0.758  0.242    0.8225      5.0  NaN      True   \n",
            "198  88880  0.000  0.458  0.542    0.6932      5.0  NaN      True   \n",
            "199  89021  0.056  0.854  0.090    0.6953      5.0  NaN      True   \n",
            "\n",
            "      reviewTime      reviewerID        asin                           style  \\\n",
            "0     09 4, 2014   AUUP48T642MV4  0060239638  {'Format:': ' Kindle Edition'}   \n",
            "1    01 30, 2016  A146K3OC953PPW  0060239638  {'Format:': ' Kindle Edition'}   \n",
            "2    10 11, 2017   A4TCBF7BDAHNW  0060235152      {'Format:': ' Board book'}   \n",
            "3     01 6, 2017  A1H703SRHWU0AL  0060235152      {'Format:': ' Board book'}   \n",
            "4    01 16, 2013  A3GSC86XYWSUB7  0061671738  {'Format:': ' Kindle Edition'}   \n",
            "..           ...             ...         ...                             ...   \n",
            "195  06 28, 2016  A3N2A3NQGYZJDW  1609580834       {'Format:': ' Paperback'}   \n",
            "196  01 15, 2015  A3F3DES581Q7YP  192643207X  {'Format:': ' Kindle Edition'}   \n",
            "197  07 15, 2016   AA7ZNYYQQHRME  192643207X  {'Format:': ' Kindle Edition'}   \n",
            "198   01 7, 2017  A1KSWBLY7WTB3H  1938298071       {'Format:': ' Hardcover'}   \n",
            "199  07 19, 2015  A2XJ1B2L2F0YGH  1938298071       {'Format:': ' Hardcover'}   \n",
            "\n",
            "        reviewerName                                         reviewText  \\\n",
            "0               myca  nice bunch of stories, but could be better if ...   \n",
            "1                  Y          My kiddos really love this Forg and Toad!   \n",
            "2    Amazon Customer                            Great for One Year Old!   \n",
            "3       Gabe Welling                                        Great book!   \n",
            "4         Mikewarfel  this is a good, quick little tale. Worth a rea...   \n",
            "..               ...                                                ...   \n",
            "195          deborah  Purchased for 8 year old. She was very interes...   \n",
            "196         Shan Rae  Fun to read to my lil guy. Maybe I can get my ...   \n",
            "197  Kindle Customer  My grandson enjoyed this book and he was able ...   \n",
            "198      Deev Murphy                       WONDERFUL book for ALL ages!   \n",
            "199      Sally Derby  I couldn't begin to review all the books I rea...   \n",
            "\n",
            "                                               summary  unixReviewTime image  \\\n",
            "0                                            Two Stars      1409788800   NaN   \n",
            "1                                           Five Stars      1454112000   NaN   \n",
            "2                                                Great      1507680000   NaN   \n",
            "3                                           Five Stars      1483660800   NaN   \n",
            "4                                       good quick rea      1358294400   NaN   \n",
            "..                                                 ...             ...   ...   \n",
            "195  She was very interested but would not recommen...      1467072000   NaN   \n",
            "196                          Fun to read to my lil guy      1421280000   NaN   \n",
            "197                                          Enjoyable      1468540800   NaN   \n",
            "198                                           LOVE it!      1483747200   NaN   \n",
            "199                                       New Treasure      1437264000   NaN   \n",
            "\n",
            "     target_compound  \n",
            "0           0.696064  \n",
            "1           0.696064  \n",
            "2           0.655560  \n",
            "3           0.655560  \n",
            "4           0.720539  \n",
            "..               ...  \n",
            "195         0.662348  \n",
            "196         0.817676  \n",
            "197         0.817676  \n",
            "198         0.692514  \n",
            "199         0.692514  \n",
            "\n",
            "[200 rows x 18 columns]\n"
          ]
        }
      ]
    },
    {
      "cell_type": "code",
      "source": [
        "# Specify the ASIN you're interested in\n",
        "specific_asin = '0061900621'\n",
        "# Use query to filter reviews for the specific ASIN\n",
        "specific_asin_details = final_df.query(\"asin == @specific_asin\")[[\"asin\",'reviewText',\"overall\",\"compound\"]]\n",
        "#print(specific_asin_details)\n",
        "combined_asin_details = pd.merge(specific_asin_details,  sorted_compare_rank_df[['asin', 'rank','title']], on='asin', how='left')\n",
        "combined_asin_details.to_csv('2ReviewsRankfor0061900621.csv', index=False)\n",
        "print(combined_asin_details)"
      ],
      "metadata": {
        "colab": {
          "base_uri": "https://localhost:8080/"
        },
        "id": "pC2VinbKqvHg",
        "outputId": "c029a7e9-7398-4227-f1c5-80635dab69e7"
      },
      "execution_count": null,
      "outputs": [
        {
          "output_type": "stream",
          "name": "stdout",
          "text": [
            "         asin                                         reviewText  overall  \\\n",
            "0  0061900621  Cute book, getting my daughter interested in b...      4.0   \n",
            "1  0061900621  Bought it for my 2 1/2 year old, she liked the...      4.0   \n",
            "\n",
            "   compound  rank             title  \n",
            "0    0.6908  31.0  I'm a Big Sister  \n",
            "1    0.6908  31.0  I'm a Big Sister  \n"
          ]
        }
      ]
    },
    {
      "cell_type": "code",
      "source": [
        "# Specify the ASIN you're interested in\n",
        "specific_asin = '1938298071'\n",
        "# Use query to filter reviews for the specific ASIN\n",
        "specific_asin_details = final_df.query(\"asin == @specific_asin\")[[\"asin\",'reviewText',\"overall\",\"compound\"]]\n",
        "#print(specific_asin_details)\n",
        "combined_asin_details = pd.merge(specific_asin_details,  sorted_compare_rank_df[['asin', 'rank','title']], on='asin', how='left')\n",
        "\n",
        "print(combined_asin_details)"
      ],
      "metadata": {
        "colab": {
          "base_uri": "https://localhost:8080/"
        },
        "id": "aGKq3RLNq6e0",
        "outputId": "de3c758b-00e9-47ca-9234-4e1db049eb54"
      },
      "execution_count": null,
      "outputs": [
        {
          "output_type": "stream",
          "name": "stdout",
          "text": [
            "         asin                                         reviewText  overall  \\\n",
            "0  1938298071  I was enchanted by the illustrations and story...      4.0   \n",
            "1  1938298071  I have been using this book with my research t...      5.0   \n",
            "\n",
            "   compound  rank                         title  \n",
            "0    0.7430  22.0  What Do You Do With an Idea?  \n",
            "1    0.7351  22.0  What Do You Do With an Idea?  \n"
          ]
        }
      ]
    }
  ]
}