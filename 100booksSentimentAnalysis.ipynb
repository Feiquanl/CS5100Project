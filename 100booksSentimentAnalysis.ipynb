{
  "nbformat": 4,
  "nbformat_minor": 0,
  "metadata": {
    "colab": {
      "provenance": [],
      "include_colab_link": true
    },
    "kernelspec": {
      "name": "python3",
      "display_name": "Python 3"
    },
    "language_info": {
      "name": "python"
    },
    "widgets": {
      "application/vnd.jupyter.widget-state+json": {
        "da5a7bf02d514716bd0f3b0291b04c51": {
          "model_module": "@jupyter-widgets/controls",
          "model_name": "HBoxModel",
          "model_module_version": "1.5.0",
          "state": {
            "_dom_classes": [],
            "_model_module": "@jupyter-widgets/controls",
            "_model_module_version": "1.5.0",
            "_model_name": "HBoxModel",
            "_view_count": null,
            "_view_module": "@jupyter-widgets/controls",
            "_view_module_version": "1.5.0",
            "_view_name": "HBoxView",
            "box_style": "",
            "children": [
              "IPY_MODEL_317920aa78d34096a5d6009cad90836b",
              "IPY_MODEL_2b7766a28d834cb998920ce96513185c",
              "IPY_MODEL_842fb72e12464ce1b1bd22df6b64750d"
            ],
            "layout": "IPY_MODEL_5ef2fbc693394fdcb0bdfb4562552d7d"
          }
        },
        "317920aa78d34096a5d6009cad90836b": {
          "model_module": "@jupyter-widgets/controls",
          "model_name": "HTMLModel",
          "model_module_version": "1.5.0",
          "state": {
            "_dom_classes": [],
            "_model_module": "@jupyter-widgets/controls",
            "_model_module_version": "1.5.0",
            "_model_name": "HTMLModel",
            "_view_count": null,
            "_view_module": "@jupyter-widgets/controls",
            "_view_module_version": "1.5.0",
            "_view_name": "HTMLView",
            "description": "",
            "description_tooltip": null,
            "layout": "IPY_MODEL_5316403609974a5f957185b542cedd7c",
            "placeholder": "​",
            "style": "IPY_MODEL_fb6912b18f714d6daa66f4c271d563a3",
            "value": "100%"
          }
        },
        "2b7766a28d834cb998920ce96513185c": {
          "model_module": "@jupyter-widgets/controls",
          "model_name": "FloatProgressModel",
          "model_module_version": "1.5.0",
          "state": {
            "_dom_classes": [],
            "_model_module": "@jupyter-widgets/controls",
            "_model_module_version": "1.5.0",
            "_model_name": "FloatProgressModel",
            "_view_count": null,
            "_view_module": "@jupyter-widgets/controls",
            "_view_module_version": "1.5.0",
            "_view_name": "ProgressView",
            "bar_style": "success",
            "description": "",
            "description_tooltip": null,
            "layout": "IPY_MODEL_7c47495812cf44ba9c6bcaf103911f1e",
            "max": 644,
            "min": 0,
            "orientation": "horizontal",
            "style": "IPY_MODEL_2cdb8ffb89244a0fb1016417c7629a69",
            "value": 644
          }
        },
        "842fb72e12464ce1b1bd22df6b64750d": {
          "model_module": "@jupyter-widgets/controls",
          "model_name": "HTMLModel",
          "model_module_version": "1.5.0",
          "state": {
            "_dom_classes": [],
            "_model_module": "@jupyter-widgets/controls",
            "_model_module_version": "1.5.0",
            "_model_name": "HTMLModel",
            "_view_count": null,
            "_view_module": "@jupyter-widgets/controls",
            "_view_module_version": "1.5.0",
            "_view_name": "HTMLView",
            "description": "",
            "description_tooltip": null,
            "layout": "IPY_MODEL_3f1a80a7a53443c19f2401783a535c33",
            "placeholder": "​",
            "style": "IPY_MODEL_1c666f775dd3481ebdbe4fb16622ffa5",
            "value": " 644/644 [00:00&lt;00:00, 762.74it/s]"
          }
        },
        "5ef2fbc693394fdcb0bdfb4562552d7d": {
          "model_module": "@jupyter-widgets/base",
          "model_name": "LayoutModel",
          "model_module_version": "1.2.0",
          "state": {
            "_model_module": "@jupyter-widgets/base",
            "_model_module_version": "1.2.0",
            "_model_name": "LayoutModel",
            "_view_count": null,
            "_view_module": "@jupyter-widgets/base",
            "_view_module_version": "1.2.0",
            "_view_name": "LayoutView",
            "align_content": null,
            "align_items": null,
            "align_self": null,
            "border": null,
            "bottom": null,
            "display": null,
            "flex": null,
            "flex_flow": null,
            "grid_area": null,
            "grid_auto_columns": null,
            "grid_auto_flow": null,
            "grid_auto_rows": null,
            "grid_column": null,
            "grid_gap": null,
            "grid_row": null,
            "grid_template_areas": null,
            "grid_template_columns": null,
            "grid_template_rows": null,
            "height": null,
            "justify_content": null,
            "justify_items": null,
            "left": null,
            "margin": null,
            "max_height": null,
            "max_width": null,
            "min_height": null,
            "min_width": null,
            "object_fit": null,
            "object_position": null,
            "order": null,
            "overflow": null,
            "overflow_x": null,
            "overflow_y": null,
            "padding": null,
            "right": null,
            "top": null,
            "visibility": null,
            "width": null
          }
        },
        "5316403609974a5f957185b542cedd7c": {
          "model_module": "@jupyter-widgets/base",
          "model_name": "LayoutModel",
          "model_module_version": "1.2.0",
          "state": {
            "_model_module": "@jupyter-widgets/base",
            "_model_module_version": "1.2.0",
            "_model_name": "LayoutModel",
            "_view_count": null,
            "_view_module": "@jupyter-widgets/base",
            "_view_module_version": "1.2.0",
            "_view_name": "LayoutView",
            "align_content": null,
            "align_items": null,
            "align_self": null,
            "border": null,
            "bottom": null,
            "display": null,
            "flex": null,
            "flex_flow": null,
            "grid_area": null,
            "grid_auto_columns": null,
            "grid_auto_flow": null,
            "grid_auto_rows": null,
            "grid_column": null,
            "grid_gap": null,
            "grid_row": null,
            "grid_template_areas": null,
            "grid_template_columns": null,
            "grid_template_rows": null,
            "height": null,
            "justify_content": null,
            "justify_items": null,
            "left": null,
            "margin": null,
            "max_height": null,
            "max_width": null,
            "min_height": null,
            "min_width": null,
            "object_fit": null,
            "object_position": null,
            "order": null,
            "overflow": null,
            "overflow_x": null,
            "overflow_y": null,
            "padding": null,
            "right": null,
            "top": null,
            "visibility": null,
            "width": null
          }
        },
        "fb6912b18f714d6daa66f4c271d563a3": {
          "model_module": "@jupyter-widgets/controls",
          "model_name": "DescriptionStyleModel",
          "model_module_version": "1.5.0",
          "state": {
            "_model_module": "@jupyter-widgets/controls",
            "_model_module_version": "1.5.0",
            "_model_name": "DescriptionStyleModel",
            "_view_count": null,
            "_view_module": "@jupyter-widgets/base",
            "_view_module_version": "1.2.0",
            "_view_name": "StyleView",
            "description_width": ""
          }
        },
        "7c47495812cf44ba9c6bcaf103911f1e": {
          "model_module": "@jupyter-widgets/base",
          "model_name": "LayoutModel",
          "model_module_version": "1.2.0",
          "state": {
            "_model_module": "@jupyter-widgets/base",
            "_model_module_version": "1.2.0",
            "_model_name": "LayoutModel",
            "_view_count": null,
            "_view_module": "@jupyter-widgets/base",
            "_view_module_version": "1.2.0",
            "_view_name": "LayoutView",
            "align_content": null,
            "align_items": null,
            "align_self": null,
            "border": null,
            "bottom": null,
            "display": null,
            "flex": null,
            "flex_flow": null,
            "grid_area": null,
            "grid_auto_columns": null,
            "grid_auto_flow": null,
            "grid_auto_rows": null,
            "grid_column": null,
            "grid_gap": null,
            "grid_row": null,
            "grid_template_areas": null,
            "grid_template_columns": null,
            "grid_template_rows": null,
            "height": null,
            "justify_content": null,
            "justify_items": null,
            "left": null,
            "margin": null,
            "max_height": null,
            "max_width": null,
            "min_height": null,
            "min_width": null,
            "object_fit": null,
            "object_position": null,
            "order": null,
            "overflow": null,
            "overflow_x": null,
            "overflow_y": null,
            "padding": null,
            "right": null,
            "top": null,
            "visibility": null,
            "width": null
          }
        },
        "2cdb8ffb89244a0fb1016417c7629a69": {
          "model_module": "@jupyter-widgets/controls",
          "model_name": "ProgressStyleModel",
          "model_module_version": "1.5.0",
          "state": {
            "_model_module": "@jupyter-widgets/controls",
            "_model_module_version": "1.5.0",
            "_model_name": "ProgressStyleModel",
            "_view_count": null,
            "_view_module": "@jupyter-widgets/base",
            "_view_module_version": "1.2.0",
            "_view_name": "StyleView",
            "bar_color": null,
            "description_width": ""
          }
        },
        "3f1a80a7a53443c19f2401783a535c33": {
          "model_module": "@jupyter-widgets/base",
          "model_name": "LayoutModel",
          "model_module_version": "1.2.0",
          "state": {
            "_model_module": "@jupyter-widgets/base",
            "_model_module_version": "1.2.0",
            "_model_name": "LayoutModel",
            "_view_count": null,
            "_view_module": "@jupyter-widgets/base",
            "_view_module_version": "1.2.0",
            "_view_name": "LayoutView",
            "align_content": null,
            "align_items": null,
            "align_self": null,
            "border": null,
            "bottom": null,
            "display": null,
            "flex": null,
            "flex_flow": null,
            "grid_area": null,
            "grid_auto_columns": null,
            "grid_auto_flow": null,
            "grid_auto_rows": null,
            "grid_column": null,
            "grid_gap": null,
            "grid_row": null,
            "grid_template_areas": null,
            "grid_template_columns": null,
            "grid_template_rows": null,
            "height": null,
            "justify_content": null,
            "justify_items": null,
            "left": null,
            "margin": null,
            "max_height": null,
            "max_width": null,
            "min_height": null,
            "min_width": null,
            "object_fit": null,
            "object_position": null,
            "order": null,
            "overflow": null,
            "overflow_x": null,
            "overflow_y": null,
            "padding": null,
            "right": null,
            "top": null,
            "visibility": null,
            "width": null
          }
        },
        "1c666f775dd3481ebdbe4fb16622ffa5": {
          "model_module": "@jupyter-widgets/controls",
          "model_name": "DescriptionStyleModel",
          "model_module_version": "1.5.0",
          "state": {
            "_model_module": "@jupyter-widgets/controls",
            "_model_module_version": "1.5.0",
            "_model_name": "DescriptionStyleModel",
            "_view_count": null,
            "_view_module": "@jupyter-widgets/base",
            "_view_module_version": "1.2.0",
            "_view_name": "StyleView",
            "description_width": ""
          }
        }
      }
    }
  },
  "cells": [
    {
      "cell_type": "markdown",
      "metadata": {
        "id": "view-in-github",
        "colab_type": "text"
      },
      "source": [
        "<a href=\"https://colab.research.google.com/github/Feiquanl/CS5100Project/blob/main/100booksSentimentAnalysis.ipynb\" target=\"_parent\"><img src=\"https://colab.research.google.com/assets/colab-badge.svg\" alt=\"Open In Colab\"/></a>"
      ]
    },
    {
      "cell_type": "markdown",
      "source": [
        "#Read in Data"
      ],
      "metadata": {
        "id": "52WaS9m4mSdf"
      }
    },
    {
      "cell_type": "code",
      "execution_count": null,
      "metadata": {
        "id": "jtux2T2iX21q",
        "colab": {
          "base_uri": "https://localhost:8080/"
        },
        "outputId": "2f6ed577-1823-48d3-c1ed-f17ebe31931c"
      },
      "outputs": [
        {
          "output_type": "stream",
          "name": "stderr",
          "text": [
            "[nltk_data] Downloading package punkt to /root/nltk_data...\n",
            "[nltk_data]   Package punkt is already up-to-date!\n",
            "[nltk_data] Downloading package averaged_perceptron_tagger to\n",
            "[nltk_data]     /root/nltk_data...\n",
            "[nltk_data]   Package averaged_perceptron_tagger is already up-to-\n",
            "[nltk_data]       date!\n",
            "[nltk_data] Downloading package maxent_ne_chunker to\n",
            "[nltk_data]     /root/nltk_data...\n",
            "[nltk_data]   Package maxent_ne_chunker is already up-to-date!\n",
            "[nltk_data] Downloading package words to /root/nltk_data...\n",
            "[nltk_data]   Package words is already up-to-date!\n",
            "[nltk_data] Downloading package vader_lexicon to /root/nltk_data...\n",
            "[nltk_data]   Package vader_lexicon is already up-to-date!\n"
          ]
        },
        {
          "output_type": "execute_result",
          "data": {
            "text/plain": [
              "True"
            ]
          },
          "metadata": {},
          "execution_count": 7
        }
      ],
      "source": [
        "import pandas as pd\n",
        "import numpy as np\n",
        "import matplotlib.pyplot as plt\n",
        "import seaborn as sns\n",
        "\n",
        "plt.style.use('ggplot')\n",
        "\n",
        "import nltk\n",
        "nltk.download('punkt')\n",
        "nltk.download('averaged_perceptron_tagger')\n",
        "nltk.download('maxent_ne_chunker')\n",
        "nltk.download('words')\n",
        "nltk.download('vader_lexicon')"
      ]
    },
    {
      "cell_type": "code",
      "source": [
        "# Read in data\n",
        "df = pd.read_csv(\"/Book_1_50.csv\")\n",
        "print(df.shape)\n",
        "#df = df.head(500)\n",
        "print(df.shape)"
      ],
      "metadata": {
        "colab": {
          "base_uri": "https://localhost:8080/"
        },
        "id": "7OH-hrBCYH9U",
        "outputId": "cbd28261-3375-4b4f-de40-642d1e8b30ba"
      },
      "execution_count": null,
      "outputs": [
        {
          "output_type": "stream",
          "name": "stdout",
          "text": [
            "(43148, 12)\n",
            "(43148, 12)\n"
          ]
        }
      ]
    },
    {
      "cell_type": "code",
      "source": [
        "df.head()"
      ],
      "metadata": {
        "id": "-ofSMLwTZ0lb",
        "outputId": "c287c634-e193-4d13-c232-fffc101d7fe3",
        "colab": {
          "base_uri": "https://localhost:8080/",
          "height": 573
        }
      },
      "execution_count": null,
      "outputs": [
        {
          "output_type": "execute_result",
          "data": {
            "text/plain": [
              "   overall  verified   reviewTime      reviewerID        asin  \\\n",
              "0      4.0      True   04 5, 2018  A3OFV8AGCZBR4Q  0061900621   \n",
              "1      5.0      True  03 20, 2018   AFRZEPUFQ5MMC  0061900621   \n",
              "2      5.0      True   03 7, 2018  A1S1CPDH3FQJGW  0061900621   \n",
              "3      5.0      True   02 6, 2018   AV4H0HWXRJN7C  0061900621   \n",
              "4      5.0      True  01 25, 2018   AGQHMKOP1I3DL  0061900621   \n",
              "\n",
              "                       style      reviewerName  \\\n",
              "0  {'Format:': ' Hardcover'}    Marko Petrovic   \n",
              "1  {'Format:': ' Hardcover'}         Mr. Frank   \n",
              "2  {'Format:': ' Hardcover'}             TMH21   \n",
              "3  {'Format:': ' Hardcover'}              Sara   \n",
              "4  {'Format:': ' Paperback'}  Nancy Blaskewicz   \n",
              "\n",
              "                                          reviewText  \\\n",
              "0  My first born daughter loves this book and enj...   \n",
              "1                                   daughter like it   \n",
              "2  I gave this book to a two and a half year old ...   \n",
              "3  My daughter loves babies and telling her shes ...   \n",
              "4  This is the perfect book to give to a little g...   \n",
              "\n",
              "                                  summary  unixReviewTime vote image  \n",
              "0               Big sissy loves this book      1522886400  NaN   NaN  \n",
              "1                              Five Stars      1521504000  NaN   NaN  \n",
              "2                           A great gift.      1520380800  NaN   NaN  \n",
              "3                         Big sister hit.      1517875200  NaN   NaN  \n",
              "4  Good book when a new baby is expected.      1516838400  NaN   NaN  "
            ],
            "text/html": [
              "\n",
              "  <div id=\"df-173ccf5b-8ae1-4fdb-ba33-a0a8c9acbcca\" class=\"colab-df-container\">\n",
              "    <div>\n",
              "<style scoped>\n",
              "    .dataframe tbody tr th:only-of-type {\n",
              "        vertical-align: middle;\n",
              "    }\n",
              "\n",
              "    .dataframe tbody tr th {\n",
              "        vertical-align: top;\n",
              "    }\n",
              "\n",
              "    .dataframe thead th {\n",
              "        text-align: right;\n",
              "    }\n",
              "</style>\n",
              "<table border=\"1\" class=\"dataframe\">\n",
              "  <thead>\n",
              "    <tr style=\"text-align: right;\">\n",
              "      <th></th>\n",
              "      <th>overall</th>\n",
              "      <th>verified</th>\n",
              "      <th>reviewTime</th>\n",
              "      <th>reviewerID</th>\n",
              "      <th>asin</th>\n",
              "      <th>style</th>\n",
              "      <th>reviewerName</th>\n",
              "      <th>reviewText</th>\n",
              "      <th>summary</th>\n",
              "      <th>unixReviewTime</th>\n",
              "      <th>vote</th>\n",
              "      <th>image</th>\n",
              "    </tr>\n",
              "  </thead>\n",
              "  <tbody>\n",
              "    <tr>\n",
              "      <th>0</th>\n",
              "      <td>4.0</td>\n",
              "      <td>True</td>\n",
              "      <td>04 5, 2018</td>\n",
              "      <td>A3OFV8AGCZBR4Q</td>\n",
              "      <td>0061900621</td>\n",
              "      <td>{'Format:': ' Hardcover'}</td>\n",
              "      <td>Marko Petrovic</td>\n",
              "      <td>My first born daughter loves this book and enj...</td>\n",
              "      <td>Big sissy loves this book</td>\n",
              "      <td>1522886400</td>\n",
              "      <td>NaN</td>\n",
              "      <td>NaN</td>\n",
              "    </tr>\n",
              "    <tr>\n",
              "      <th>1</th>\n",
              "      <td>5.0</td>\n",
              "      <td>True</td>\n",
              "      <td>03 20, 2018</td>\n",
              "      <td>AFRZEPUFQ5MMC</td>\n",
              "      <td>0061900621</td>\n",
              "      <td>{'Format:': ' Hardcover'}</td>\n",
              "      <td>Mr. Frank</td>\n",
              "      <td>daughter like it</td>\n",
              "      <td>Five Stars</td>\n",
              "      <td>1521504000</td>\n",
              "      <td>NaN</td>\n",
              "      <td>NaN</td>\n",
              "    </tr>\n",
              "    <tr>\n",
              "      <th>2</th>\n",
              "      <td>5.0</td>\n",
              "      <td>True</td>\n",
              "      <td>03 7, 2018</td>\n",
              "      <td>A1S1CPDH3FQJGW</td>\n",
              "      <td>0061900621</td>\n",
              "      <td>{'Format:': ' Hardcover'}</td>\n",
              "      <td>TMH21</td>\n",
              "      <td>I gave this book to a two and a half year old ...</td>\n",
              "      <td>A great gift.</td>\n",
              "      <td>1520380800</td>\n",
              "      <td>NaN</td>\n",
              "      <td>NaN</td>\n",
              "    </tr>\n",
              "    <tr>\n",
              "      <th>3</th>\n",
              "      <td>5.0</td>\n",
              "      <td>True</td>\n",
              "      <td>02 6, 2018</td>\n",
              "      <td>AV4H0HWXRJN7C</td>\n",
              "      <td>0061900621</td>\n",
              "      <td>{'Format:': ' Hardcover'}</td>\n",
              "      <td>Sara</td>\n",
              "      <td>My daughter loves babies and telling her shes ...</td>\n",
              "      <td>Big sister hit.</td>\n",
              "      <td>1517875200</td>\n",
              "      <td>NaN</td>\n",
              "      <td>NaN</td>\n",
              "    </tr>\n",
              "    <tr>\n",
              "      <th>4</th>\n",
              "      <td>5.0</td>\n",
              "      <td>True</td>\n",
              "      <td>01 25, 2018</td>\n",
              "      <td>AGQHMKOP1I3DL</td>\n",
              "      <td>0061900621</td>\n",
              "      <td>{'Format:': ' Paperback'}</td>\n",
              "      <td>Nancy Blaskewicz</td>\n",
              "      <td>This is the perfect book to give to a little g...</td>\n",
              "      <td>Good book when a new baby is expected.</td>\n",
              "      <td>1516838400</td>\n",
              "      <td>NaN</td>\n",
              "      <td>NaN</td>\n",
              "    </tr>\n",
              "  </tbody>\n",
              "</table>\n",
              "</div>\n",
              "    <div class=\"colab-df-buttons\">\n",
              "\n",
              "  <div class=\"colab-df-container\">\n",
              "    <button class=\"colab-df-convert\" onclick=\"convertToInteractive('df-173ccf5b-8ae1-4fdb-ba33-a0a8c9acbcca')\"\n",
              "            title=\"Convert this dataframe to an interactive table.\"\n",
              "            style=\"display:none;\">\n",
              "\n",
              "  <svg xmlns=\"http://www.w3.org/2000/svg\" height=\"24px\" viewBox=\"0 -960 960 960\">\n",
              "    <path d=\"M120-120v-720h720v720H120Zm60-500h600v-160H180v160Zm220 220h160v-160H400v160Zm0 220h160v-160H400v160ZM180-400h160v-160H180v160Zm440 0h160v-160H620v160ZM180-180h160v-160H180v160Zm440 0h160v-160H620v160Z\"/>\n",
              "  </svg>\n",
              "    </button>\n",
              "\n",
              "  <style>\n",
              "    .colab-df-container {\n",
              "      display:flex;\n",
              "      gap: 12px;\n",
              "    }\n",
              "\n",
              "    .colab-df-convert {\n",
              "      background-color: #E8F0FE;\n",
              "      border: none;\n",
              "      border-radius: 50%;\n",
              "      cursor: pointer;\n",
              "      display: none;\n",
              "      fill: #1967D2;\n",
              "      height: 32px;\n",
              "      padding: 0 0 0 0;\n",
              "      width: 32px;\n",
              "    }\n",
              "\n",
              "    .colab-df-convert:hover {\n",
              "      background-color: #E2EBFA;\n",
              "      box-shadow: 0px 1px 2px rgba(60, 64, 67, 0.3), 0px 1px 3px 1px rgba(60, 64, 67, 0.15);\n",
              "      fill: #174EA6;\n",
              "    }\n",
              "\n",
              "    .colab-df-buttons div {\n",
              "      margin-bottom: 4px;\n",
              "    }\n",
              "\n",
              "    [theme=dark] .colab-df-convert {\n",
              "      background-color: #3B4455;\n",
              "      fill: #D2E3FC;\n",
              "    }\n",
              "\n",
              "    [theme=dark] .colab-df-convert:hover {\n",
              "      background-color: #434B5C;\n",
              "      box-shadow: 0px 1px 3px 1px rgba(0, 0, 0, 0.15);\n",
              "      filter: drop-shadow(0px 1px 2px rgba(0, 0, 0, 0.3));\n",
              "      fill: #FFFFFF;\n",
              "    }\n",
              "  </style>\n",
              "\n",
              "    <script>\n",
              "      const buttonEl =\n",
              "        document.querySelector('#df-173ccf5b-8ae1-4fdb-ba33-a0a8c9acbcca button.colab-df-convert');\n",
              "      buttonEl.style.display =\n",
              "        google.colab.kernel.accessAllowed ? 'block' : 'none';\n",
              "\n",
              "      async function convertToInteractive(key) {\n",
              "        const element = document.querySelector('#df-173ccf5b-8ae1-4fdb-ba33-a0a8c9acbcca');\n",
              "        const dataTable =\n",
              "          await google.colab.kernel.invokeFunction('convertToInteractive',\n",
              "                                                    [key], {});\n",
              "        if (!dataTable) return;\n",
              "\n",
              "        const docLinkHtml = 'Like what you see? Visit the ' +\n",
              "          '<a target=\"_blank\" href=https://colab.research.google.com/notebooks/data_table.ipynb>data table notebook</a>'\n",
              "          + ' to learn more about interactive tables.';\n",
              "        element.innerHTML = '';\n",
              "        dataTable['output_type'] = 'display_data';\n",
              "        await google.colab.output.renderOutput(dataTable, element);\n",
              "        const docLink = document.createElement('div');\n",
              "        docLink.innerHTML = docLinkHtml;\n",
              "        element.appendChild(docLink);\n",
              "      }\n",
              "    </script>\n",
              "  </div>\n",
              "\n",
              "\n",
              "<div id=\"df-0f5c0a09-4093-455f-bd2c-ca7e34fc241f\">\n",
              "  <button class=\"colab-df-quickchart\" onclick=\"quickchart('df-0f5c0a09-4093-455f-bd2c-ca7e34fc241f')\"\n",
              "            title=\"Suggest charts\"\n",
              "            style=\"display:none;\">\n",
              "\n",
              "<svg xmlns=\"http://www.w3.org/2000/svg\" height=\"24px\"viewBox=\"0 0 24 24\"\n",
              "     width=\"24px\">\n",
              "    <g>\n",
              "        <path d=\"M19 3H5c-1.1 0-2 .9-2 2v14c0 1.1.9 2 2 2h14c1.1 0 2-.9 2-2V5c0-1.1-.9-2-2-2zM9 17H7v-7h2v7zm4 0h-2V7h2v10zm4 0h-2v-4h2v4z\"/>\n",
              "    </g>\n",
              "</svg>\n",
              "  </button>\n",
              "\n",
              "<style>\n",
              "  .colab-df-quickchart {\n",
              "      --bg-color: #E8F0FE;\n",
              "      --fill-color: #1967D2;\n",
              "      --hover-bg-color: #E2EBFA;\n",
              "      --hover-fill-color: #174EA6;\n",
              "      --disabled-fill-color: #AAA;\n",
              "      --disabled-bg-color: #DDD;\n",
              "  }\n",
              "\n",
              "  [theme=dark] .colab-df-quickchart {\n",
              "      --bg-color: #3B4455;\n",
              "      --fill-color: #D2E3FC;\n",
              "      --hover-bg-color: #434B5C;\n",
              "      --hover-fill-color: #FFFFFF;\n",
              "      --disabled-bg-color: #3B4455;\n",
              "      --disabled-fill-color: #666;\n",
              "  }\n",
              "\n",
              "  .colab-df-quickchart {\n",
              "    background-color: var(--bg-color);\n",
              "    border: none;\n",
              "    border-radius: 50%;\n",
              "    cursor: pointer;\n",
              "    display: none;\n",
              "    fill: var(--fill-color);\n",
              "    height: 32px;\n",
              "    padding: 0;\n",
              "    width: 32px;\n",
              "  }\n",
              "\n",
              "  .colab-df-quickchart:hover {\n",
              "    background-color: var(--hover-bg-color);\n",
              "    box-shadow: 0 1px 2px rgba(60, 64, 67, 0.3), 0 1px 3px 1px rgba(60, 64, 67, 0.15);\n",
              "    fill: var(--button-hover-fill-color);\n",
              "  }\n",
              "\n",
              "  .colab-df-quickchart-complete:disabled,\n",
              "  .colab-df-quickchart-complete:disabled:hover {\n",
              "    background-color: var(--disabled-bg-color);\n",
              "    fill: var(--disabled-fill-color);\n",
              "    box-shadow: none;\n",
              "  }\n",
              "\n",
              "  .colab-df-spinner {\n",
              "    border: 2px solid var(--fill-color);\n",
              "    border-color: transparent;\n",
              "    border-bottom-color: var(--fill-color);\n",
              "    animation:\n",
              "      spin 1s steps(1) infinite;\n",
              "  }\n",
              "\n",
              "  @keyframes spin {\n",
              "    0% {\n",
              "      border-color: transparent;\n",
              "      border-bottom-color: var(--fill-color);\n",
              "      border-left-color: var(--fill-color);\n",
              "    }\n",
              "    20% {\n",
              "      border-color: transparent;\n",
              "      border-left-color: var(--fill-color);\n",
              "      border-top-color: var(--fill-color);\n",
              "    }\n",
              "    30% {\n",
              "      border-color: transparent;\n",
              "      border-left-color: var(--fill-color);\n",
              "      border-top-color: var(--fill-color);\n",
              "      border-right-color: var(--fill-color);\n",
              "    }\n",
              "    40% {\n",
              "      border-color: transparent;\n",
              "      border-right-color: var(--fill-color);\n",
              "      border-top-color: var(--fill-color);\n",
              "    }\n",
              "    60% {\n",
              "      border-color: transparent;\n",
              "      border-right-color: var(--fill-color);\n",
              "    }\n",
              "    80% {\n",
              "      border-color: transparent;\n",
              "      border-right-color: var(--fill-color);\n",
              "      border-bottom-color: var(--fill-color);\n",
              "    }\n",
              "    90% {\n",
              "      border-color: transparent;\n",
              "      border-bottom-color: var(--fill-color);\n",
              "    }\n",
              "  }\n",
              "</style>\n",
              "\n",
              "  <script>\n",
              "    async function quickchart(key) {\n",
              "      const quickchartButtonEl =\n",
              "        document.querySelector('#' + key + ' button');\n",
              "      quickchartButtonEl.disabled = true;  // To prevent multiple clicks.\n",
              "      quickchartButtonEl.classList.add('colab-df-spinner');\n",
              "      try {\n",
              "        const charts = await google.colab.kernel.invokeFunction(\n",
              "            'suggestCharts', [key], {});\n",
              "      } catch (error) {\n",
              "        console.error('Error during call to suggestCharts:', error);\n",
              "      }\n",
              "      quickchartButtonEl.classList.remove('colab-df-spinner');\n",
              "      quickchartButtonEl.classList.add('colab-df-quickchart-complete');\n",
              "    }\n",
              "    (() => {\n",
              "      let quickchartButtonEl =\n",
              "        document.querySelector('#df-0f5c0a09-4093-455f-bd2c-ca7e34fc241f button');\n",
              "      quickchartButtonEl.style.display =\n",
              "        google.colab.kernel.accessAllowed ? 'block' : 'none';\n",
              "    })();\n",
              "  </script>\n",
              "</div>\n",
              "\n",
              "    </div>\n",
              "  </div>\n"
            ],
            "application/vnd.google.colaboratory.intrinsic+json": {
              "type": "dataframe",
              "variable_name": "df",
              "summary": "{\n  \"name\": \"df\",\n  \"rows\": 43148,\n  \"fields\": [\n    {\n      \"column\": \"overall\",\n      \"properties\": {\n        \"dtype\": \"number\",\n        \"std\": 0.7549293420978821,\n        \"min\": 1.0,\n        \"max\": 5.0,\n        \"num_unique_values\": 5,\n        \"samples\": [\n          5.0,\n          2.0,\n          1.0\n        ],\n        \"semantic_type\": \"\",\n        \"description\": \"\"\n      }\n    },\n    {\n      \"column\": \"verified\",\n      \"properties\": {\n        \"dtype\": \"boolean\",\n        \"num_unique_values\": 2,\n        \"samples\": [\n          false,\n          true\n        ],\n        \"semantic_type\": \"\",\n        \"description\": \"\"\n      }\n    },\n    {\n      \"column\": \"reviewTime\",\n      \"properties\": {\n        \"dtype\": \"object\",\n        \"num_unique_values\": 4471,\n        \"samples\": [\n          \"07 5, 2003\",\n          \"07 28, 2008\"\n        ],\n        \"semantic_type\": \"\",\n        \"description\": \"\"\n      }\n    },\n    {\n      \"column\": \"reviewerID\",\n      \"properties\": {\n        \"dtype\": \"string\",\n        \"num_unique_values\": 35741,\n        \"samples\": [\n          \"A2XAO76A7OU8UW\",\n          \"A1PQTL9OQLEOVK\"\n        ],\n        \"semantic_type\": \"\",\n        \"description\": \"\"\n      }\n    },\n    {\n      \"column\": \"asin\",\n      \"properties\": {\n        \"dtype\": \"category\",\n        \"num_unique_values\": 50,\n        \"samples\": [\n          \"0375850864\",\n          \"1419708457\"\n        ],\n        \"semantic_type\": \"\",\n        \"description\": \"\"\n      }\n    },\n    {\n      \"column\": \"style\",\n      \"properties\": {\n        \"dtype\": \"category\",\n        \"num_unique_values\": 16,\n        \"samples\": [\n          \"{'Format:': ' Hardcover'}\",\n          \"{'Format:': ' Paperback'}\"\n        ],\n        \"semantic_type\": \"\",\n        \"description\": \"\"\n      }\n    },\n    {\n      \"column\": \"reviewerName\",\n      \"properties\": {\n        \"dtype\": \"string\",\n        \"num_unique_values\": 29037,\n        \"samples\": [\n          \"Veronica Havens\",\n          \"tcleveland\"\n        ],\n        \"semantic_type\": \"\",\n        \"description\": \"\"\n      }\n    },\n    {\n      \"column\": \"reviewText\",\n      \"properties\": {\n        \"dtype\": \"string\",\n        \"num_unique_values\": 39736,\n        \"samples\": [\n          \"Love this story!  I think children can relate to all the everyday scenarios.  Great pictures.  I love that the children need to make their own conclusions by interpreting the picture accompanying each situation.  A wonderful book to start discussions on being responsible without being preachy.  Love it!\",\n          \"I first sampled this on my kindle, and my two year old son was mildly interested. I decided, I would love to have this in his library anyhow, and ordered it. I have always liked book form books better anyway. It arrived and we snuggled in that night and he was so involved in all of the characters. I love the way the author uses the construction vehicles parts to convey sleepytime. The crane truck pulls in his boom....and my son loved the teddy bear in the \\\"arms\\\" of the truck. He also loved that one of them slept in a dirt bed. I recommend this highly! I love to give books as gifts, and will be ordering again for this purpose.\"\n        ],\n        \"semantic_type\": \"\",\n        \"description\": \"\"\n      }\n    },\n    {\n      \"column\": \"summary\",\n      \"properties\": {\n        \"dtype\": \"string\",\n        \"num_unique_values\": 24639,\n        \"samples\": [\n          \"Fabulous condition.\",\n          \"entertaining for the little ones\"\n        ],\n        \"semantic_type\": \"\",\n        \"description\": \"\"\n      }\n    },\n    {\n      \"column\": \"unixReviewTime\",\n      \"properties\": {\n        \"dtype\": \"number\",\n        \"std\": 108265988,\n        \"min\": 893116800,\n        \"max\": 1525737600,\n        \"num_unique_values\": 4471,\n        \"samples\": [\n          1057363200,\n          1217203200\n        ],\n        \"semantic_type\": \"\",\n        \"description\": \"\"\n      }\n    },\n    {\n      \"column\": \"vote\",\n      \"properties\": {\n        \"dtype\": \"category\",\n        \"num_unique_values\": 122,\n        \"samples\": [\n          \"8\",\n          \"42\"\n        ],\n        \"semantic_type\": \"\",\n        \"description\": \"\"\n      }\n    },\n    {\n      \"column\": \"image\",\n      \"properties\": {\n        \"dtype\": \"category\",\n        \"num_unique_values\": 120,\n        \"samples\": [\n          \"['https://images-na.ssl-images-amazon.com/images/I/71U4e+DbI2L._SY88.jpg']\",\n          \"['https://images-na.ssl-images-amazon.com/images/I/71LqIrAA03L._SY88.jpg', 'https://images-na.ssl-images-amazon.com/images/I/71mjFnsKobL._SY88.jpg', 'https://images-na.ssl-images-amazon.com/images/I/71B4maY6xsL._SY88.jpg', 'https://images-na.ssl-images-amazon.com/images/I/81NOCFCnUnL._SY88.jpg']\"\n        ],\n        \"semantic_type\": \"\",\n        \"description\": \"\"\n      }\n    }\n  ]\n}"
            }
          },
          "metadata": {},
          "execution_count": 9
        }
      ]
    },
    {
      "cell_type": "markdown",
      "source": [
        "# EDA<br>\n",
        "Exploratory Data Analysis"
      ],
      "metadata": {
        "id": "z4oDc7UOfX8K"
      }
    },
    {
      "cell_type": "code",
      "source": [
        "# Count the occurrences of each unique value in the 'overall' column, which represents review ratings,\n",
        "# and then sort these counts based on the index, which in this case is the review rating value itself.\n",
        "ax = df['overall'].value_counts().sort_index() \\\n",
        "    .plot(kind='bar',  # Plot the counts as a bar chart.\n",
        "          title='Count of Reviews by Stars',  # Set the title of the plot.\n",
        "          figsize=(10, 5))  # Set the size of the plot to 10 inches wide by 5 inches tall.\n",
        "\n",
        "# Set the label for the x-axis of the plot to 'Review Stars'.\n",
        "ax.set_xlabel('Review Stars')\n",
        "\n",
        "# Display the plot.\n",
        "plt.show()"
      ],
      "metadata": {
        "id": "Yn9wneLeaWEa",
        "outputId": "5a648f33-4934-4a8e-9b21-01fe0d0c30ad",
        "colab": {
          "base_uri": "https://localhost:8080/",
          "height": 500
        }
      },
      "execution_count": null,
      "outputs": [
        {
          "output_type": "display_data",
          "data": {
            "text/plain": [
              "<Figure size 1000x500 with 1 Axes>"
            ],
            "image/png": "[encoded data removed]"
          },
          "metadata": {}
        }
      ]
    },
    {
      "cell_type": "code",
      "source": [
        "# Group the DataFrame by 'asin' and count the reviews in each group\n",
        "review_counts = df.groupby('asin')['overall'].count().sort_values(ascending=False)\n",
        "\n",
        "# Plot the counts of reviews for each 'asin'\n",
        "ax = review_counts.plot(kind='bar', title='Count of Reviews by ASIN', figsize=(15, 10))\n",
        "ax.set_xlabel('ASIN')\n",
        "ax.set_ylabel('Review Count')\n",
        "plt.xticks(rotation=45)  # Rotate the x-axis labels to make them readable\n",
        "plt.show()"
      ],
      "metadata": {
        "id": "qbJroF0jaxKE",
        "outputId": "57f1e822-0498-42dd-f479-231d235780f4",
        "colab": {
          "base_uri": "https://localhost:8080/",
          "height": 786
        }
      },
      "execution_count": null,
      "outputs": [
        {
          "output_type": "display_data",
          "data": {
            "text/plain": [
              "<Figure size 1500x1000 with 1 Axes>"
            ],
            "image/png": "[encoded data removed]"
          },
          "metadata": {}
        }
      ]
    },
    {
      "cell_type": "code",
      "source": [
        "# Specify the ASIN interested in\n",
        "target_asin =\"0385376715\"  #book_1\n",
        "# Filter the DataFrame for rows where the 'asin' column matches the target ASIN\n",
        "filtered_df = df[df['asin'] == target_asin]\n",
        "# Now, count the occurrences of each unique value in the 'overall' column of the filtered DataFrame\n",
        "# and then sort these counts based on the index, which in this case is the review rating value itself.\n",
        "ax = filtered_df['overall'].value_counts().sort_index() \\\n",
        "    .plot(kind='bar',  # Plot the counts as a bar chart.\n",
        "          title=f'Count of Reviews by Stars for ASIN {target_asin}',  # Set the title of the plot, including the ASIN.\n",
        "          figsize=(10, 5))  # Set the size of the plot to 10 inches wide by 5 inches tall.\n",
        "\n",
        "# Set the label for the x-axis of the plot to 'Review Stars'.\n",
        "ax.set_xlabel('Review Stars')\n",
        "\n",
        "# Display the plot.\n",
        "plt.show()"
      ],
      "metadata": {
        "id": "JexEBupUdM5P",
        "outputId": "4177ce4d-3eb7-425d-ee74-c7e9e44b91c5",
        "colab": {
          "base_uri": "https://localhost:8080/",
          "height": 500
        }
      },
      "execution_count": null,
      "outputs": [
        {
          "output_type": "display_data",
          "data": {
            "text/plain": [
              "<Figure size 1000x500 with 1 Axes>"
            ],
            "image/png": "[encoded data removed]"
          },
          "metadata": {}
        }
      ]
    },
    {
      "cell_type": "markdown",
      "source": [
        "# NLTK<br>\n",
        "Natural Language Toolkit"
      ],
      "metadata": {
        "id": "JjQoVQ7EfeiZ"
      }
    },
    {
      "cell_type": "code",
      "source": [
        "#print(filtered_df.head())\n",
        "#print(filtered_df.shape)\n",
        "#example = filtered_df .iloc[50]['reviewText']\n",
        "#print(example)\n",
        "#Extract one book to an new df and reset the index to start from 0\n",
        "new_df=filtered_df.copy()\n",
        "new_df = new_df.reset_index(drop=True)\n",
        "# Reset the index and add the old index as a new column called 'ID'\n",
        "# Add a new column to new_df and  start IDs from 1 instead of 0\n",
        "new_df['Id'] = range(1, len(new_df) + 1)\n",
        "print(new_df.head())\n",
        "#print(new_df.shape)\n",
        "example =new_df['reviewText'][50]\n",
        "print(example)"
      ],
      "metadata": {
        "id": "fOA0zZlRgyIS",
        "outputId": "a250397c-e6ca-4a09-e82d-d1602e871849",
        "colab": {
          "base_uri": "https://localhost:8080/"
        }
      },
      "execution_count": null,
      "outputs": [
        {
          "output_type": "stream",
          "name": "stdout",
          "text": [
            "   overall  verified   reviewTime      reviewerID        asin  \\\n",
            "0      5.0     False  08 26, 2015   AJJ7OJY52EADB  0385376715   \n",
            "1      5.0      True  08 25, 2015   AENLX45C3VTY2  0385376715   \n",
            "2      5.0      True  04 30, 2018  A1AB6D301MOTM0  0385376715   \n",
            "3      5.0      True  04 25, 2018    AR2LE8W03PVT  0385376715   \n",
            "4      5.0      True  04 23, 2018  A220Z4FVPDIDZK  0385376715   \n",
            "\n",
            "                       style       reviewerName  \\\n",
            "0  {'Format:': ' Hardcover'}  Laura L. Harrison   \n",
            "1  {'Format:': ' Hardcover'}            M.Brock   \n",
            "2  {'Format:': ' Hardcover'}            Lynn G.   \n",
            "3  {'Format:': ' Hardcover'}           Betty T.   \n",
            "4  {'Format:': ' Hardcover'}      Maria Wishart   \n",
            "\n",
            "                                          reviewText  \\\n",
            "0  I truly love The Wonderful Things You Will Be....   \n",
            "1  I loved this book!!  It is beautifully written...   \n",
            "2  I purchased this book, The wonderful Things Yo...   \n",
            "3                         As wonderful as the title!   \n",
            "4  wonderful book. Great gift for baby showers, n...   \n",
            "\n",
            "                                             summary  unixReviewTime vote  \\\n",
            "0                                  Unique and Joyful      1440547200   58   \n",
            "1  Beautiful book for boys and girls....highly re...      1440460800  562   \n",
            "2               GREAT BABY--  BOOK RETRO SWEET STYLE      1525046400  NaN   \n",
            "3                                         Five Stars      1524614400  NaN   \n",
            "4                                         Five Stars      1524441600  NaN   \n",
            "\n",
            "  image  Id  \n",
            "0   NaN   1  \n",
            "1   NaN   2  \n",
            "2   NaN   3  \n",
            "3   NaN   4  \n",
            "4   NaN   5  \n",
            "This is such a cute book.  I purchased it to be signed by my son's teachers as an alternative to \"Oh The Places You'll Go\".  The illustrations and messages are adorable.\n"
          ]
        }
      ]
    },
    {
      "cell_type": "code",
      "source": [
        "nltk.download('punkt')\n",
        "tokens = nltk.word_tokenize(example)\n",
        "tokens[:10]"
      ],
      "metadata": {
        "id": "hIIPV7yBjBcW",
        "outputId": "a5020496-b68b-4390-ac42-479371284f3a",
        "colab": {
          "base_uri": "https://localhost:8080/"
        }
      },
      "execution_count": null,
      "outputs": [
        {
          "output_type": "stream",
          "name": "stderr",
          "text": [
            "[nltk_data] Downloading package punkt to /root/nltk_data...\n",
            "[nltk_data]   Package punkt is already up-to-date!\n"
          ]
        },
        {
          "output_type": "execute_result",
          "data": {
            "text/plain": [
              "['This', 'is', 'such', 'a', 'cute', 'book', '.', 'I', 'purchased', 'it']"
            ]
          },
          "metadata": {},
          "execution_count": 14
        }
      ]
    },
    {
      "cell_type": "code",
      "source": [
        "nltk.download('averaged_perceptron_tagger')\n",
        "tagged = nltk.pos_tag(tokens)\n",
        "tagged[:10]"
      ],
      "metadata": {
        "id": "Fxc79rHMlYlv",
        "outputId": "193e8732-521a-4aae-db0e-b9560ad23efc",
        "colab": {
          "base_uri": "https://localhost:8080/"
        }
      },
      "execution_count": null,
      "outputs": [
        {
          "output_type": "stream",
          "name": "stderr",
          "text": [
            "[nltk_data] Downloading package averaged_perceptron_tagger to\n",
            "[nltk_data]     /root/nltk_data...\n",
            "[nltk_data]   Package averaged_perceptron_tagger is already up-to-\n",
            "[nltk_data]       date!\n"
          ]
        },
        {
          "output_type": "execute_result",
          "data": {
            "text/plain": [
              "[('This', 'DT'),\n",
              " ('is', 'VBZ'),\n",
              " ('such', 'JJ'),\n",
              " ('a', 'DT'),\n",
              " ('cute', 'JJ'),\n",
              " ('book', 'NN'),\n",
              " ('.', '.'),\n",
              " ('I', 'PRP'),\n",
              " ('purchased', 'VBD'),\n",
              " ('it', 'PRP')]"
            ]
          },
          "metadata": {},
          "execution_count": 15
        }
      ]
    },
    {
      "cell_type": "code",
      "source": [
        "nltk.download('maxent_ne_chunker')\n",
        "nltk.download('words')\n",
        "entities = nltk.chunk.ne_chunk(tagged)\n",
        "entities.pprint()"
      ],
      "metadata": {
        "id": "qYXi1If7ljuY",
        "outputId": "2ecb2a6e-3099-421c-853d-f990dfb65246",
        "colab": {
          "base_uri": "https://localhost:8080/"
        }
      },
      "execution_count": null,
      "outputs": [
        {
          "output_type": "stream",
          "name": "stderr",
          "text": [
            "[nltk_data] Downloading package maxent_ne_chunker to\n",
            "[nltk_data]     /root/nltk_data...\n",
            "[nltk_data]   Package maxent_ne_chunker is already up-to-date!\n",
            "[nltk_data] Downloading package words to /root/nltk_data...\n",
            "[nltk_data]   Package words is already up-to-date!\n"
          ]
        },
        {
          "output_type": "stream",
          "name": "stdout",
          "text": [
            "(S\n",
            "  This/DT\n",
            "  is/VBZ\n",
            "  such/JJ\n",
            "  a/DT\n",
            "  cute/JJ\n",
            "  book/NN\n",
            "  ./.\n",
            "  I/PRP\n",
            "  purchased/VBD\n",
            "  it/PRP\n",
            "  to/TO\n",
            "  be/VB\n",
            "  signed/VBN\n",
            "  by/IN\n",
            "  my/PRP$\n",
            "  son/NN\n",
            "  's/POS\n",
            "  teachers/NNS\n",
            "  as/IN\n",
            "  an/DT\n",
            "  alternative/NN\n",
            "  to/TO\n",
            "  ``/``\n",
            "  Oh/VB\n",
            "  The/DT\n",
            "  Places/NNPS\n",
            "  You/PRP\n",
            "  'll/MD\n",
            "  Go/VB\n",
            "  ''/''\n",
            "  ./.\n",
            "  The/DT\n",
            "  illustrations/NNS\n",
            "  and/CC\n",
            "  messages/NNS\n",
            "  are/VBP\n",
            "  adorable/JJ\n",
            "  ./.)\n"
          ]
        }
      ]
    },
    {
      "cell_type": "markdown",
      "source": [
        "#VADER Seniment Scoring<br>\n",
        "Get neg/neu/pos scores of the text using NLTK's SentimentIntensityAnalyzer"
      ],
      "metadata": {
        "id": "m3cPXxfDl4tP"
      }
    },
    {
      "cell_type": "code",
      "source": [
        "nltk.download('vader_lexicon')\n",
        "from nltk.sentiment import SentimentIntensityAnalyzer\n",
        "from tqdm.notebook import tqdm\n",
        "\n",
        "sia = SentimentIntensityAnalyzer()"
      ],
      "metadata": {
        "id": "EdtOAUoNmtoX",
        "outputId": "d2f6d4a0-fd3b-443e-a179-98299e07d1fe",
        "colab": {
          "base_uri": "https://localhost:8080/"
        }
      },
      "execution_count": null,
      "outputs": [
        {
          "output_type": "stream",
          "name": "stderr",
          "text": [
            "[nltk_data] Downloading package vader_lexicon to /root/nltk_data...\n",
            "[nltk_data]   Package vader_lexicon is already up-to-date!\n"
          ]
        }
      ]
    },
    {
      "cell_type": "code",
      "source": [
        "sia.polarity_scores('I am so happy!')"
      ],
      "metadata": {
        "id": "bajfmdCnm958",
        "outputId": "04e6e4ae-5606-43de-e21b-ba15a309fa76",
        "colab": {
          "base_uri": "https://localhost:8080/"
        }
      },
      "execution_count": null,
      "outputs": [
        {
          "output_type": "execute_result",
          "data": {
            "text/plain": [
              "{'neg': 0.0, 'neu': 0.318, 'pos': 0.682, 'compound': 0.6468}"
            ]
          },
          "metadata": {},
          "execution_count": 18
        }
      ]
    },
    {
      "cell_type": "code",
      "source": [
        "sia.polarity_scores('This is the worst thing ever.')"
      ],
      "metadata": {
        "id": "xjUDCEz2nDnm",
        "outputId": "3b6e710e-4df6-45fb-8780-f9619adcfe49",
        "colab": {
          "base_uri": "https://localhost:8080/"
        }
      },
      "execution_count": null,
      "outputs": [
        {
          "output_type": "execute_result",
          "data": {
            "text/plain": [
              "{'neg': 0.451, 'neu': 0.549, 'pos': 0.0, 'compound': -0.6249}"
            ]
          },
          "metadata": {},
          "execution_count": 19
        }
      ]
    },
    {
      "cell_type": "code",
      "source": [
        "sia.polarity_scores(example)"
      ],
      "metadata": {
        "id": "QDw7Iq1tnFkt",
        "outputId": "a368411e-ae19-4347-b600-70feb6c118ca",
        "colab": {
          "base_uri": "https://localhost:8080/"
        }
      },
      "execution_count": null,
      "outputs": [
        {
          "output_type": "execute_result",
          "data": {
            "text/plain": [
              "{'neg': 0.0, 'neu': 0.813, 'pos': 0.187, 'compound': 0.7351}"
            ]
          },
          "metadata": {},
          "execution_count": 20
        }
      ]
    },
    {
      "cell_type": "code",
      "source": [
        "# Run the polarity score on the entire book_1\n",
        "res = {}\n",
        "for i, row in tqdm(new_df.iterrows(), total=len(new_df)):\n",
        "    text = row['reviewText']\n",
        "    id = row['Id']\n",
        "    res[id] = sia.polarity_scores(text)\n",
        "print(res)"
      ],
      "metadata": {
        "id": "sAWJHL8nnHdP",
        "outputId": "f24f62f6-2d31-4abf-e0cb-9af808e8ae23",
        "colab": {
          "base_uri": "https://localhost:8080/",
          "height": 86,
          "referenced_widgets": [
            "da5a7bf02d514716bd0f3b0291b04c51",
            "317920aa78d34096a5d6009cad90836b",
            "2b7766a28d834cb998920ce96513185c",
            "842fb72e12464ce1b1bd22df6b64750d",
            "5ef2fbc693394fdcb0bdfb4562552d7d",
            "5316403609974a5f957185b542cedd7c",
            "fb6912b18f714d6daa66f4c271d563a3",
            "7c47495812cf44ba9c6bcaf103911f1e",
            "2cdb8ffb89244a0fb1016417c7629a69",
            "3f1a80a7a53443c19f2401783a535c33",
            "1c666f775dd3481ebdbe4fb16622ffa5"
          ]
        }
      },
      "execution_count": null,
      "outputs": [
        {
          "output_type": "display_data",
          "data": {
            "text/plain": [
              "  0%|          | 0/644 [00:00<?, ?it/s]"
            ],
            "application/vnd.jupyter.widget-view+json": {
              "version_major": 2,
              "version_minor": 0,
              "model_id": "da5a7bf02d514716bd0f3b0291b04c51"
            }
          },
          "metadata": {}
        },
        {
          "output_type": "stream",
          "name": "stdout",
          "text": [
            "{1: {'neg': 0.0, 'neu': 0.638, 'pos': 0.362, 'compound': 0.9652}, 2: {'neg': 0.0, 'neu': 0.758, 'pos': 0.242, 'compound': 0.9941}, 3: {'neg': 0.05, 'neu': 0.583, 'pos': 0.367, 'compound': 0.9951}, 4: {'neg': 0.0, 'neu': 0.501, 'pos': 0.499, 'compound': 0.6114}, 5: {'neg': 0.0, 'neu': 0.377, 'pos': 0.623, 'compound': 0.9423}, 6: {'neg': 0.0, 'neu': 0.62, 'pos': 0.38, 'compound': 0.8687}, 7: {'neg': 0.0, 'neu': 0.56, 'pos': 0.44, 'compound': 0.7425}, 8: {'neg': 0.0, 'neu': 0.244, 'pos': 0.756, 'compound': 0.4767}, 9: {'neg': 0.0, 'neu': 0.684, 'pos': 0.316, 'compound': 0.8774}, 10: {'neg': 0.0, 'neu': 0.58, 'pos': 0.42, 'compound': 0.4404}, 11: {'neg': 0.0, 'neu': 0.757, 'pos': 0.243, 'compound': 0.8829}, 12: {'neg': 0.0, 'neu': 0.283, 'pos': 0.717, 'compound': 0.9134}, 13: {'neg': 0.0, 'neu': 0.283, 'pos': 0.717, 'compound': 0.7249}, 14: {'neg': 0.289, 'neu': 0.711, 'pos': 0.0, 'compound': -0.8909}, 15: {'neg': 0.059, 'neu': 0.608, 'pos': 0.333, 'compound': 0.9883}, 16: {'neg': 0.0, 'neu': 0.432, 'pos': 0.568, 'compound': 0.836}, 17: {'neg': 0.0, 'neu': 1.0, 'pos': 0.0, 'compound': 0.0}, 18: {'neg': 0.0, 'neu': 0.519, 'pos': 0.481, 'compound': 0.5719}, 19: {'neg': 0.0, 'neu': 0.0, 'pos': 1.0, 'compound': 0.5859}, 20: {'neg': 0.0, 'neu': 0.57, 'pos': 0.43, 'compound': 0.7783}, 21: {'neg': 0.183, 'neu': 0.659, 'pos': 0.158, 'compound': -0.223}, 22: {'neg': 0.0, 'neu': 0.0, 'pos': 1.0, 'compound': 0.4404}, 23: {'neg': 0.0, 'neu': 1.0, 'pos': 0.0, 'compound': 0.0}, 24: {'neg': 0.0, 'neu': 0.855, 'pos': 0.145, 'compound': 0.765}, 25: {'neg': 0.0, 'neu': 0.805, 'pos': 0.195, 'compound': 0.4404}, 26: {'neg': 0.0, 'neu': 0.0, 'pos': 1.0, 'compound': 0.6249}, 27: {'neg': 0.0, 'neu': 0.2, 'pos': 0.8, 'compound': 0.6114}, 28: {'neg': 0.0, 'neu': 0.296, 'pos': 0.704, 'compound': 0.8591}, 29: {'neg': 0.0, 'neu': 0.465, 'pos': 0.535, 'compound': 0.7845}, 30: {'neg': 0.0, 'neu': 0.553, 'pos': 0.447, 'compound': 0.9445}, 31: {'neg': 0.021, 'neu': 0.711, 'pos': 0.267, 'compound': 0.9538}, 32: {'neg': 0.0, 'neu': 0.266, 'pos': 0.734, 'compound': 0.9299}, 33: {'neg': 0.0, 'neu': 0.732, 'pos': 0.268, 'compound': 0.6588}, 34: {'neg': 0.043, 'neu': 0.784, 'pos': 0.173, 'compound': 0.971}, 35: {'neg': 0.0, 'neu': 0.508, 'pos': 0.492, 'compound': 0.4404}, 36: {'neg': 0.0, 'neu': 0.506, 'pos': 0.494, 'compound': 0.5994}, 37: {'neg': 0.0, 'neu': 0.688, 'pos': 0.312, 'compound': 0.8979}, 38: {'neg': 0.0, 'neu': 0.721, 'pos': 0.279, 'compound': 0.9821}, 39: {'neg': 0.0, 'neu': 0.0, 'pos': 1.0, 'compound': 0.296}, 40: {'neg': 0.0, 'neu': 0.0, 'pos': 1.0, 'compound': 0.6249}, 41: {'neg': 0.0, 'neu': 0.204, 'pos': 0.796, 'compound': 0.5994}, 42: {'neg': 0.0, 'neu': 0.333, 'pos': 0.667, 'compound': 0.7906}, 43: {'neg': 0.0, 'neu': 0.598, 'pos': 0.402, 'compound': 0.8122}, 44: {'neg': 0.0, 'neu': 0.2, 'pos': 0.8, 'compound': 0.6114}, 45: {'neg': 0.0, 'neu': 0.351, 'pos': 0.649, 'compound': 0.5719}, 46: {'neg': 0.0, 'neu': 0.677, 'pos': 0.323, 'compound': 0.9558}, 47: {'neg': 0.0, 'neu': 0.508, 'pos': 0.492, 'compound': 0.4404}, 48: {'neg': 0.0, 'neu': 1.0, 'pos': 0.0, 'compound': 0.0}, 49: {'neg': 0.0, 'neu': 0.507, 'pos': 0.493, 'compound': 0.7783}, 50: {'neg': 0.0, 'neu': 0.728, 'pos': 0.272, 'compound': 0.6688}, 51: {'neg': 0.0, 'neu': 0.813, 'pos': 0.187, 'compound': 0.7351}, 52: {'neg': 0.0, 'neu': 0.544, 'pos': 0.456, 'compound': 0.8979}, 53: {'neg': 0.0, 'neu': 0.469, 'pos': 0.531, 'compound': 0.7783}, 54: {'neg': 0.0, 'neu': 0.514, 'pos': 0.486, 'compound': 0.8176}, 55: {'neg': 0.0, 'neu': 0.543, 'pos': 0.457, 'compound': 0.6369}, 56: {'neg': 0.0, 'neu': 0.25, 'pos': 0.75, 'compound': 0.4588}, 57: {'neg': 0.0, 'neu': 0.484, 'pos': 0.516, 'compound': 0.8625}, 58: {'neg': 0.0, 'neu': 0.635, 'pos': 0.365, 'compound': 0.9829}, 59: {'neg': 0.0, 'neu': 0.0, 'pos': 1.0, 'compound': 0.765}, 60: {'neg': 0.0, 'neu': 0.602, 'pos': 0.398, 'compound': 0.9555}, 61: {'neg': 0.0, 'neu': 0.513, 'pos': 0.487, 'compound': 0.5859}, 62: {'neg': 0.0, 'neu': 1.0, 'pos': 0.0, 'compound': 0.0}, 63: {'neg': 0.0, 'neu': 0.218, 'pos': 0.782, 'compound': 0.5551}, 64: {'neg': 0.0, 'neu': 0.0, 'pos': 1.0, 'compound': 0.4404}, 65: {'neg': 0.0, 'neu': 0.582, 'pos': 0.418, 'compound': 0.9511}, 66: {'neg': 0.0, 'neu': 0.734, 'pos': 0.266, 'compound': 0.9777}, 67: {'neg': 0.0, 'neu': 0.779, 'pos': 0.221, 'compound': 0.3716}, 68: {'neg': 0.0, 'neu': 0.367, 'pos': 0.633, 'compound': 0.7845}, 69: {'neg': 0.0, 'neu': 0.541, 'pos': 0.459, 'compound': 0.7783}, 70: {'neg': 0.0, 'neu': 0.153, 'pos': 0.847, 'compound': 0.9022}, 71: {'neg': 0.0, 'neu': 1.0, 'pos': 0.0, 'compound': 0.0}, 72: {'neg': 0.0, 'neu': 1.0, 'pos': 0.0, 'compound': 0.0}, 73: {'neg': 0.0, 'neu': 0.331, 'pos': 0.669, 'compound': 0.8439}, 74: {'neg': 0.0, 'neu': 0.289, 'pos': 0.711, 'compound': 0.8122}, 75: {'neg': 0.0, 'neu': 0.567, 'pos': 0.433, 'compound': 0.9602}, 76: {'neg': 0.059, 'neu': 0.825, 'pos': 0.116, 'compound': 0.3482}, 77: {'neg': 0.0, 'neu': 0.452, 'pos': 0.548, 'compound': 0.8658}, 78: {'neg': 0.0, 'neu': 0.516, 'pos': 0.484, 'compound': 0.9859}, 79: {'neg': 0.04, 'neu': 0.638, 'pos': 0.322, 'compound': 0.9979}, 80: {'neg': 0.0, 'neu': 0.719, 'pos': 0.281, 'compound': 0.9432}, 81: {'neg': 0.0, 'neu': 0.625, 'pos': 0.375, 'compound': 0.636}, 82: {'neg': 0.0, 'neu': 0.0, 'pos': 1.0, 'compound': 0.4404}, 83: {'neg': 0.0, 'neu': 0.85, 'pos': 0.15, 'compound': 0.4588}, 84: {'neg': 0.0, 'neu': 1.0, 'pos': 0.0, 'compound': 0.0}, 85: {'neg': 0.0, 'neu': 0.339, 'pos': 0.661, 'compound': 0.5994}, 86: {'neg': 0.0, 'neu': 0.376, 'pos': 0.624, 'compound': 0.8513}, 87: {'neg': 0.0, 'neu': 0.86, 'pos': 0.14, 'compound': 0.8005}, 88: {'neg': 0.0, 'neu': 0.192, 'pos': 0.808, 'compound': 0.6369}, 89: {'neg': 0.0, 'neu': 0.605, 'pos': 0.395, 'compound': 0.9402}, 90: {'neg': 0.0, 'neu': 0.842, 'pos': 0.158, 'compound': 0.4939}, 91: {'neg': 0.0, 'neu': 0.686, 'pos': 0.314, 'compound': 0.9354}, 92: {'neg': 0.0, 'neu': 0.678, 'pos': 0.322, 'compound': 0.5859}, 93: {'neg': 0.0, 'neu': 0.474, 'pos': 0.526, 'compound': 0.8306}, 94: {'neg': 0.0, 'neu': 0.638, 'pos': 0.362, 'compound': 0.9652}, 95: {'neg': 0.0, 'neu': 0.337, 'pos': 0.663, 'compound': 0.9564}, 96: {'neg': 0.016, 'neu': 0.722, 'pos': 0.262, 'compound': 0.9996}, 97: {'neg': 0.0, 'neu': 0.614, 'pos': 0.386, 'compound': 0.8313}, 98: {'neg': 0.0, 'neu': 0.47, 'pos': 0.53, 'compound': 0.836}, 99: {'neg': 0.0, 'neu': 0.74, 'pos': 0.26, 'compound': 0.7405}, 100: {'neg': 0.0, 'neu': 0.747, 'pos': 0.253, 'compound': 0.9349}, 101: {'neg': 0.0, 'neu': 0.571, 'pos': 0.429, 'compound': 0.9059}, 102: {'neg': 0.0, 'neu': 0.36, 'pos': 0.64, 'compound': 0.7964}, 103: {'neg': 0.0, 'neu': 0.267, 'pos': 0.733, 'compound': 0.9001}, 104: {'neg': 0.0, 'neu': 0.63, 'pos': 0.37, 'compound': 0.8748}, 105: {'neg': 0.0, 'neu': 0.196, 'pos': 0.804, 'compound': 0.6249}, 106: {'neg': 0.0, 'neu': 0.515, 'pos': 0.485, 'compound': 0.9337}, 107: {'neg': 0.0, 'neu': 0.448, 'pos': 0.552, 'compound': 0.8115}, 108: {'neg': 0.0, 'neu': 0.621, 'pos': 0.379, 'compound': 0.8856}, 109: {'neg': 0.0, 'neu': 0.609, 'pos': 0.391, 'compound': 0.6697}, 110: {'neg': 0.0, 'neu': 0.681, 'pos': 0.319, 'compound': 0.7269}, 111: {'neg': 0.0, 'neu': 0.807, 'pos': 0.193, 'compound': 0.9051}, 112: {'neg': 0.0, 'neu': 0.406, 'pos': 0.594, 'compound': 0.6588}, 113: {'neg': 0.0, 'neu': 0.379, 'pos': 0.621, 'compound': 0.8481}, 114: {'neg': 0.0, 'neu': 0.747, 'pos': 0.253, 'compound': 0.7964}, 115: {'neg': 0.015, 'neu': 0.659, 'pos': 0.326, 'compound': 0.9852}, 116: {'neg': 0.0, 'neu': 0.233, 'pos': 0.767, 'compound': 0.5093}, 117: {'neg': 0.0, 'neu': 0.196, 'pos': 0.804, 'compound': 0.6249}, 118: {'neg': 0.0, 'neu': 0.678, 'pos': 0.322, 'compound': 0.8972}, 119: {'neg': 0.0, 'neu': 0.519, 'pos': 0.481, 'compound': 0.5719}, 120: {'neg': 0.0, 'neu': 0.508, 'pos': 0.492, 'compound': 0.9474}, 121: {'neg': 0.0, 'neu': 0.709, 'pos': 0.291, 'compound': 0.8313}, 122: {'neg': 0.0, 'neu': 0.408, 'pos': 0.592, 'compound': 0.4404}, 123: {'neg': 0.0, 'neu': 0.725, 'pos': 0.275, 'compound': 0.9622}, 124: {'neg': 0.126, 'neu': 0.771, 'pos': 0.103, 'compound': -0.1136}, 125: {'neg': 0.0, 'neu': 0.758, 'pos': 0.242, 'compound': 0.4939}, 126: {'neg': 0.0, 'neu': 0.182, 'pos': 0.818, 'compound': 0.6696}, 127: {'neg': 0.0, 'neu': 0.644, 'pos': 0.356, 'compound': 0.8519}, 128: {'neg': 0.054, 'neu': 0.779, 'pos': 0.167, 'compound': 0.9958}, 129: {'neg': 0.0, 'neu': 0.33, 'pos': 0.67, 'compound': 0.8795}, 130: {'neg': 0.0, 'neu': 0.496, 'pos': 0.504, 'compound': 0.7964}, 131: {'neg': 0.0, 'neu': 0.192, 'pos': 0.808, 'compound': 0.6369}, 132: {'neg': 0.0, 'neu': 0.323, 'pos': 0.677, 'compound': 0.6369}, 133: {'neg': 0.0, 'neu': 0.25, 'pos': 0.75, 'compound': 0.4588}, 134: {'neg': 0.0, 'neu': 0.571, 'pos': 0.429, 'compound': 0.4588}, 135: {'neg': 0.0, 'neu': 0.274, 'pos': 0.726, 'compound': 0.891}, 136: {'neg': 0.0, 'neu': 0.797, 'pos': 0.203, 'compound': 0.9186}, 137: {'neg': 0.0, 'neu': 0.759, 'pos': 0.241, 'compound': 0.7906}, 138: {'neg': 0.0, 'neu': 0.546, 'pos': 0.454, 'compound': 0.9734}, 139: {'neg': 0.0, 'neu': 0.571, 'pos': 0.429, 'compound': 0.9477}, 140: {'neg': 0.0, 'neu': 0.571, 'pos': 0.429, 'compound': 0.4588}, 141: {'neg': 0.018, 'neu': 0.714, 'pos': 0.269, 'compound': 0.9905}, 142: {'neg': 0.0, 'neu': 0.855, 'pos': 0.145, 'compound': 0.3716}, 143: {'neg': 0.0, 'neu': 0.455, 'pos': 0.545, 'compound': 0.855}, 144: {'neg': 0.043, 'neu': 0.606, 'pos': 0.352, 'compound': 0.9734}, 145: {'neg': 0.0, 'neu': 0.667, 'pos': 0.333, 'compound': 0.4588}, 146: {'neg': 0.0, 'neu': 0.653, 'pos': 0.347, 'compound': 0.9516}, 147: {'neg': 0.0, 'neu': 1.0, 'pos': 0.0, 'compound': 0.0}, 148: {'neg': 0.0, 'neu': 0.442, 'pos': 0.558, 'compound': 0.8217}, 149: {'neg': 0.0, 'neu': 0.582, 'pos': 0.418, 'compound': 0.8011}, 150: {'neg': 0.0, 'neu': 0.504, 'pos': 0.496, 'compound': 0.784}, 151: {'neg': 0.0, 'neu': 0.256, 'pos': 0.744, 'compound': 0.4404}, 152: {'neg': 0.0, 'neu': 0.0, 'pos': 1.0, 'compound': 0.6588}, 153: {'neg': 0.0, 'neu': 0.185, 'pos': 0.815, 'compound': 0.6588}, 154: {'neg': 0.0, 'neu': 0.477, 'pos': 0.523, 'compound': 0.5095}, 155: {'neg': 0.0, 'neu': 0.639, 'pos': 0.361, 'compound': 0.9164}, 156: {'neg': 0.0, 'neu': 0.314, 'pos': 0.686, 'compound': 0.762}, 157: {'neg': 0.0, 'neu': 0.421, 'pos': 0.579, 'compound': 0.6705}, 158: {'neg': 0.0, 'neu': 0.565, 'pos': 0.435, 'compound': 0.9803}, 159: {'neg': 0.0, 'neu': 0.517, 'pos': 0.483, 'compound': 0.9041}, 160: {'neg': 0.0, 'neu': 0.648, 'pos': 0.352, 'compound': 0.945}, 161: {'neg': 0.0, 'neu': 0.811, 'pos': 0.189, 'compound': 0.9041}, 162: {'neg': 0.0, 'neu': 0.554, 'pos': 0.446, 'compound': 0.9309}, 163: {'neg': 0.075, 'neu': 0.67, 'pos': 0.255, 'compound': 0.7713}, 164: {'neg': 0.0, 'neu': 0.741, 'pos': 0.259, 'compound': 0.6808}, 165: {'neg': 0.0, 'neu': 0.193, 'pos': 0.807, 'compound': 0.636}, 166: {'neg': 0.0, 'neu': 0.619, 'pos': 0.381, 'compound': 0.8122}, 167: {'neg': 0.105, 'neu': 0.785, 'pos': 0.11, 'compound': 0.0952}, 168: {'neg': 0.0, 'neu': 0.527, 'pos': 0.473, 'compound': 0.6696}, 169: {'neg': 0.0, 'neu': 0.0, 'pos': 1.0, 'compound': 0.6588}, 170: {'neg': 0.0, 'neu': 0.742, 'pos': 0.258, 'compound': 0.765}, 171: {'neg': 0.0, 'neu': 0.798, 'pos': 0.202, 'compound': 0.8718}, 172: {'neg': 0.032, 'neu': 0.853, 'pos': 0.115, 'compound': 0.6808}, 173: {'neg': 0.072, 'neu': 0.79, 'pos': 0.138, 'compound': 0.175}, 174: {'neg': 0.0, 'neu': 0.767, 'pos': 0.233, 'compound': 0.7707}, 175: {'neg': 0.0, 'neu': 0.639, 'pos': 0.361, 'compound': 0.8803}, 176: {'neg': 0.0, 'neu': 0.58, 'pos': 0.42, 'compound': 0.4404}, 177: {'neg': 0.0, 'neu': 0.262, 'pos': 0.738, 'compound': 0.9336}, 178: {'neg': 0.0, 'neu': 0.393, 'pos': 0.607, 'compound': 0.4754}, 179: {'neg': 0.0, 'neu': 0.398, 'pos': 0.602, 'compound': 0.891}, 180: {'neg': 0.065, 'neu': 0.706, 'pos': 0.229, 'compound': 0.5908}, 181: {'neg': 0.0, 'neu': 0.221, 'pos': 0.779, 'compound': 0.9337}, 182: {'neg': 0.0, 'neu': 0.157, 'pos': 0.843, 'compound': 0.8934}, 183: {'neg': 0.0, 'neu': 0.538, 'pos': 0.462, 'compound': 0.9875}, 184: {'neg': 0.0, 'neu': 0.429, 'pos': 0.571, 'compound': 0.8402}, 185: {'neg': 0.038, 'neu': 0.769, 'pos': 0.192, 'compound': 0.8689}, 186: {'neg': 0.0, 'neu': 0.442, 'pos': 0.558, 'compound': 0.8777}, 187: {'neg': 0.0, 'neu': 0.75, 'pos': 0.25, 'compound': 0.7184}, 188: {'neg': 0.0, 'neu': 0.419, 'pos': 0.581, 'compound': 0.9656}, 189: {'neg': 0.0, 'neu': 0.457, 'pos': 0.543, 'compound': 0.8979}, 190: {'neg': 0.0, 'neu': 0.122, 'pos': 0.878, 'compound': 0.8016}, 191: {'neg': 0.0, 'neu': 0.535, 'pos': 0.465, 'compound': 0.9062}, 192: {'neg': 0.0, 'neu': 0.494, 'pos': 0.506, 'compound': 0.6249}, 193: {'neg': 0.06, 'neu': 0.618, 'pos': 0.322, 'compound': 0.9095}, 194: {'neg': 0.146, 'neu': 0.513, 'pos': 0.342, 'compound': 0.5101}, 195: {'neg': 0.0, 'neu': 0.0, 'pos': 1.0, 'compound': 0.765}, 196: {'neg': 0.0, 'neu': 0.508, 'pos': 0.492, 'compound': 0.4404}, 197: {'neg': 0.0, 'neu': 0.818, 'pos': 0.182, 'compound': 0.9467}, 198: {'neg': 0.0, 'neu': 0.619, 'pos': 0.381, 'compound': 0.5719}, 199: {'neg': 0.0, 'neu': 0.629, 'pos': 0.371, 'compound': 0.9441}, 200: {'neg': 0.0, 'neu': 0.769, 'pos': 0.231, 'compound': 0.4588}, 201: {'neg': 0.0, 'neu': 0.208, 'pos': 0.792, 'compound': 0.5859}, 202: {'neg': 0.0, 'neu': 0.264, 'pos': 0.736, 'compound': 0.4199}, 203: {'neg': 0.0, 'neu': 0.778, 'pos': 0.222, 'compound': 0.5719}, 204: {'neg': 0.0, 'neu': 0.328, 'pos': 0.672, 'compound': 0.6249}, 205: {'neg': 0.195, 'neu': 0.632, 'pos': 0.172, 'compound': -0.1007}, 206: {'neg': 0.032, 'neu': 0.663, 'pos': 0.304, 'compound': 0.9432}, 207: {'neg': 0.0, 'neu': 0.641, 'pos': 0.359, 'compound': 0.4215}, 208: {'neg': 0.0, 'neu': 0.244, 'pos': 0.756, 'compound': 0.4753}, 209: {'neg': 0.0, 'neu': 0.443, 'pos': 0.557, 'compound': 0.9807}, 210: {'neg': 0.0, 'neu': 0.511, 'pos': 0.489, 'compound': 0.9097}, 211: {'neg': 0.0, 'neu': 0.588, 'pos': 0.412, 'compound': 0.743}, 212: {'neg': 0.0, 'neu': 0.64, 'pos': 0.36, 'compound': 0.7351}, 213: {'neg': 0.0, 'neu': 0.518, 'pos': 0.482, 'compound': 0.9423}, 214: {'neg': 0.0, 'neu': 0.602, 'pos': 0.398, 'compound': 0.5106}, 215: {'neg': 0.0, 'neu': 0.736, 'pos': 0.264, 'compound': 0.555}, 216: {'neg': 0.0, 'neu': 0.699, 'pos': 0.301, 'compound': 0.8848}, 217: {'neg': 0.0, 'neu': 0.193, 'pos': 0.807, 'compound': 0.636}, 218: {'neg': 0.0, 'neu': 0.604, 'pos': 0.396, 'compound': 0.9894}, 219: {'neg': 0.0, 'neu': 0.462, 'pos': 0.538, 'compound': 0.7906}, 220: {'neg': 0.0, 'neu': 0.132, 'pos': 0.868, 'compound': 0.763}, 221: {'neg': 0.0, 'neu': 0.597, 'pos': 0.403, 'compound': 0.7964}, 222: {'neg': 0.0, 'neu': 0.727, 'pos': 0.273, 'compound': 0.9245}, 223: {'neg': 0.0, 'neu': 0.661, 'pos': 0.339, 'compound': 0.8822}, 224: {'neg': 0.0, 'neu': 0.473, 'pos': 0.527, 'compound': 0.7783}, 225: {'neg': 0.0, 'neu': 1.0, 'pos': 0.0, 'compound': 0.0}, 226: {'neg': 0.0, 'neu': 0.663, 'pos': 0.337, 'compound': 0.893}, 227: {'neg': 0.0, 'neu': 0.646, 'pos': 0.354, 'compound': 0.9782}, 228: {'neg': 0.0, 'neu': 0.566, 'pos': 0.434, 'compound': 0.7483}, 229: {'neg': 0.0, 'neu': 0.299, 'pos': 0.701, 'compound': 0.6892}, 230: {'neg': 0.0, 'neu': 0.25, 'pos': 0.75, 'compound': 0.4588}, 231: {'neg': 0.0, 'neu': 0.576, 'pos': 0.424, 'compound': 0.7096}, 232: {'neg': 0.0, 'neu': 1.0, 'pos': 0.0, 'compound': 0.0}, 233: {'neg': 0.0, 'neu': 0.0, 'pos': 0.0, 'compound': 0.0}, 234: {'neg': 0.0, 'neu': 0.213, 'pos': 0.787, 'compound': 0.8126}, 235: {'neg': 0.0, 'neu': 0.519, 'pos': 0.481, 'compound': 0.5719}, 236: {'neg': 0.0, 'neu': 0.351, 'pos': 0.649, 'compound': 0.5719}, 237: {'neg': 0.0, 'neu': 0.51, 'pos': 0.49, 'compound': 0.8625}, 238: {'neg': 0.137, 'neu': 0.53, 'pos': 0.333, 'compound': 0.743}, 239: {'neg': 0.0, 'neu': 0.679, 'pos': 0.321, 'compound': 0.7964}, 240: {'neg': 0.0, 'neu': 0.263, 'pos': 0.737, 'compound': 0.4215}, 241: {'neg': 0.0, 'neu': 0.548, 'pos': 0.452, 'compound': 0.5106}, 242: {'neg': 0.0, 'neu': 0.192, 'pos': 0.808, 'compound': 0.6369}, 243: {'neg': 0.0, 'neu': 0.0, 'pos': 1.0, 'compound': 0.6369}, 244: {'neg': 0.0, 'neu': 0.608, 'pos': 0.392, 'compound': 0.9265}, 245: {'neg': 0.0, 'neu': 0.25, 'pos': 0.75, 'compound': 0.4588}, 246: {'neg': 0.0, 'neu': 0.566, 'pos': 0.434, 'compound': 0.7482}, 247: {'neg': 0.0, 'neu': 0.686, 'pos': 0.314, 'compound': 0.9834}, 248: {'neg': 0.0, 'neu': 0.0, 'pos': 1.0, 'compound': 0.5719}, 249: {'neg': 0.041, 'neu': 0.778, 'pos': 0.181, 'compound': 0.802}, 250: {'neg': 0.0, 'neu': 0.459, 'pos': 0.541, 'compound': 0.9153}, 251: {'neg': 0.0, 'neu': 0.0, 'pos': 1.0, 'compound': 0.4404}, 252: {'neg': 0.0, 'neu': 0.794, 'pos': 0.206, 'compound': 0.7759}, 253: {'neg': 0.0, 'neu': 0.604, 'pos': 0.396, 'compound': 0.762}, 254: {'neg': 0.143, 'neu': 0.857, 'pos': 0.0, 'compound': -0.5423}, 255: {'neg': 0.0, 'neu': 0.649, 'pos': 0.351, 'compound': 0.8442}, 256: {'neg': 0.0, 'neu': 0.358, 'pos': 0.642, 'compound': 0.5551}, 257: {'neg': 0.0, 'neu': 0.731, 'pos': 0.269, 'compound': 0.9571}, 258: {'neg': 0.123, 'neu': 0.714, 'pos': 0.164, 'compound': 0.2563}, 259: {'neg': 0.0, 'neu': 0.192, 'pos': 0.808, 'compound': 0.6369}, 260: {'neg': 0.0, 'neu': 0.549, 'pos': 0.451, 'compound': 0.5093}, 261: {'neg': 0.104, 'neu': 0.666, 'pos': 0.23, 'compound': 0.7918}, 262: {'neg': 0.0, 'neu': 0.571, 'pos': 0.429, 'compound': 0.4588}, 263: {'neg': 0.0, 'neu': 0.0, 'pos': 1.0, 'compound': 0.6249}, 264: {'neg': 0.0, 'neu': 1.0, 'pos': 0.0, 'compound': 0.0}, 265: {'neg': 0.008, 'neu': 0.778, 'pos': 0.214, 'compound': 0.9831}, 266: {'neg': 0.0, 'neu': 1.0, 'pos': 0.0, 'compound': 0.0}, 267: {'neg': 0.0, 'neu': 0.137, 'pos': 0.863, 'compound': 0.9274}, 268: {'neg': 0.0, 'neu': 0.204, 'pos': 0.796, 'compound': 0.5994}, 269: {'neg': 0.0, 'neu': 0.376, 'pos': 0.624, 'compound': 0.9231}, 270: {'neg': 0.094, 'neu': 0.865, 'pos': 0.041, 'compound': -0.5525}, 271: {'neg': 0.0, 'neu': 0.595, 'pos': 0.405, 'compound': 0.7783}, 272: {'neg': 0.0, 'neu': 0.408, 'pos': 0.592, 'compound': 0.4404}, 273: {'neg': 0.0, 'neu': 0.0, 'pos': 1.0, 'compound': 0.4588}, 274: {'neg': 0.0, 'neu': 0.33, 'pos': 0.67, 'compound': 0.7263}, 275: {'neg': 0.0, 'neu': 0.417, 'pos': 0.583, 'compound': 0.4215}, 276: {'neg': 0.0, 'neu': 0.417, 'pos': 0.583, 'compound': 0.7906}, 277: {'neg': 0.0, 'neu': 0.496, 'pos': 0.504, 'compound': 0.7964}, 278: {'neg': 0.0, 'neu': 0.393, 'pos': 0.607, 'compound': 0.4754}, 279: {'neg': 0.0, 'neu': 0.517, 'pos': 0.483, 'compound': 0.4215}, 280: {'neg': 0.052, 'neu': 0.788, 'pos': 0.16, 'compound': 0.6124}, 281: {'neg': 0.0, 'neu': 0.611, 'pos': 0.389, 'compound': 0.6239}, 282: {'neg': 0.0, 'neu': 0.283, 'pos': 0.717, 'compound': 0.8221}, 283: {'neg': 0.0, 'neu': 0.712, 'pos': 0.288, 'compound': 0.5622}, 284: {'neg': 0.0, 'neu': 0.182, 'pos': 0.818, 'compound': 0.6689}, 285: {'neg': 0.0, 'neu': 0.538, 'pos': 0.462, 'compound': 0.8573}, 286: {'neg': 0.0, 'neu': 0.81, 'pos': 0.19, 'compound': 0.7783}, 287: {'neg': 0.0, 'neu': 0.788, 'pos': 0.212, 'compound': 0.5106}, 288: {'neg': 0.268, 'neu': 0.556, 'pos': 0.176, 'compound': -0.2469}, 289: {'neg': 0.0, 'neu': 0.848, 'pos': 0.152, 'compound': 0.7906}, 290: {'neg': 0.0, 'neu': 0.538, 'pos': 0.462, 'compound': 0.9392}, 291: {'neg': 0.0, 'neu': 0.713, 'pos': 0.287, 'compound': 0.9589}, 292: {'neg': 0.0, 'neu': 0.651, 'pos': 0.349, 'compound': 0.9768}, 293: {'neg': 0.0, 'neu': 0.556, 'pos': 0.444, 'compound': 0.6114}, 294: {'neg': 0.0, 'neu': 0.263, 'pos': 0.737, 'compound': 0.68}, 295: {'neg': 0.0, 'neu': 0.705, 'pos': 0.295, 'compound': 0.7964}, 296: {'neg': 0.0, 'neu': 0.348, 'pos': 0.652, 'compound': 0.8172}, 297: {'neg': 0.0, 'neu': 0.562, 'pos': 0.438, 'compound': 0.5994}, 298: {'neg': 0.0, 'neu': 0.25, 'pos': 0.75, 'compound': 0.4588}, 299: {'neg': 0.0, 'neu': 0.806, 'pos': 0.194, 'compound': 0.8625}, 300: {'neg': 0.0, 'neu': 0.725, 'pos': 0.275, 'compound': 0.5859}, 301: {'neg': 0.301, 'neu': 0.291, 'pos': 0.407, 'compound': 0.2714}, 302: {'neg': 0.0, 'neu': 0.715, 'pos': 0.285, 'compound': 0.9033}, 303: {'neg': 0.143, 'neu': 0.674, 'pos': 0.183, 'compound': 0.358}, 304: {'neg': 0.0, 'neu': 0.588, 'pos': 0.412, 'compound': 0.8442}, 305: {'neg': 0.318, 'neu': 0.417, 'pos': 0.266, 'compound': -0.384}, 306: {'neg': 0.0, 'neu': 0.774, 'pos': 0.226, 'compound': 0.8805}, 307: {'neg': 0.0, 'neu': 0.727, 'pos': 0.273, 'compound': 0.4588}, 308: {'neg': 0.0, 'neu': 0.339, 'pos': 0.661, 'compound': 0.5994}, 309: {'neg': 0.0, 'neu': 0.672, 'pos': 0.328, 'compound': 0.6588}, 310: {'neg': 0.0, 'neu': 1.0, 'pos': 0.0, 'compound': 0.0}, 311: {'neg': 0.0, 'neu': 0.0, 'pos': 1.0, 'compound': 0.6249}, 312: {'neg': 0.0, 'neu': 0.594, 'pos': 0.406, 'compound': 0.6249}, 313: {'neg': 0.0, 'neu': 0.825, 'pos': 0.175, 'compound': 0.7783}, 314: {'neg': 0.036, 'neu': 0.719, 'pos': 0.245, 'compound': 0.9991}, 315: {'neg': 0.029, 'neu': 0.721, 'pos': 0.251, 'compound': 0.9425}, 316: {'neg': 0.0, 'neu': 0.575, 'pos': 0.425, 'compound': 0.5719}, 317: {'neg': 0.0, 'neu': 0.2, 'pos': 0.8, 'compound': 0.6114}, 318: {'neg': 0.0, 'neu': 0.533, 'pos': 0.467, 'compound': 0.7906}, 319: {'neg': 0.0, 'neu': 0.673, 'pos': 0.327, 'compound': 0.8812}, 320: {'neg': 0.0, 'neu': 0.334, 'pos': 0.666, 'compound': 0.6114}, 321: {'neg': 0.0, 'neu': 0.233, 'pos': 0.767, 'compound': 0.5095}, 322: {'neg': 0.0, 'neu': 0.193, 'pos': 0.807, 'compound': 0.636}, 323: {'neg': 0.0, 'neu': 0.488, 'pos': 0.512, 'compound': 0.636}, 324: {'neg': 0.0, 'neu': 0.605, 'pos': 0.395, 'compound': 0.8016}, 325: {'neg': 0.0, 'neu': 0.192, 'pos': 0.808, 'compound': 0.6369}, 326: {'neg': 0.0, 'neu': 0.256, 'pos': 0.744, 'compound': 0.4404}, 327: {'neg': 0.049, 'neu': 0.754, 'pos': 0.197, 'compound': 0.7707}, 328: {'neg': 0.0, 'neu': 0.68, 'pos': 0.32, 'compound': 0.8957}, 329: {'neg': 0.0, 'neu': 0.0, 'pos': 1.0, 'compound': 0.4588}, 330: {'neg': 0.0, 'neu': 0.213, 'pos': 0.787, 'compound': 0.9409}, 331: {'neg': 0.0, 'neu': 0.609, 'pos': 0.391, 'compound': 0.6696}, 332: {'neg': 0.104, 'neu': 0.813, 'pos': 0.083, 'compound': -0.2732}, 333: {'neg': 0.0, 'neu': 0.596, 'pos': 0.404, 'compound': 0.9621}, 334: {'neg': 0.0, 'neu': 0.569, 'pos': 0.431, 'compound': 0.9078}, 335: {'neg': 0.0, 'neu': 0.705, 'pos': 0.295, 'compound': 0.7964}, 336: {'neg': 0.0, 'neu': 0.375, 'pos': 0.625, 'compound': 0.6124}, 337: {'neg': 0.0, 'neu': 0.25, 'pos': 0.75, 'compound': 0.4588}, 338: {'neg': 0.0, 'neu': 0.649, 'pos': 0.351, 'compound': 0.946}, 339: {'neg': 0.133, 'neu': 0.551, 'pos': 0.317, 'compound': 0.614}, 340: {'neg': 0.0, 'neu': 0.644, 'pos': 0.356, 'compound': 0.9485}, 341: {'neg': 0.0, 'neu': 0.537, 'pos': 0.463, 'compound': 0.8586}, 342: {'neg': 0.0, 'neu': 0.213, 'pos': 0.787, 'compound': 0.5719}, 343: {'neg': 0.0, 'neu': 0.725, 'pos': 0.275, 'compound': 0.9637}, 344: {'neg': 0.058, 'neu': 0.854, 'pos': 0.088, 'compound': 0.25}, 345: {'neg': 0.0, 'neu': 0.647, 'pos': 0.353, 'compound': 0.7964}, 346: {'neg': 0.0, 'neu': 0.0, 'pos': 1.0, 'compound': 0.5411}, 347: {'neg': 0.0, 'neu': 0.598, 'pos': 0.402, 'compound': 0.8126}, 348: {'neg': 0.0, 'neu': 0.615, 'pos': 0.385, 'compound': 0.7845}, 349: {'neg': 0.0, 'neu': 0.658, 'pos': 0.342, 'compound': 0.3818}, 350: {'neg': 0.0, 'neu': 0.733, 'pos': 0.267, 'compound': 0.9679}, 351: {'neg': 0.0, 'neu': 0.778, 'pos': 0.222, 'compound': 0.9431}, 352: {'neg': 0.0, 'neu': 0.819, 'pos': 0.181, 'compound': 0.4754}, 353: {'neg': 0.0, 'neu': 0.37, 'pos': 0.63, 'compound': 0.7783}, 354: {'neg': 0.0, 'neu': 0.748, 'pos': 0.252, 'compound': 0.5719}, 355: {'neg': 0.0, 'neu': 0.223, 'pos': 0.777, 'compound': 0.5411}, 356: {'neg': 0.0, 'neu': 0.812, 'pos': 0.188, 'compound': 0.5719}, 357: {'neg': 0.0, 'neu': 0.0, 'pos': 1.0, 'compound': 0.6249}, 358: {'neg': 0.0, 'neu': 0.527, 'pos': 0.473, 'compound': 0.7424}, 359: {'neg': 0.0, 'neu': 0.709, 'pos': 0.291, 'compound': 0.5719}, 360: {'neg': 0.0, 'neu': 0.663, 'pos': 0.337, 'compound': 0.9354}, 361: {'neg': 0.0, 'neu': 0.272, 'pos': 0.728, 'compound': 0.8422}, 362: {'neg': 0.0, 'neu': 0.598, 'pos': 0.402, 'compound': 0.9843}, 363: {'neg': 0.0, 'neu': 0.642, 'pos': 0.358, 'compound': 0.9451}, 364: {'neg': 0.0, 'neu': 0.751, 'pos': 0.249, 'compound': 0.743}, 365: {'neg': 0.0, 'neu': 0.643, 'pos': 0.357, 'compound': 0.5984}, 366: {'neg': 0.0, 'neu': 0.592, 'pos': 0.408, 'compound': 0.9449}, 367: {'neg': 0.0, 'neu': 0.633, 'pos': 0.367, 'compound': 0.4404}, 368: {'neg': 0.065, 'neu': 0.512, 'pos': 0.423, 'compound': 0.8881}, 369: {'neg': 0.0, 'neu': 0.39, 'pos': 0.61, 'compound': 0.6893}, 370: {'neg': 0.0, 'neu': 0.382, 'pos': 0.618, 'compound': 0.8439}, 371: {'neg': 0.0, 'neu': 0.754, 'pos': 0.246, 'compound': 0.8176}, 372: {'neg': 0.0, 'neu': 0.443, 'pos': 0.557, 'compound': 0.8192}, 373: {'neg': 0.0, 'neu': 0.182, 'pos': 0.818, 'compound': 0.6696}, 374: {'neg': 0.0, 'neu': 0.397, 'pos': 0.603, 'compound': 0.8225}, 375: {'neg': 0.0, 'neu': 0.5, 'pos': 0.5, 'compound': 0.4588}, 376: {'neg': 0.051, 'neu': 0.693, 'pos': 0.256, 'compound': 0.836}, 377: {'neg': 0.0, 'neu': 1.0, 'pos': 0.0, 'compound': 0.0}, 378: {'neg': 0.0, 'neu': 0.829, 'pos': 0.171, 'compound': 0.9245}, 379: {'neg': 0.0, 'neu': 0.474, 'pos': 0.526, 'compound': 0.875}, 380: {'neg': 0.0, 'neu': 0.575, 'pos': 0.425, 'compound': 0.5719}, 381: {'neg': 0.0, 'neu': 0.765, 'pos': 0.235, 'compound': 0.9742}, 382: {'neg': 0.0, 'neu': 0.682, 'pos': 0.318, 'compound': 0.9423}, 383: {'neg': 0.0, 'neu': 0.576, 'pos': 0.424, 'compound': 0.8442}, 384: {'neg': 0.0, 'neu': 0.728, 'pos': 0.272, 'compound': 0.8779}, 385: {'neg': 0.0, 'neu': 0.837, 'pos': 0.163, 'compound': 0.7906}, 386: {'neg': 0.0, 'neu': 0.244, 'pos': 0.756, 'compound': 0.8519}, 387: {'neg': 0.0, 'neu': 0.711, 'pos': 0.289, 'compound': 0.7574}, 388: {'neg': 0.0, 'neu': 0.435, 'pos': 0.565, 'compound': 0.5994}, 389: {'neg': 0.0, 'neu': 0.619, 'pos': 0.381, 'compound': 0.5719}, 390: {'neg': 0.0, 'neu': 0.758, 'pos': 0.242, 'compound': 0.6988}, 391: {'neg': 0.078, 'neu': 0.863, 'pos': 0.059, 'compound': -0.2003}, 392: {'neg': 0.0, 'neu': 0.408, 'pos': 0.592, 'compound': 0.4404}, 393: {'neg': 0.0, 'neu': 1.0, 'pos': 0.0, 'compound': 0.0}, 394: {'neg': 0.023, 'neu': 0.796, 'pos': 0.181, 'compound': 0.9937}, 395: {'neg': 0.0, 'neu': 0.719, 'pos': 0.281, 'compound': 0.5994}, 396: {'neg': 0.0, 'neu': 0.801, 'pos': 0.199, 'compound': 0.9041}, 397: {'neg': 0.0, 'neu': 1.0, 'pos': 0.0, 'compound': 0.0}, 398: {'neg': 0.0, 'neu': 0.0, 'pos': 1.0, 'compound': 0.4404}, 399: {'neg': 0.0, 'neu': 0.435, 'pos': 0.565, 'compound': 0.5994}, 400: {'neg': 0.0, 'neu': 0.349, 'pos': 0.651, 'compound': 0.9042}, 401: {'neg': 0.0, 'neu': 0.256, 'pos': 0.744, 'compound': 0.4404}, 402: {'neg': 0.0, 'neu': 0.483, 'pos': 0.517, 'compound': 0.8934}, 403: {'neg': 0.0, 'neu': 0.543, 'pos': 0.457, 'compound': 0.9445}, 404: {'neg': 0.0, 'neu': 0.848, 'pos': 0.152, 'compound': 0.8268}, 405: {'neg': 0.0, 'neu': 0.429, 'pos': 0.571, 'compound': 0.8398}, 406: {'neg': 0.0, 'neu': 0.218, 'pos': 0.782, 'compound': 0.555}, 407: {'neg': 0.0, 'neu': 0.618, 'pos': 0.382, 'compound': 0.4754}, 408: {'neg': 0.0, 'neu': 1.0, 'pos': 0.0, 'compound': 0.0}, 409: {'neg': 0.0, 'neu': 0.417, 'pos': 0.583, 'compound': 0.6369}, 410: {'neg': 0.0, 'neu': 0.641, 'pos': 0.359, 'compound': 0.9493}, 411: {'neg': 0.0, 'neu': 0.653, 'pos': 0.347, 'compound': 0.9712}, 412: {'neg': 0.0, 'neu': 0.469, 'pos': 0.531, 'compound': 0.7783}, 413: {'neg': 0.0, 'neu': 0.0, 'pos': 1.0, 'compound': 0.8016}, 414: {'neg': 0.0, 'neu': 0.615, 'pos': 0.385, 'compound': 0.7845}, 415: {'neg': 0.0, 'neu': 0.612, 'pos': 0.388, 'compound': 0.9081}, 416: {'neg': 0.0, 'neu': 0.755, 'pos': 0.245, 'compound': 0.8429}, 417: {'neg': 0.0, 'neu': 0.571, 'pos': 0.429, 'compound': 0.4588}, 418: {'neg': 0.0, 'neu': 0.784, 'pos': 0.216, 'compound': 0.9508}, 419: {'neg': 0.0, 'neu': 0.849, 'pos': 0.151, 'compound': 0.7506}, 420: {'neg': 0.0, 'neu': 0.438, 'pos': 0.562, 'compound': 0.8268}, 421: {'neg': 0.0, 'neu': 0.664, 'pos': 0.336, 'compound': 0.9531}, 422: {'neg': 0.0, 'neu': 0.669, 'pos': 0.331, 'compound': 0.908}, 423: {'neg': 0.087, 'neu': 0.861, 'pos': 0.052, 'compound': -0.3873}, 424: {'neg': 0.0, 'neu': 1.0, 'pos': 0.0, 'compound': 0.0}, 425: {'neg': 0.0, 'neu': 0.571, 'pos': 0.429, 'compound': 0.7184}, 426: {'neg': 0.047, 'neu': 0.792, 'pos': 0.161, 'compound': 0.9197}, 427: {'neg': 0.0, 'neu': 0.763, 'pos': 0.237, 'compound': 0.7772}, 428: {'neg': 0.0, 'neu': 0.529, 'pos': 0.471, 'compound': 0.8934}, 429: {'neg': 0.0, 'neu': 0.77, 'pos': 0.23, 'compound': 0.9382}, 430: {'neg': 0.0, 'neu': 0.218, 'pos': 0.782, 'compound': 0.8016}, 431: {'neg': 0.0, 'neu': 0.746, 'pos': 0.254, 'compound': 0.9231}, 432: {'neg': 0.0, 'neu': 0.625, 'pos': 0.375, 'compound': 0.636}, 433: {'neg': 0.0, 'neu': 0.772, 'pos': 0.228, 'compound': 0.9711}, 434: {'neg': 0.0, 'neu': 0.613, 'pos': 0.387, 'compound': 0.9412}, 435: {'neg': 0.0, 'neu': 0.721, 'pos': 0.279, 'compound': 0.4754}, 436: {'neg': 0.059, 'neu': 0.43, 'pos': 0.511, 'compound': 0.9503}, 437: {'neg': 0.0, 'neu': 0.613, 'pos': 0.387, 'compound': 0.9077}, 438: {'neg': 0.0, 'neu': 0.343, 'pos': 0.657, 'compound': 0.9097}, 439: {'neg': 0.0, 'neu': 0.741, 'pos': 0.259, 'compound': 0.9118}, 440: {'neg': 0.012, 'neu': 0.771, 'pos': 0.217, 'compound': 0.9929}, 441: {'neg': 0.0, 'neu': 0.208, 'pos': 0.792, 'compound': 0.5859}, 442: {'neg': 0.0, 'neu': 0.85, 'pos': 0.15, 'compound': 0.8308}, 443: {'neg': 0.0, 'neu': 0.503, 'pos': 0.497, 'compound': 0.836}, 444: {'neg': 0.0, 'neu': 0.0, 'pos': 1.0, 'compound': 0.4404}, 445: {'neg': 0.0, 'neu': 0.727, 'pos': 0.273, 'compound': 0.4588}, 446: {'neg': 0.0, 'neu': 0.647, 'pos': 0.353, 'compound': 0.9544}, 447: {'neg': 0.0, 'neu': 0.196, 'pos': 0.804, 'compound': 0.6249}, 448: {'neg': 0.0, 'neu': 0.393, 'pos': 0.607, 'compound': 0.4754}, 449: {'neg': 0.0, 'neu': 0.65, 'pos': 0.35, 'compound': 0.8955}, 450: {'neg': 0.0, 'neu': 0.448, 'pos': 0.552, 'compound': 0.8126}, 451: {'neg': 0.0, 'neu': 0.755, 'pos': 0.245, 'compound': 0.8553}, 452: {'neg': 0.0, 'neu': 0.323, 'pos': 0.677, 'compound': 0.6369}, 453: {'neg': 0.0, 'neu': 0.328, 'pos': 0.672, 'compound': 0.6249}, 454: {'neg': 0.0, 'neu': 0.598, 'pos': 0.402, 'compound': 0.8433}, 455: {'neg': 0.0, 'neu': 0.586, 'pos': 0.414, 'compound': 0.8479}, 456: {'neg': 0.0, 'neu': 0.544, 'pos': 0.456, 'compound': 0.9245}, 457: {'neg': 0.0, 'neu': 0.56, 'pos': 0.44, 'compound': 0.9574}, 458: {'neg': 0.061, 'neu': 0.745, 'pos': 0.194, 'compound': 0.9533}, 459: {'neg': 0.0, 'neu': 0.423, 'pos': 0.577, 'compound': 0.8478}, 460: {'neg': 0.0, 'neu': 0.756, 'pos': 0.244, 'compound': 0.8658}, 461: {'neg': 0.0, 'neu': 0.516, 'pos': 0.484, 'compound': 0.8172}, 462: {'neg': 0.0, 'neu': 1.0, 'pos': 0.0, 'compound': 0.0}, 463: {'neg': 0.054, 'neu': 0.404, 'pos': 0.542, 'compound': 0.9477}, 464: {'neg': 0.0, 'neu': 0.759, 'pos': 0.241, 'compound': 0.9769}, 465: {'neg': 0.0, 'neu': 0.474, 'pos': 0.526, 'compound': 0.9633}, 466: {'neg': 0.0, 'neu': 0.701, 'pos': 0.299, 'compound': 0.9776}, 467: {'neg': 0.0, 'neu': 0.877, 'pos': 0.123, 'compound': 0.6369}, 468: {'neg': 0.0, 'neu': 0.161, 'pos': 0.839, 'compound': 0.6369}, 469: {'neg': 0.0, 'neu': 0.738, 'pos': 0.262, 'compound': 0.75}, 470: {'neg': 0.026, 'neu': 0.83, 'pos': 0.144, 'compound': 0.9153}, 471: {'neg': 0.0, 'neu': 0.656, 'pos': 0.344, 'compound': 0.6369}, 472: {'neg': 0.0, 'neu': 0.385, 'pos': 0.615, 'compound': 0.4927}, 473: {'neg': 0.0, 'neu': 0.339, 'pos': 0.661, 'compound': 0.5994}, 474: {'neg': 0.0, 'neu': 0.625, 'pos': 0.375, 'compound': 0.4588}, 475: {'neg': 0.0, 'neu': 0.63, 'pos': 0.37, 'compound': 0.9752}, 476: {'neg': 0.0, 'neu': 0.196, 'pos': 0.804, 'compound': 0.6249}, 477: {'neg': 0.0, 'neu': 0.0, 'pos': 1.0, 'compound': 0.5859}, 478: {'neg': 0.102, 'neu': 0.676, 'pos': 0.223, 'compound': 0.9538}, 479: {'neg': 0.04, 'neu': 0.824, 'pos': 0.137, 'compound': 0.8897}, 480: {'neg': 0.0, 'neu': 0.683, 'pos': 0.317, 'compound': 0.9413}, 481: {'neg': 0.0, 'neu': 0.759, 'pos': 0.241, 'compound': 0.824}, 482: {'neg': 0.0, 'neu': 0.247, 'pos': 0.753, 'compound': 0.7269}, 483: {'neg': 0.0, 'neu': 0.291, 'pos': 0.709, 'compound': 0.807}, 484: {'neg': 0.115, 'neu': 0.582, 'pos': 0.303, 'compound': 0.6343}, 485: {'neg': 0.0, 'neu': 0.767, 'pos': 0.233, 'compound': 0.765}, 486: {'neg': 0.0, 'neu': 0.25, 'pos': 0.75, 'compound': 0.4588}, 487: {'neg': 0.0, 'neu': 0.561, 'pos': 0.439, 'compound': 0.9335}, 488: {'neg': 0.0, 'neu': 0.195, 'pos': 0.805, 'compound': 0.8507}, 489: {'neg': 0.0, 'neu': 0.593, 'pos': 0.407, 'compound': 0.8625}, 490: {'neg': 0.0, 'neu': 1.0, 'pos': 0.0, 'compound': 0.0}, 491: {'neg': 0.0, 'neu': 0.631, 'pos': 0.369, 'compound': 0.6249}, 492: {'neg': 0.0, 'neu': 0.777, 'pos': 0.223, 'compound': 0.8883}, 493: {'neg': 0.0, 'neu': 0.185, 'pos': 0.815, 'compound': 0.659}, 494: {'neg': 0.0, 'neu': 0.68, 'pos': 0.32, 'compound': 0.5106}, 495: {'neg': 0.0, 'neu': 0.345, 'pos': 0.655, 'compound': 0.2263}, 496: {'neg': 0.077, 'neu': 0.78, 'pos': 0.143, 'compound': 0.6419}, 497: {'neg': 0.0, 'neu': 0.724, 'pos': 0.276, 'compound': 0.6361}, 498: {'neg': 0.0, 'neu': 0.762, 'pos': 0.238, 'compound': 0.8169}, 499: {'neg': 0.0, 'neu': 0.868, 'pos': 0.132, 'compound': 0.9263}, 500: {'neg': 0.0, 'neu': 0.334, 'pos': 0.666, 'compound': 0.6114}, 501: {'neg': 0.037, 'neu': 0.726, 'pos': 0.237, 'compound': 0.9294}, 502: {'neg': 0.0, 'neu': 0.76, 'pos': 0.24, 'compound': 0.9667}, 503: {'neg': 0.0, 'neu': 0.233, 'pos': 0.767, 'compound': 0.5095}, 504: {'neg': 0.0, 'neu': 0.763, 'pos': 0.237, 'compound': 0.6476}, 505: {'neg': 0.0, 'neu': 0.762, 'pos': 0.238, 'compound': 0.9522}, 506: {'neg': 0.0, 'neu': 0.618, 'pos': 0.382, 'compound': 0.9586}, 507: {'neg': 0.0, 'neu': 0.377, 'pos': 0.623, 'compound': 0.765}, 508: {'neg': 0.0, 'neu': 0.694, 'pos': 0.306, 'compound': 0.9806}, 509: {'neg': 0.374, 'neu': 0.52, 'pos': 0.105, 'compound': -0.9071}, 510: {'neg': 0.0, 'neu': 0.576, 'pos': 0.424, 'compound': 0.9153}, 511: {'neg': 0.0, 'neu': 0.566, 'pos': 0.434, 'compound': 0.9273}, 512: {'neg': 0.028, 'neu': 0.646, 'pos': 0.325, 'compound': 0.9946}, 513: {'neg': 0.052, 'neu': 0.703, 'pos': 0.245, 'compound': 0.9581}, 514: {'neg': 0.0, 'neu': 0.762, 'pos': 0.238, 'compound': 0.8011}, 515: {'neg': 0.0, 'neu': 0.638, 'pos': 0.362, 'compound': 0.9423}, 516: {'neg': 0.0, 'neu': 0.25, 'pos': 0.75, 'compound': 0.4588}, 517: {'neg': 0.0, 'neu': 0.625, 'pos': 0.375, 'compound': 0.9371}, 518: {'neg': 0.0, 'neu': 0.477, 'pos': 0.523, 'compound': 0.8716}, 519: {'neg': 0.0, 'neu': 0.378, 'pos': 0.622, 'compound': 0.5095}, 520: {'neg': 0.0, 'neu': 0.513, 'pos': 0.487, 'compound': 0.2263}, 521: {'neg': 0.0, 'neu': 0.738, 'pos': 0.262, 'compound': 0.8316}, 522: {'neg': 0.026, 'neu': 0.589, 'pos': 0.385, 'compound': 0.9842}, 523: {'neg': 0.0, 'neu': 0.606, 'pos': 0.394, 'compound': 0.8316}, 524: {'neg': 0.0, 'neu': 0.788, 'pos': 0.212, 'compound': 0.8225}, 525: {'neg': 0.0, 'neu': 0.71, 'pos': 0.29, 'compound': 0.993}, 526: {'neg': 0.0, 'neu': 0.699, 'pos': 0.301, 'compound': 0.5963}, 527: {'neg': 0.0, 'neu': 0.438, 'pos': 0.562, 'compound': 0.9493}, 528: {'neg': 0.0, 'neu': 0.619, 'pos': 0.381, 'compound': 0.9812}, 529: {'neg': 0.0, 'neu': 0.566, 'pos': 0.434, 'compound': 0.8481}, 530: {'neg': 0.0, 'neu': 0.777, 'pos': 0.223, 'compound': 0.765}, 531: {'neg': 0.0, 'neu': 0.452, 'pos': 0.548, 'compound': 0.8585}, 532: {'neg': 0.0, 'neu': 0.122, 'pos': 0.878, 'compound': 0.8016}, 533: {'neg': 0.0, 'neu': 0.193, 'pos': 0.807, 'compound': 0.636}, 534: {'neg': 0.0, 'neu': 0.734, 'pos': 0.266, 'compound': 0.8687}, 535: {'neg': 0.0, 'neu': 0.58, 'pos': 0.42, 'compound': 0.4404}, 536: {'neg': 0.0, 'neu': 0.684, 'pos': 0.316, 'compound': 0.5719}, 537: {'neg': 0.0, 'neu': 0.455, 'pos': 0.545, 'compound': 0.8625}, 538: {'neg': 0.0, 'neu': 0.196, 'pos': 0.804, 'compound': 0.6249}, 539: {'neg': 0.0, 'neu': 0.333, 'pos': 0.667, 'compound': 0.875}, 540: {'neg': 0.018, 'neu': 0.647, 'pos': 0.335, 'compound': 0.9959}, 541: {'neg': 0.0, 'neu': 0.429, 'pos': 0.571, 'compound': 0.9458}, 542: {'neg': 0.0, 'neu': 0.263, 'pos': 0.737, 'compound': 0.4215}, 543: {'neg': 0.0, 'neu': 0.776, 'pos': 0.224, 'compound': 0.9228}, 544: {'neg': 0.0, 'neu': 0.766, 'pos': 0.234, 'compound': 0.7783}, 545: {'neg': 0.0, 'neu': 0.587, 'pos': 0.413, 'compound': 0.9381}, 546: {'neg': 0.0, 'neu': 0.724, 'pos': 0.276, 'compound': 0.9091}, 547: {'neg': 0.0, 'neu': 0.769, 'pos': 0.231, 'compound': 0.4588}, 548: {'neg': 0.0, 'neu': 0.408, 'pos': 0.592, 'compound': 0.4404}, 549: {'neg': 0.0, 'neu': 0.705, 'pos': 0.295, 'compound': 0.9955}, 550: {'neg': 0.0, 'neu': 0.724, 'pos': 0.276, 'compound': 0.9293}, 551: {'neg': 0.0, 'neu': 0.508, 'pos': 0.492, 'compound': 0.4404}, 552: {'neg': 0.0, 'neu': 0.727, 'pos': 0.273, 'compound': 0.8555}, 553: {'neg': 0.0, 'neu': 0.672, 'pos': 0.328, 'compound': 0.8818}, 554: {'neg': 0.0, 'neu': 0.662, 'pos': 0.338, 'compound': 0.972}, 555: {'neg': 0.0, 'neu': 0.477, 'pos': 0.523, 'compound': 0.5095}, 556: {'neg': 0.0, 'neu': 0.487, 'pos': 0.513, 'compound': 0.9509}, 557: {'neg': 0.0, 'neu': 0.725, 'pos': 0.275, 'compound': 0.9948}, 558: {'neg': 0.454, 'neu': 0.546, 'pos': 0.0, 'compound': -0.631}, 559: {'neg': 0.0, 'neu': 0.67, 'pos': 0.33, 'compound': 0.9455}, 560: {'neg': 0.0, 'neu': 1.0, 'pos': 0.0, 'compound': 0.0}, 561: {'neg': 0.0, 'neu': 0.213, 'pos': 0.787, 'compound': 0.5719}, 562: {'neg': 0.019, 'neu': 0.7, 'pos': 0.282, 'compound': 0.9897}, 563: {'neg': 0.039, 'neu': 0.562, 'pos': 0.399, 'compound': 0.9151}, 564: {'neg': 0.0, 'neu': 0.393, 'pos': 0.607, 'compound': 0.8957}, 565: {'neg': 0.0, 'neu': 0.299, 'pos': 0.701, 'compound': 0.9336}, 566: {'neg': 0.0, 'neu': 0.336, 'pos': 0.664, 'compound': 0.9571}, 567: {'neg': 0.0, 'neu': 0.294, 'pos': 0.706, 'compound': 0.8999}, 568: {'neg': 0.0, 'neu': 0.749, 'pos': 0.251, 'compound': 0.6893}, 569: {'neg': 0.0, 'neu': 0.631, 'pos': 0.369, 'compound': 0.9652}, 570: {'neg': 0.0, 'neu': 0.534, 'pos': 0.466, 'compound': 0.9403}, 571: {'neg': 0.0, 'neu': 0.603, 'pos': 0.397, 'compound': 0.7845}, 572: {'neg': 0.0, 'neu': 0.233, 'pos': 0.767, 'compound': 0.872}, 573: {'neg': 0.0, 'neu': 0.602, 'pos': 0.398, 'compound': 0.9508}, 574: {'neg': 0.019, 'neu': 0.684, 'pos': 0.296, 'compound': 0.9834}, 575: {'neg': 0.0, 'neu': 0.359, 'pos': 0.641, 'compound': 0.9522}, 576: {'neg': 0.0, 'neu': 0.283, 'pos': 0.717, 'compound': 0.8225}, 577: {'neg': 0.0, 'neu': 0.362, 'pos': 0.638, 'compound': 0.9656}, 578: {'neg': 0.0, 'neu': 0.204, 'pos': 0.796, 'compound': 0.5994}, 579: {'neg': 0.095, 'neu': 0.692, 'pos': 0.213, 'compound': 0.35}, 580: {'neg': 0.0, 'neu': 0.336, 'pos': 0.664, 'compound': 0.836}, 581: {'neg': 0.02, 'neu': 0.63, 'pos': 0.351, 'compound': 0.9783}, 582: {'neg': 0.027, 'neu': 0.77, 'pos': 0.203, 'compound': 0.937}, 583: {'neg': 0.238, 'neu': 0.762, 'pos': 0.0, 'compound': -0.4228}, 584: {'neg': 0.0, 'neu': 0.733, 'pos': 0.267, 'compound': 0.9062}, 585: {'neg': 0.0, 'neu': 0.695, 'pos': 0.305, 'compound': 0.9773}, 586: {'neg': 0.0, 'neu': 0.73, 'pos': 0.27, 'compound': 0.9844}, 587: {'neg': 0.017, 'neu': 0.765, 'pos': 0.218, 'compound': 0.9801}, 588: {'neg': 0.0, 'neu': 0.894, 'pos': 0.106, 'compound': 0.2263}, 589: {'neg': 0.069, 'neu': 0.645, 'pos': 0.286, 'compound': 0.8297}, 590: {'neg': 0.0, 'neu': 0.38, 'pos': 0.62, 'compound': 0.8469}, 591: {'neg': 0.0, 'neu': 0.4, 'pos': 0.6, 'compound': 0.7178}, 592: {'neg': 0.0, 'neu': 0.748, 'pos': 0.252, 'compound': 0.658}, 593: {'neg': 0.0, 'neu': 0.408, 'pos': 0.592, 'compound': 0.4404}, 594: {'neg': 0.0, 'neu': 0.308, 'pos': 0.692, 'compound': 0.6696}, 595: {'neg': 0.0, 'neu': 0.632, 'pos': 0.368, 'compound': 0.9324}, 596: {'neg': 0.07, 'neu': 0.587, 'pos': 0.343, 'compound': 0.9196}, 597: {'neg': 0.306, 'neu': 0.694, 'pos': 0.0, 'compound': -0.296}, 598: {'neg': 0.0, 'neu': 0.193, 'pos': 0.807, 'compound': 0.636}, 599: {'neg': 0.0, 'neu': 0.378, 'pos': 0.622, 'compound': 0.5095}, 600: {'neg': 0.0, 'neu': 0.204, 'pos': 0.796, 'compound': 0.5994}, 601: {'neg': 0.0, 'neu': 0.498, 'pos': 0.502, 'compound': 0.7939}, 602: {'neg': 0.011, 'neu': 0.751, 'pos': 0.238, 'compound': 0.9955}, 603: {'neg': 0.0, 'neu': 0.708, 'pos': 0.292, 'compound': 0.9744}, 604: {'neg': 0.0, 'neu': 0.542, 'pos': 0.458, 'compound': 0.937}, 605: {'neg': 0.0, 'neu': 0.78, 'pos': 0.22, 'compound': 0.9957}, 606: {'neg': 0.0, 'neu': 0.39, 'pos': 0.61, 'compound': 0.8555}, 607: {'neg': 0.0, 'neu': 0.814, 'pos': 0.186, 'compound': 0.4926}, 608: {'neg': 0.0, 'neu': 0.552, 'pos': 0.448, 'compound': 0.8851}, 609: {'neg': 0.0, 'neu': 0.496, 'pos': 0.504, 'compound': 0.7964}, 610: {'neg': 0.0, 'neu': 0.773, 'pos': 0.227, 'compound': 0.9595}, 611: {'neg': 0.045, 'neu': 0.705, 'pos': 0.25, 'compound': 0.8915}, 612: {'neg': 0.032, 'neu': 0.884, 'pos': 0.084, 'compound': 0.5423}, 613: {'neg': 0.0, 'neu': 0.308, 'pos': 0.692, 'compound': 0.926}, 614: {'neg': 0.0, 'neu': 0.541, 'pos': 0.459, 'compound': 0.7783}, 615: {'neg': 0.0, 'neu': 0.491, 'pos': 0.509, 'compound': 0.9385}, 616: {'neg': 0.0, 'neu': 0.427, 'pos': 0.573, 'compound': 0.7717}, 617: {'neg': 0.0, 'neu': 0.814, 'pos': 0.186, 'compound': 0.4767}, 618: {'neg': 0.0, 'neu': 1.0, 'pos': 0.0, 'compound': 0.0}, 619: {'neg': 0.0, 'neu': 0.724, 'pos': 0.276, 'compound': 0.7269}, 620: {'neg': 0.027, 'neu': 0.727, 'pos': 0.247, 'compound': 0.9424}, 621: {'neg': 0.0, 'neu': 0.7, 'pos': 0.3, 'compound': 0.4588}, 622: {'neg': 0.0, 'neu': 0.573, 'pos': 0.427, 'compound': 0.7717}, 623: {'neg': 0.0, 'neu': 0.669, 'pos': 0.331, 'compound': 0.886}, 624: {'neg': 0.017, 'neu': 0.829, 'pos': 0.154, 'compound': 0.936}, 625: {'neg': 0.0, 'neu': 0.346, 'pos': 0.654, 'compound': 0.5838}, 626: {'neg': 0.036, 'neu': 0.737, 'pos': 0.227, 'compound': 0.936}, 627: {'neg': 0.0, 'neu': 0.744, 'pos': 0.256, 'compound': 0.668}, 628: {'neg': 0.0, 'neu': 0.53, 'pos': 0.47, 'compound': 0.7964}, 629: {'neg': 0.0, 'neu': 0.72, 'pos': 0.28, 'compound': 0.9349}, 630: {'neg': 0.02, 'neu': 0.6, 'pos': 0.38, 'compound': 0.991}, 631: {'neg': 0.0, 'neu': 1.0, 'pos': 0.0, 'compound': 0.0}, 632: {'neg': 0.0, 'neu': 0.441, 'pos': 0.559, 'compound': 0.9081}, 633: {'neg': 0.0, 'neu': 0.685, 'pos': 0.315, 'compound': 0.8779}, 634: {'neg': 0.103, 'neu': 0.65, 'pos': 0.247, 'compound': 0.9175}, 635: {'neg': 0.0, 'neu': 0.286, 'pos': 0.714, 'compound': 0.3612}, 636: {'neg': 0.0, 'neu': 0.388, 'pos': 0.612, 'compound': 0.836}, 637: {'neg': 0.0, 'neu': 0.816, 'pos': 0.184, 'compound': 0.8398}, 638: {'neg': 0.0, 'neu': 0.611, 'pos': 0.389, 'compound': 0.9623}, 639: {'neg': 0.0, 'neu': 0.629, 'pos': 0.371, 'compound': 0.7096}, 640: {'neg': 0.0, 'neu': 0.308, 'pos': 0.692, 'compound': 0.6696}, 641: {'neg': 0.021, 'neu': 0.683, 'pos': 0.295, 'compound': 0.9947}, 642: {'neg': 0.0, 'neu': 0.667, 'pos': 0.333, 'compound': 0.4588}, 643: {'neg': 0.0, 'neu': 0.629, 'pos': 0.371, 'compound': 0.9631}, 644: {'neg': 0.092, 'neu': 0.683, 'pos': 0.225, 'compound': 0.6652}}\n"
          ]
        }
      ]
    },
    {
      "cell_type": "code",
      "source": [
        "vaders = pd.DataFrame(res).T\n",
        "vaders = vaders.reset_index().rename(columns={'index': 'Id'})\n",
        "vaders = vaders.merge(new_df, how='left')"
      ],
      "metadata": {
        "id": "gv8oJKeAoL9A"
      },
      "execution_count": null,
      "outputs": []
    },
    {
      "cell_type": "code",
      "source": [
        "# Now we have sentiment score and metadata\n",
        "vaders.head()"
      ],
      "metadata": {
        "id": "Z10OxETryJs9",
        "outputId": "c9fdb28b-4bdb-4a12-86a6-7e58060c473f",
        "colab": {
          "base_uri": "https://localhost:8080/",
          "height": 556
        }
      },
      "execution_count": null,
      "outputs": [
        {
          "output_type": "execute_result",
          "data": {
            "text/plain": [
              "   Id   neg    neu    pos  compound  overall  verified   reviewTime  \\\n",
              "0   1  0.00  0.638  0.362    0.9652      5.0     False  08 26, 2015   \n",
              "1   2  0.00  0.758  0.242    0.9941      5.0      True  08 25, 2015   \n",
              "2   3  0.05  0.583  0.367    0.9951      5.0      True  04 30, 2018   \n",
              "3   4  0.00  0.501  0.499    0.6114      5.0      True  04 25, 2018   \n",
              "4   5  0.00  0.377  0.623    0.9423      5.0      True  04 23, 2018   \n",
              "\n",
              "       reviewerID        asin                      style       reviewerName  \\\n",
              "0   AJJ7OJY52EADB  0385376715  {'Format:': ' Hardcover'}  Laura L. Harrison   \n",
              "1   AENLX45C3VTY2  0385376715  {'Format:': ' Hardcover'}            M.Brock   \n",
              "2  A1AB6D301MOTM0  0385376715  {'Format:': ' Hardcover'}            Lynn G.   \n",
              "3    AR2LE8W03PVT  0385376715  {'Format:': ' Hardcover'}           Betty T.   \n",
              "4  A220Z4FVPDIDZK  0385376715  {'Format:': ' Hardcover'}      Maria Wishart   \n",
              "\n",
              "                                          reviewText  \\\n",
              "0  I truly love The Wonderful Things You Will Be....   \n",
              "1  I loved this book!!  It is beautifully written...   \n",
              "2  I purchased this book, The wonderful Things Yo...   \n",
              "3                         As wonderful as the title!   \n",
              "4  wonderful book. Great gift for baby showers, n...   \n",
              "\n",
              "                                             summary  unixReviewTime vote  \\\n",
              "0                                  Unique and Joyful      1440547200   58   \n",
              "1  Beautiful book for boys and girls....highly re...      1440460800  562   \n",
              "2               GREAT BABY--  BOOK RETRO SWEET STYLE      1525046400  NaN   \n",
              "3                                         Five Stars      1524614400  NaN   \n",
              "4                                         Five Stars      1524441600  NaN   \n",
              "\n",
              "  image  \n",
              "0   NaN  \n",
              "1   NaN  \n",
              "2   NaN  \n",
              "3   NaN  \n",
              "4   NaN  "
            ],
            "text/html": [
              "\n",
              "  <div id=\"df-cac011a0-5cf9-4430-adf1-958f68894444\" class=\"colab-df-container\">\n",
              "    <div>\n",
              "<style scoped>\n",
              "    .dataframe tbody tr th:only-of-type {\n",
              "        vertical-align: middle;\n",
              "    }\n",
              "\n",
              "    .dataframe tbody tr th {\n",
              "        vertical-align: top;\n",
              "    }\n",
              "\n",
              "    .dataframe thead th {\n",
              "        text-align: right;\n",
              "    }\n",
              "</style>\n",
              "<table border=\"1\" class=\"dataframe\">\n",
              "  <thead>\n",
              "    <tr style=\"text-align: right;\">\n",
              "      <th></th>\n",
              "      <th>Id</th>\n",
              "      <th>neg</th>\n",
              "      <th>neu</th>\n",
              "      <th>pos</th>\n",
              "      <th>compound</th>\n",
              "      <th>overall</th>\n",
              "      <th>verified</th>\n",
              "      <th>reviewTime</th>\n",
              "      <th>reviewerID</th>\n",
              "      <th>asin</th>\n",
              "      <th>style</th>\n",
              "      <th>reviewerName</th>\n",
              "      <th>reviewText</th>\n",
              "      <th>summary</th>\n",
              "      <th>unixReviewTime</th>\n",
              "      <th>vote</th>\n",
              "      <th>image</th>\n",
              "    </tr>\n",
              "  </thead>\n",
              "  <tbody>\n",
              "    <tr>\n",
              "      <th>0</th>\n",
              "      <td>1</td>\n",
              "      <td>0.00</td>\n",
              "      <td>0.638</td>\n",
              "      <td>0.362</td>\n",
              "      <td>0.9652</td>\n",
              "      <td>5.0</td>\n",
              "      <td>False</td>\n",
              "      <td>08 26, 2015</td>\n",
              "      <td>AJJ7OJY52EADB</td>\n",
              "      <td>0385376715</td>\n",
              "      <td>{'Format:': ' Hardcover'}</td>\n",
              "      <td>Laura L. Harrison</td>\n",
              "      <td>I truly love The Wonderful Things You Will Be....</td>\n",
              "      <td>Unique and Joyful</td>\n",
              "      <td>1440547200</td>\n",
              "      <td>58</td>\n",
              "      <td>NaN</td>\n",
              "    </tr>\n",
              "    <tr>\n",
              "      <th>1</th>\n",
              "      <td>2</td>\n",
              "      <td>0.00</td>\n",
              "      <td>0.758</td>\n",
              "      <td>0.242</td>\n",
              "      <td>0.9941</td>\n",
              "      <td>5.0</td>\n",
              "      <td>True</td>\n",
              "      <td>08 25, 2015</td>\n",
              "      <td>AENLX45C3VTY2</td>\n",
              "      <td>0385376715</td>\n",
              "      <td>{'Format:': ' Hardcover'}</td>\n",
              "      <td>M.Brock</td>\n",
              "      <td>I loved this book!!  It is beautifully written...</td>\n",
              "      <td>Beautiful book for boys and girls....highly re...</td>\n",
              "      <td>1440460800</td>\n",
              "      <td>562</td>\n",
              "      <td>NaN</td>\n",
              "    </tr>\n",
              "    <tr>\n",
              "      <th>2</th>\n",
              "      <td>3</td>\n",
              "      <td>0.05</td>\n",
              "      <td>0.583</td>\n",
              "      <td>0.367</td>\n",
              "      <td>0.9951</td>\n",
              "      <td>5.0</td>\n",
              "      <td>True</td>\n",
              "      <td>04 30, 2018</td>\n",
              "      <td>A1AB6D301MOTM0</td>\n",
              "      <td>0385376715</td>\n",
              "      <td>{'Format:': ' Hardcover'}</td>\n",
              "      <td>Lynn G.</td>\n",
              "      <td>I purchased this book, The wonderful Things Yo...</td>\n",
              "      <td>GREAT BABY--  BOOK RETRO SWEET STYLE</td>\n",
              "      <td>1525046400</td>\n",
              "      <td>NaN</td>\n",
              "      <td>NaN</td>\n",
              "    </tr>\n",
              "    <tr>\n",
              "      <th>3</th>\n",
              "      <td>4</td>\n",
              "      <td>0.00</td>\n",
              "      <td>0.501</td>\n",
              "      <td>0.499</td>\n",
              "      <td>0.6114</td>\n",
              "      <td>5.0</td>\n",
              "      <td>True</td>\n",
              "      <td>04 25, 2018</td>\n",
              "      <td>AR2LE8W03PVT</td>\n",
              "      <td>0385376715</td>\n",
              "      <td>{'Format:': ' Hardcover'}</td>\n",
              "      <td>Betty T.</td>\n",
              "      <td>As wonderful as the title!</td>\n",
              "      <td>Five Stars</td>\n",
              "      <td>1524614400</td>\n",
              "      <td>NaN</td>\n",
              "      <td>NaN</td>\n",
              "    </tr>\n",
              "    <tr>\n",
              "      <th>4</th>\n",
              "      <td>5</td>\n",
              "      <td>0.00</td>\n",
              "      <td>0.377</td>\n",
              "      <td>0.623</td>\n",
              "      <td>0.9423</td>\n",
              "      <td>5.0</td>\n",
              "      <td>True</td>\n",
              "      <td>04 23, 2018</td>\n",
              "      <td>A220Z4FVPDIDZK</td>\n",
              "      <td>0385376715</td>\n",
              "      <td>{'Format:': ' Hardcover'}</td>\n",
              "      <td>Maria Wishart</td>\n",
              "      <td>wonderful book. Great gift for baby showers, n...</td>\n",
              "      <td>Five Stars</td>\n",
              "      <td>1524441600</td>\n",
              "      <td>NaN</td>\n",
              "      <td>NaN</td>\n",
              "    </tr>\n",
              "  </tbody>\n",
              "</table>\n",
              "</div>\n",
              "    <div class=\"colab-df-buttons\">\n",
              "\n",
              "  <div class=\"colab-df-container\">\n",
              "    <button class=\"colab-df-convert\" onclick=\"convertToInteractive('df-cac011a0-5cf9-4430-adf1-958f68894444')\"\n",
              "            title=\"Convert this dataframe to an interactive table.\"\n",
              "            style=\"display:none;\">\n",
              "\n",
              "  <svg xmlns=\"http://www.w3.org/2000/svg\" height=\"24px\" viewBox=\"0 -960 960 960\">\n",
              "    <path d=\"M120-120v-720h720v720H120Zm60-500h600v-160H180v160Zm220 220h160v-160H400v160Zm0 220h160v-160H400v160ZM180-400h160v-160H180v160Zm440 0h160v-160H620v160ZM180-180h160v-160H180v160Zm440 0h160v-160H620v160Z\"/>\n",
              "  </svg>\n",
              "    </button>\n",
              "\n",
              "  <style>\n",
              "    .colab-df-container {\n",
              "      display:flex;\n",
              "      gap: 12px;\n",
              "    }\n",
              "\n",
              "    .colab-df-convert {\n",
              "      background-color: #E8F0FE;\n",
              "      border: none;\n",
              "      border-radius: 50%;\n",
              "      cursor: pointer;\n",
              "      display: none;\n",
              "      fill: #1967D2;\n",
              "      height: 32px;\n",
              "      padding: 0 0 0 0;\n",
              "      width: 32px;\n",
              "    }\n",
              "\n",
              "    .colab-df-convert:hover {\n",
              "      background-color: #E2EBFA;\n",
              "      box-shadow: 0px 1px 2px rgba(60, 64, 67, 0.3), 0px 1px 3px 1px rgba(60, 64, 67, 0.15);\n",
              "      fill: #174EA6;\n",
              "    }\n",
              "\n",
              "    .colab-df-buttons div {\n",
              "      margin-bottom: 4px;\n",
              "    }\n",
              "\n",
              "    [theme=dark] .colab-df-convert {\n",
              "      background-color: #3B4455;\n",
              "      fill: #D2E3FC;\n",
              "    }\n",
              "\n",
              "    [theme=dark] .colab-df-convert:hover {\n",
              "      background-color: #434B5C;\n",
              "      box-shadow: 0px 1px 3px 1px rgba(0, 0, 0, 0.15);\n",
              "      filter: drop-shadow(0px 1px 2px rgba(0, 0, 0, 0.3));\n",
              "      fill: #FFFFFF;\n",
              "    }\n",
              "  </style>\n",
              "\n",
              "    <script>\n",
              "      const buttonEl =\n",
              "        document.querySelector('#df-cac011a0-5cf9-4430-adf1-958f68894444 button.colab-df-convert');\n",
              "      buttonEl.style.display =\n",
              "        google.colab.kernel.accessAllowed ? 'block' : 'none';\n",
              "\n",
              "      async function convertToInteractive(key) {\n",
              "        const element = document.querySelector('#df-cac011a0-5cf9-4430-adf1-958f68894444');\n",
              "        const dataTable =\n",
              "          await google.colab.kernel.invokeFunction('convertToInteractive',\n",
              "                                                    [key], {});\n",
              "        if (!dataTable) return;\n",
              "\n",
              "        const docLinkHtml = 'Like what you see? Visit the ' +\n",
              "          '<a target=\"_blank\" href=https://colab.research.google.com/notebooks/data_table.ipynb>data table notebook</a>'\n",
              "          + ' to learn more about interactive tables.';\n",
              "        element.innerHTML = '';\n",
              "        dataTable['output_type'] = 'display_data';\n",
              "        await google.colab.output.renderOutput(dataTable, element);\n",
              "        const docLink = document.createElement('div');\n",
              "        docLink.innerHTML = docLinkHtml;\n",
              "        element.appendChild(docLink);\n",
              "      }\n",
              "    </script>\n",
              "  </div>\n",
              "\n",
              "\n",
              "<div id=\"df-a5d979e4-3cfc-436e-a5fc-e23d1c407b99\">\n",
              "  <button class=\"colab-df-quickchart\" onclick=\"quickchart('df-a5d979e4-3cfc-436e-a5fc-e23d1c407b99')\"\n",
              "            title=\"Suggest charts\"\n",
              "            style=\"display:none;\">\n",
              "\n",
              "<svg xmlns=\"http://www.w3.org/2000/svg\" height=\"24px\"viewBox=\"0 0 24 24\"\n",
              "     width=\"24px\">\n",
              "    <g>\n",
              "        <path d=\"M19 3H5c-1.1 0-2 .9-2 2v14c0 1.1.9 2 2 2h14c1.1 0 2-.9 2-2V5c0-1.1-.9-2-2-2zM9 17H7v-7h2v7zm4 0h-2V7h2v10zm4 0h-2v-4h2v4z\"/>\n",
              "    </g>\n",
              "</svg>\n",
              "  </button>\n",
              "\n",
              "<style>\n",
              "  .colab-df-quickchart {\n",
              "      --bg-color: #E8F0FE;\n",
              "      --fill-color: #1967D2;\n",
              "      --hover-bg-color: #E2EBFA;\n",
              "      --hover-fill-color: #174EA6;\n",
              "      --disabled-fill-color: #AAA;\n",
              "      --disabled-bg-color: #DDD;\n",
              "  }\n",
              "\n",
              "  [theme=dark] .colab-df-quickchart {\n",
              "      --bg-color: #3B4455;\n",
              "      --fill-color: #D2E3FC;\n",
              "      --hover-bg-color: #434B5C;\n",
              "      --hover-fill-color: #FFFFFF;\n",
              "      --disabled-bg-color: #3B4455;\n",
              "      --disabled-fill-color: #666;\n",
              "  }\n",
              "\n",
              "  .colab-df-quickchart {\n",
              "    background-color: var(--bg-color);\n",
              "    border: none;\n",
              "    border-radius: 50%;\n",
              "    cursor: pointer;\n",
              "    display: none;\n",
              "    fill: var(--fill-color);\n",
              "    height: 32px;\n",
              "    padding: 0;\n",
              "    width: 32px;\n",
              "  }\n",
              "\n",
              "  .colab-df-quickchart:hover {\n",
              "    background-color: var(--hover-bg-color);\n",
              "    box-shadow: 0 1px 2px rgba(60, 64, 67, 0.3), 0 1px 3px 1px rgba(60, 64, 67, 0.15);\n",
              "    fill: var(--button-hover-fill-color);\n",
              "  }\n",
              "\n",
              "  .colab-df-quickchart-complete:disabled,\n",
              "  .colab-df-quickchart-complete:disabled:hover {\n",
              "    background-color: var(--disabled-bg-color);\n",
              "    fill: var(--disabled-fill-color);\n",
              "    box-shadow: none;\n",
              "  }\n",
              "\n",
              "  .colab-df-spinner {\n",
              "    border: 2px solid var(--fill-color);\n",
              "    border-color: transparent;\n",
              "    border-bottom-color: var(--fill-color);\n",
              "    animation:\n",
              "      spin 1s steps(1) infinite;\n",
              "  }\n",
              "\n",
              "  @keyframes spin {\n",
              "    0% {\n",
              "      border-color: transparent;\n",
              "      border-bottom-color: var(--fill-color);\n",
              "      border-left-color: var(--fill-color);\n",
              "    }\n",
              "    20% {\n",
              "      border-color: transparent;\n",
              "      border-left-color: var(--fill-color);\n",
              "      border-top-color: var(--fill-color);\n",
              "    }\n",
              "    30% {\n",
              "      border-color: transparent;\n",
              "      border-left-color: var(--fill-color);\n",
              "      border-top-color: var(--fill-color);\n",
              "      border-right-color: var(--fill-color);\n",
              "    }\n",
              "    40% {\n",
              "      border-color: transparent;\n",
              "      border-right-color: var(--fill-color);\n",
              "      border-top-color: var(--fill-color);\n",
              "    }\n",
              "    60% {\n",
              "      border-color: transparent;\n",
              "      border-right-color: var(--fill-color);\n",
              "    }\n",
              "    80% {\n",
              "      border-color: transparent;\n",
              "      border-right-color: var(--fill-color);\n",
              "      border-bottom-color: var(--fill-color);\n",
              "    }\n",
              "    90% {\n",
              "      border-color: transparent;\n",
              "      border-bottom-color: var(--fill-color);\n",
              "    }\n",
              "  }\n",
              "</style>\n",
              "\n",
              "  <script>\n",
              "    async function quickchart(key) {\n",
              "      const quickchartButtonEl =\n",
              "        document.querySelector('#' + key + ' button');\n",
              "      quickchartButtonEl.disabled = true;  // To prevent multiple clicks.\n",
              "      quickchartButtonEl.classList.add('colab-df-spinner');\n",
              "      try {\n",
              "        const charts = await google.colab.kernel.invokeFunction(\n",
              "            'suggestCharts', [key], {});\n",
              "      } catch (error) {\n",
              "        console.error('Error during call to suggestCharts:', error);\n",
              "      }\n",
              "      quickchartButtonEl.classList.remove('colab-df-spinner');\n",
              "      quickchartButtonEl.classList.add('colab-df-quickchart-complete');\n",
              "    }\n",
              "    (() => {\n",
              "      let quickchartButtonEl =\n",
              "        document.querySelector('#df-a5d979e4-3cfc-436e-a5fc-e23d1c407b99 button');\n",
              "      quickchartButtonEl.style.display =\n",
              "        google.colab.kernel.accessAllowed ? 'block' : 'none';\n",
              "    })();\n",
              "  </script>\n",
              "</div>\n",
              "\n",
              "    </div>\n",
              "  </div>\n"
            ],
            "application/vnd.google.colaboratory.intrinsic+json": {
              "type": "dataframe",
              "variable_name": "vaders",
              "summary": "{\n  \"name\": \"vaders\",\n  \"rows\": 644,\n  \"fields\": [\n    {\n      \"column\": \"Id\",\n      \"properties\": {\n        \"dtype\": \"number\",\n        \"std\": 186,\n        \"min\": 1,\n        \"max\": 644,\n        \"num_unique_values\": 644,\n        \"samples\": [\n          632,\n          593,\n          600\n        ],\n        \"semantic_type\": \"\",\n        \"description\": \"\"\n      }\n    },\n    {\n      \"column\": \"neg\",\n      \"properties\": {\n        \"dtype\": \"number\",\n        \"std\": 0.04280513633081167,\n        \"min\": 0.0,\n        \"max\": 0.454,\n        \"num_unique_values\": 67,\n        \"samples\": [\n          0.133,\n          0.072,\n          0.183\n        ],\n        \"semantic_type\": \"\",\n        \"description\": \"\"\n      }\n    },\n    {\n      \"column\": \"neu\",\n      \"properties\": {\n        \"dtype\": \"number\",\n        \"std\": 0.22952245092367266,\n        \"min\": 0.0,\n        \"max\": 1.0,\n        \"num_unique_values\": 353,\n        \"samples\": [\n          0.334,\n          0.469,\n          0.715\n        ],\n        \"semantic_type\": \"\",\n        \"description\": \"\"\n      }\n    },\n    {\n      \"column\": \"pos\",\n      \"properties\": {\n        \"dtype\": \"number\",\n        \"std\": 0.23747480518259187,\n        \"min\": 0.0,\n        \"max\": 1.0,\n        \"num_unique_values\": 364,\n        \"samples\": [\n          0.451,\n          0.796,\n          0.481\n        ],\n        \"semantic_type\": \"\",\n        \"description\": \"\"\n      }\n    },\n    {\n      \"column\": \"compound\",\n      \"properties\": {\n        \"dtype\": \"number\",\n        \"std\": 0.29134416263832413,\n        \"min\": -0.9071,\n        \"max\": 0.9996,\n        \"num_unique_values\": 343,\n        \"samples\": [\n          0.9077,\n          0.4754,\n          0.7707\n        ],\n        \"semantic_type\": \"\",\n        \"description\": \"\"\n      }\n    },\n    {\n      \"column\": \"overall\",\n      \"properties\": {\n        \"dtype\": \"number\",\n        \"std\": 0.4992677423455239,\n        \"min\": 1.0,\n        \"max\": 5.0,\n        \"num_unique_values\": 5,\n        \"samples\": [\n          1.0,\n          2.0,\n          4.0\n        ],\n        \"semantic_type\": \"\",\n        \"description\": \"\"\n      }\n    },\n    {\n      \"column\": \"verified\",\n      \"properties\": {\n        \"dtype\": \"boolean\",\n        \"num_unique_values\": 2,\n        \"samples\": [\n          true,\n          false\n        ],\n        \"semantic_type\": \"\",\n        \"description\": \"\"\n      }\n    },\n    {\n      \"column\": \"reviewTime\",\n      \"properties\": {\n        \"dtype\": \"object\",\n        \"num_unique_values\": 464,\n        \"samples\": [\n          \"04 12, 2018\",\n          \"02 25, 2018\"\n        ],\n        \"semantic_type\": \"\",\n        \"description\": \"\"\n      }\n    },\n    {\n      \"column\": \"reviewerID\",\n      \"properties\": {\n        \"dtype\": \"string\",\n        \"num_unique_values\": 644,\n        \"samples\": [\n          \"A13ERVYVBZN1W6\",\n          \"A11SKW4WOXO7ER\"\n        ],\n        \"semantic_type\": \"\",\n        \"description\": \"\"\n      }\n    },\n    {\n      \"column\": \"asin\",\n      \"properties\": {\n        \"dtype\": \"category\",\n        \"num_unique_values\": 1,\n        \"samples\": [\n          \"0385376715\"\n        ],\n        \"semantic_type\": \"\",\n        \"description\": \"\"\n      }\n    },\n    {\n      \"column\": \"style\",\n      \"properties\": {\n        \"dtype\": \"category\",\n        \"num_unique_values\": 2,\n        \"samples\": [\n          \"{'Format:': ' Kindle Edition'}\"\n        ],\n        \"semantic_type\": \"\",\n        \"description\": \"\"\n      }\n    },\n    {\n      \"column\": \"reviewerName\",\n      \"properties\": {\n        \"dtype\": \"string\",\n        \"num_unique_values\": 591,\n        \"samples\": [\n          \"Deborah Zavaleta\"\n        ],\n        \"semantic_type\": \"\",\n        \"description\": \"\"\n      }\n    },\n    {\n      \"column\": \"reviewText\",\n      \"properties\": {\n        \"dtype\": \"string\",\n        \"num_unique_values\": 628,\n        \"samples\": [\n          \"no opinion never saw this book\"\n        ],\n        \"semantic_type\": \"\",\n        \"description\": \"\"\n      }\n    },\n    {\n      \"column\": \"summary\",\n      \"properties\": {\n        \"dtype\": \"string\",\n        \"num_unique_values\": 393,\n        \"samples\": [\n          \"Clebrating kids of all types & whoever they grow up to be\"\n        ],\n        \"semantic_type\": \"\",\n        \"description\": \"\"\n      }\n    },\n    {\n      \"column\": \"unixReviewTime\",\n      \"properties\": {\n        \"dtype\": \"number\",\n        \"std\": 22852673,\n        \"min\": 1440460800,\n        \"max\": 1525305600,\n        \"num_unique_values\": 464,\n        \"samples\": [\n          1523491200\n        ],\n        \"semantic_type\": \"\",\n        \"description\": \"\"\n      }\n    },\n    {\n      \"column\": \"vote\",\n      \"properties\": {\n        \"dtype\": \"category\",\n        \"num_unique_values\": 19,\n        \"samples\": [\n          \"58\"\n        ],\n        \"semantic_type\": \"\",\n        \"description\": \"\"\n      }\n    },\n    {\n      \"column\": \"image\",\n      \"properties\": {\n        \"dtype\": \"category\",\n        \"num_unique_values\": 2,\n        \"samples\": [\n          \"['https://images-na.ssl-images-amazon.com/images/I/717FsnzSseL._SY88.jpg']\"\n        ],\n        \"semantic_type\": \"\",\n        \"description\": \"\"\n      }\n    }\n  ]\n}"
            }
          },
          "metadata": {},
          "execution_count": 23
        }
      ]
    },
    {
      "cell_type": "markdown",
      "source": [
        "#Plot VADER results"
      ],
      "metadata": {
        "id": "uh9DAuDZyMj9"
      }
    },
    {
      "cell_type": "code",
      "source": [
        "ax = sns.barplot(data=vaders, x='overall', y='compound',palette='viridis')\n",
        "ax.set_title('Compund Score by Amazon Star Review')\n",
        "plt.show()"
      ],
      "metadata": {
        "id": "JP1RzKWdyTJ2",
        "outputId": "bc7dae59-7978-4ddb-ca99-a3d0ff5d341a",
        "colab": {
          "base_uri": "https://localhost:8080/",
          "height": 584
        }
      },
      "execution_count": null,
      "outputs": [
        {
          "output_type": "stream",
          "name": "stderr",
          "text": [
            "<ipython-input-24-2c2bab3e2b85>:1: FutureWarning: \n",
            "\n",
            "Passing `palette` without assigning `hue` is deprecated and will be removed in v0.14.0. Assign the `x` variable to `hue` and set `legend=False` for the same effect.\n",
            "\n",
            "  ax = sns.barplot(data=vaders, x='overall', y='compound',palette='viridis')\n"
          ]
        },
        {
          "output_type": "display_data",
          "data": {
            "text/plain": [
              "<Figure size 640x480 with 1 Axes>"
            ],
            "image/png": "[encoded data removed]"
          },
          "metadata": {}
        }
      ]
    },
    {
      "cell_type": "code",
      "source": [
        "fig, axs = plt.subplots(1, 3, figsize=(12, 3))\n",
        "sns.barplot(data=vaders, x='overall',hue='overall',y='pos', ax=axs[0],palette='viridis')\n",
        "sns.barplot(data=vaders, x='overall',hue='overall', y='neu', ax=axs[1],palette='viridis')\n",
        "sns.barplot(data=vaders, x='overall',hue='overall', y='neg', ax=axs[2],palette='viridis')\n",
        "axs[0].set_title('Positive')\n",
        "axs[0].get_legend().remove()\n",
        "axs[1].set_title('Neutral')\n",
        "axs[1].get_legend().remove()\n",
        "axs[2].set_title('Negative')\n",
        "axs[2].get_legend().remove()\n",
        "plt.tight_layout()\n",
        "plt.show()"
      ],
      "metadata": {
        "id": "HGSP1TIry2xr",
        "outputId": "a0ece475-9ccd-4f83-85af-a8271f683977",
        "colab": {
          "base_uri": "https://localhost:8080/",
          "height": 279
        }
      },
      "execution_count": null,
      "outputs": [
        {
          "output_type": "display_data",
          "data": {
            "text/plain": [
              "<Figure size 1200x300 with 3 Axes>"
            ],
            "image/png": "[encoded data removed]"
          },
          "metadata": {}
        }
      ]
    },
    {
      "cell_type": "markdown",
      "source": [
        "##Roberta##\n",
        "Use a model trained of a large corpus of data.<br>\n",
        "Transformer model accounts for the words but also the context related to other words."
      ],
      "metadata": {
        "id": "YZ7bDHf_GadL"
      }
    },
    {
      "cell_type": "code",
      "source": [
        "from transformers import AutoTokenizer\n",
        "from transformers import AutoModelForSequenceClassification\n",
        "from scipy.special import softmax"
      ],
      "metadata": {
        "id": "iOur0TlhG23o"
      },
      "execution_count": null,
      "outputs": []
    },
    {
      "cell_type": "code",
      "source": [
        "from google.colab import userdata\n",
        "userdata.get('HF_TOKEN')"
      ],
      "metadata": {
        "id": "k-SVTSCiLLp-",
        "outputId": "e94b1599-219c-4060-ba32-607d02ebf45a",
        "colab": {
          "base_uri": "https://localhost:8080/",
          "height": 280
        }
      },
      "execution_count": null,
      "outputs": [
        {
          "output_type": "error",
          "ename": "SecretNotFoundError",
          "evalue": "Secret HF_TOKEN does not exist.",
          "traceback": [
            "\u001b[0;31m---------------------------------------------------------------------------\u001b[0m",
            "\u001b[0;31mSecretNotFoundError\u001b[0m                       Traceback (most recent call last)",
            "\u001b[0;32m<ipython-input-27-d2843ec16104>\u001b[0m in \u001b[0;36m<cell line: 2>\u001b[0;34m()\u001b[0m\n\u001b[1;32m      1\u001b[0m \u001b[0;32mfrom\u001b[0m \u001b[0mgoogle\u001b[0m\u001b[0;34m.\u001b[0m\u001b[0mcolab\u001b[0m \u001b[0;32mimport\u001b[0m \u001b[0muserdata\u001b[0m\u001b[0;34m\u001b[0m\u001b[0;34m\u001b[0m\u001b[0m\n\u001b[0;32m----> 2\u001b[0;31m \u001b[0muserdata\u001b[0m\u001b[0;34m.\u001b[0m\u001b[0mget\u001b[0m\u001b[0;34m(\u001b[0m\u001b[0;34m'HF_TOKEN'\u001b[0m\u001b[0;34m)\u001b[0m\u001b[0;34m\u001b[0m\u001b[0;34m\u001b[0m\u001b[0m\n\u001b[0m",
            "\u001b[0;32m/usr/local/lib/python3.10/dist-packages/google/colab/userdata.py\u001b[0m in \u001b[0;36mget\u001b[0;34m(key)\u001b[0m\n\u001b[1;32m     51\u001b[0m     )\n\u001b[1;32m     52\u001b[0m   \u001b[0;32mif\u001b[0m \u001b[0;32mnot\u001b[0m \u001b[0mresp\u001b[0m\u001b[0;34m.\u001b[0m\u001b[0mget\u001b[0m\u001b[0;34m(\u001b[0m\u001b[0;34m'exists'\u001b[0m\u001b[0;34m,\u001b[0m \u001b[0;32mFalse\u001b[0m\u001b[0;34m)\u001b[0m\u001b[0;34m:\u001b[0m\u001b[0;34m\u001b[0m\u001b[0;34m\u001b[0m\u001b[0m\n\u001b[0;32m---> 53\u001b[0;31m     \u001b[0;32mraise\u001b[0m \u001b[0mSecretNotFoundError\u001b[0m\u001b[0;34m(\u001b[0m\u001b[0mkey\u001b[0m\u001b[0;34m)\u001b[0m\u001b[0;34m\u001b[0m\u001b[0;34m\u001b[0m\u001b[0m\n\u001b[0m\u001b[1;32m     54\u001b[0m   \u001b[0;32mif\u001b[0m \u001b[0;32mnot\u001b[0m \u001b[0mresp\u001b[0m\u001b[0;34m.\u001b[0m\u001b[0mget\u001b[0m\u001b[0;34m(\u001b[0m\u001b[0;34m'access'\u001b[0m\u001b[0;34m,\u001b[0m \u001b[0;32mFalse\u001b[0m\u001b[0;34m)\u001b[0m\u001b[0;34m:\u001b[0m\u001b[0;34m\u001b[0m\u001b[0;34m\u001b[0m\u001b[0m\n\u001b[1;32m     55\u001b[0m     \u001b[0;32mraise\u001b[0m \u001b[0mNotebookAccessError\u001b[0m\u001b[0;34m(\u001b[0m\u001b[0mkey\u001b[0m\u001b[0;34m)\u001b[0m\u001b[0;34m\u001b[0m\u001b[0;34m\u001b[0m\u001b[0m\n",
            "\u001b[0;31mSecretNotFoundError\u001b[0m: Secret HF_TOKEN does not exist."
          ]
        }
      ]
    },
    {
      "cell_type": "code",
      "source": [
        "from getpass import getpass\n",
        "token = getpass('Enter your Hugging Face token:')"
      ],
      "metadata": {
        "id": "NFO6SU-SK4Rc"
      },
      "execution_count": null,
      "outputs": []
    },
    {
      "cell_type": "code",
      "source": [
        "from huggingface_hub import notebook_login\n",
        "\n",
        "notebook_login(token)"
      ],
      "metadata": {
        "id": "PxLQcYC2LBce"
      },
      "execution_count": null,
      "outputs": []
    },
    {
      "cell_type": "code",
      "source": [
        "MODEL = f\"cardiffnlp/twitter-roberta-base-sentiment\"\n",
        "tokenizer = AutoTokenizer.from_pretrained(MODEL)\n",
        "model = AutoModelForSequenceClassification.from_pretrained(MODEL)"
      ],
      "metadata": {
        "id": "jH-SDUfAIdts"
      },
      "execution_count": null,
      "outputs": []
    },
    {
      "cell_type": "code",
      "source": [
        "print(example)"
      ],
      "metadata": {
        "id": "ZSTP_k6ZQB5f"
      },
      "execution_count": null,
      "outputs": []
    }
  ]
}